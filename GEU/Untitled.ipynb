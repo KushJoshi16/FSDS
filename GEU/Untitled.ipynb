{
 "cells": [
  {
   "cell_type": "code",
   "execution_count": 33,
   "id": "f15e8cb6",
   "metadata": {},
   "outputs": [],
   "source": [
    "import pandas as pd\n",
    "import matplotlib.pyplot as plt\n",
    "import wordcloud as wc\n",
    "import re\n",
    "import emoji"
   ]
  },
  {
   "cell_type": "code",
   "execution_count": 76,
   "id": "f0da9ff8",
   "metadata": {},
   "outputs": [],
   "source": [
    "df=pd.read_csv(\"MergeTweets.csv\")"
   ]
  },
  {
   "cell_type": "code",
   "execution_count": 77,
   "id": "b6383c81",
   "metadata": {},
   "outputs": [],
   "source": [
    "dfgh = pd.read_csv(\"https://raw.githubusercontent.com/KushJoshi16/Gujrat_Election_Predictor/main/NER5.csv?token=GHSAT0AAAAAAB56PU52SQJZNFW3Y5DPZQAGY6ZGVBA\")"
   ]
  },
  {
   "cell_type": "code",
   "execution_count": 78,
   "id": "53f3374a",
   "metadata": {},
   "outputs": [
    {
     "data": {
      "text/html": [
       "<div>\n",
       "<style scoped>\n",
       "    .dataframe tbody tr th:only-of-type {\n",
       "        vertical-align: middle;\n",
       "    }\n",
       "\n",
       "    .dataframe tbody tr th {\n",
       "        vertical-align: top;\n",
       "    }\n",
       "\n",
       "    .dataframe thead th {\n",
       "        text-align: right;\n",
       "    }\n",
       "</style>\n",
       "<table border=\"1\" class=\"dataframe\">\n",
       "  <thead>\n",
       "    <tr style=\"text-align: right;\">\n",
       "      <th></th>\n",
       "      <th>Unnamed: 0</th>\n",
       "      <th>NER</th>\n",
       "    </tr>\n",
       "  </thead>\n",
       "  <tbody>\n",
       "    <tr>\n",
       "      <th>1272</th>\n",
       "      <td>1272</td>\n",
       "      <td>describ</td>\n",
       "    </tr>\n",
       "    <tr>\n",
       "      <th>1273</th>\n",
       "      <td>1273</td>\n",
       "      <td>swadeshimanch ykk joinswadeshi poojamadan agai...</td>\n",
       "    </tr>\n",
       "    <tr>\n",
       "      <th>1274</th>\n",
       "      <td>1274</td>\n",
       "      <td>congress dharamshala</td>\n",
       "    </tr>\n",
       "    <tr>\n",
       "      <th>1275</th>\n",
       "      <td>1275</td>\n",
       "      <td>break news kanchan</td>\n",
       "    </tr>\n",
       "    <tr>\n",
       "      <th>1276</th>\n",
       "      <td>1276</td>\n",
       "      <td>saab</td>\n",
       "    </tr>\n",
       "  </tbody>\n",
       "</table>\n",
       "</div>"
      ],
      "text/plain": [
       "      Unnamed: 0                                                NER\n",
       "1272        1272                                            describ\n",
       "1273        1273  swadeshimanch ykk joinswadeshi poojamadan agai...\n",
       "1274        1274                               congress dharamshala\n",
       "1275        1275                                 break news kanchan\n",
       "1276        1276                                               saab"
      ]
     },
     "execution_count": 78,
     "metadata": {},
     "output_type": "execute_result"
    }
   ],
   "source": [
    "dfgh.tail()"
   ]
  },
  {
   "cell_type": "code",
   "execution_count": 79,
   "id": "07d73cd7",
   "metadata": {},
   "outputs": [
    {
     "data": {
      "text/html": [
       "<div>\n",
       "<style scoped>\n",
       "    .dataframe tbody tr th:only-of-type {\n",
       "        vertical-align: middle;\n",
       "    }\n",
       "\n",
       "    .dataframe tbody tr th {\n",
       "        vertical-align: top;\n",
       "    }\n",
       "\n",
       "    .dataframe thead th {\n",
       "        text-align: right;\n",
       "    }\n",
       "</style>\n",
       "<table border=\"1\" class=\"dataframe\">\n",
       "  <thead>\n",
       "    <tr style=\"text-align: right;\">\n",
       "      <th></th>\n",
       "      <th>Unnamed: 0</th>\n",
       "      <th>Tweet Scraped</th>\n",
       "      <th>Username</th>\n",
       "      <th>Description</th>\n",
       "      <th>Location</th>\n",
       "      <th>Followinf Count</th>\n",
       "      <th>Followers Count</th>\n",
       "      <th>Total Tweets</th>\n",
       "      <th>Retweet Count</th>\n",
       "      <th>Tweet Text</th>\n",
       "      <th>Hashtags Used</th>\n",
       "    </tr>\n",
       "  </thead>\n",
       "  <tbody>\n",
       "    <tr>\n",
       "      <th>0</th>\n",
       "      <td>1</td>\n",
       "      <td>1</td>\n",
       "      <td>hatefreeworldX</td>\n",
       "      <td>Vasudhaiva Kutumbakam-World is family | Bharat...</td>\n",
       "      <td>🇮🇳🇧🇩🇵🇰🇱🇰🇧🇹🇳🇵</td>\n",
       "      <td>2019</td>\n",
       "      <td>13689</td>\n",
       "      <td>347524</td>\n",
       "      <td>72</td>\n",
       "      <td>An emotional appeal from a Gujarati Mata Ji to...</td>\n",
       "      <td>['GujaratElection2022']</td>\n",
       "    </tr>\n",
       "    <tr>\n",
       "      <th>1</th>\n",
       "      <td>3</td>\n",
       "      <td>2</td>\n",
       "      <td>sashastrakranti</td>\n",
       "      <td>सनातनी</td>\n",
       "      <td>NaN</td>\n",
       "      <td>448</td>\n",
       "      <td>90</td>\n",
       "      <td>2838</td>\n",
       "      <td>84</td>\n",
       "      <td>Can't stop laughing!! 🤣😂😂😂\\n\\nGujarat will not...</td>\n",
       "      <td>[]</td>\n",
       "    </tr>\n",
       "    <tr>\n",
       "      <th>2</th>\n",
       "      <td>5</td>\n",
       "      <td>3</td>\n",
       "      <td>GuptaPragnya</td>\n",
       "      <td>Constitution of India above all. My opinions a...</td>\n",
       "      <td>India</td>\n",
       "      <td>1784</td>\n",
       "      <td>10797</td>\n",
       "      <td>89266</td>\n",
       "      <td>66</td>\n",
       "      <td>Nomination rally of Congress candidate Gulab S...</td>\n",
       "      <td>[]</td>\n",
       "    </tr>\n",
       "    <tr>\n",
       "      <th>3</th>\n",
       "      <td>9</td>\n",
       "      <td>5</td>\n",
       "      <td>CongressFans</td>\n",
       "      <td>NaN</td>\n",
       "      <td>NaN</td>\n",
       "      <td>5081</td>\n",
       "      <td>19230</td>\n",
       "      <td>440481</td>\n",
       "      <td>34</td>\n",
       "      <td>Breaking news: Kanchan Jariwala, the #AAP's Su...</td>\n",
       "      <td>['AAP']</td>\n",
       "    </tr>\n",
       "    <tr>\n",
       "      <th>4</th>\n",
       "      <td>13</td>\n",
       "      <td>7</td>\n",
       "      <td>Har_preet_Kaur_</td>\n",
       "      <td>Assistant Professor of English | UGC NET Quali...</td>\n",
       "      <td>NaN</td>\n",
       "      <td>322</td>\n",
       "      <td>289</td>\n",
       "      <td>12116</td>\n",
       "      <td>5</td>\n",
       "      <td>@AAPHaryana Meanwhile AAP in Punjab 👇👇 #Justic...</td>\n",
       "      <td>['Justice_For_1158', 'GujaratElection2022']</td>\n",
       "    </tr>\n",
       "  </tbody>\n",
       "</table>\n",
       "</div>"
      ],
      "text/plain": [
       "   Unnamed: 0  Tweet Scraped         Username  \\\n",
       "0           1              1   hatefreeworldX   \n",
       "1           3              2  sashastrakranti   \n",
       "2           5              3     GuptaPragnya   \n",
       "3           9              5     CongressFans   \n",
       "4          13              7  Har_preet_Kaur_   \n",
       "\n",
       "                                         Description        Location  \\\n",
       "0  Vasudhaiva Kutumbakam-World is family | Bharat...   🇮🇳🇧🇩🇵🇰🇱🇰🇧🇹🇳🇵    \n",
       "1                                             सनातनी             NaN   \n",
       "2  Constitution of India above all. My opinions a...           India   \n",
       "3                                                NaN             NaN   \n",
       "4  Assistant Professor of English | UGC NET Quali...             NaN   \n",
       "\n",
       "   Followinf Count  Followers Count  Total Tweets  Retweet Count  \\\n",
       "0             2019            13689        347524             72   \n",
       "1              448               90          2838             84   \n",
       "2             1784            10797         89266             66   \n",
       "3             5081            19230        440481             34   \n",
       "4              322              289         12116              5   \n",
       "\n",
       "                                          Tweet Text  \\\n",
       "0  An emotional appeal from a Gujarati Mata Ji to...   \n",
       "1  Can't stop laughing!! 🤣😂😂😂\\n\\nGujarat will not...   \n",
       "2  Nomination rally of Congress candidate Gulab S...   \n",
       "3  Breaking news: Kanchan Jariwala, the #AAP's Su...   \n",
       "4  @AAPHaryana Meanwhile AAP in Punjab 👇👇 #Justic...   \n",
       "\n",
       "                                 Hashtags Used  \n",
       "0                      ['GujaratElection2022']  \n",
       "1                                           []  \n",
       "2                                           []  \n",
       "3                                      ['AAP']  \n",
       "4  ['Justice_For_1158', 'GujaratElection2022']  "
      ]
     },
     "execution_count": 79,
     "metadata": {},
     "output_type": "execute_result"
    }
   ],
   "source": [
    "df.head()"
   ]
  },
  {
   "cell_type": "code",
   "execution_count": 80,
   "id": "c0c8117b",
   "metadata": {},
   "outputs": [],
   "source": [
    "df.drop(['Tweet Scraped','Username','Location','Hashtags Used','Description'],axis=1,inplace=True)"
   ]
  },
  {
   "cell_type": "code",
   "execution_count": 81,
   "id": "dda88ae5",
   "metadata": {},
   "outputs": [
    {
     "data": {
      "text/html": [
       "<div>\n",
       "<style scoped>\n",
       "    .dataframe tbody tr th:only-of-type {\n",
       "        vertical-align: middle;\n",
       "    }\n",
       "\n",
       "    .dataframe tbody tr th {\n",
       "        vertical-align: top;\n",
       "    }\n",
       "\n",
       "    .dataframe thead th {\n",
       "        text-align: right;\n",
       "    }\n",
       "</style>\n",
       "<table border=\"1\" class=\"dataframe\">\n",
       "  <thead>\n",
       "    <tr style=\"text-align: right;\">\n",
       "      <th></th>\n",
       "      <th>Unnamed: 0</th>\n",
       "      <th>Followinf Count</th>\n",
       "      <th>Followers Count</th>\n",
       "      <th>Total Tweets</th>\n",
       "      <th>Retweet Count</th>\n",
       "      <th>Tweet Text</th>\n",
       "    </tr>\n",
       "  </thead>\n",
       "  <tbody>\n",
       "    <tr>\n",
       "      <th>0</th>\n",
       "      <td>1</td>\n",
       "      <td>2019</td>\n",
       "      <td>13689</td>\n",
       "      <td>347524</td>\n",
       "      <td>72</td>\n",
       "      <td>An emotional appeal from a Gujarati Mata Ji to...</td>\n",
       "    </tr>\n",
       "    <tr>\n",
       "      <th>1</th>\n",
       "      <td>3</td>\n",
       "      <td>448</td>\n",
       "      <td>90</td>\n",
       "      <td>2838</td>\n",
       "      <td>84</td>\n",
       "      <td>Can't stop laughing!! 🤣😂😂😂\\n\\nGujarat will not...</td>\n",
       "    </tr>\n",
       "    <tr>\n",
       "      <th>2</th>\n",
       "      <td>5</td>\n",
       "      <td>1784</td>\n",
       "      <td>10797</td>\n",
       "      <td>89266</td>\n",
       "      <td>66</td>\n",
       "      <td>Nomination rally of Congress candidate Gulab S...</td>\n",
       "    </tr>\n",
       "    <tr>\n",
       "      <th>3</th>\n",
       "      <td>9</td>\n",
       "      <td>5081</td>\n",
       "      <td>19230</td>\n",
       "      <td>440481</td>\n",
       "      <td>34</td>\n",
       "      <td>Breaking news: Kanchan Jariwala, the #AAP's Su...</td>\n",
       "    </tr>\n",
       "    <tr>\n",
       "      <th>4</th>\n",
       "      <td>13</td>\n",
       "      <td>322</td>\n",
       "      <td>289</td>\n",
       "      <td>12116</td>\n",
       "      <td>5</td>\n",
       "      <td>@AAPHaryana Meanwhile AAP in Punjab 👇👇 #Justic...</td>\n",
       "    </tr>\n",
       "  </tbody>\n",
       "</table>\n",
       "</div>"
      ],
      "text/plain": [
       "   Unnamed: 0  Followinf Count  Followers Count  Total Tweets  Retweet Count  \\\n",
       "0           1             2019            13689        347524             72   \n",
       "1           3              448               90          2838             84   \n",
       "2           5             1784            10797         89266             66   \n",
       "3           9             5081            19230        440481             34   \n",
       "4          13              322              289         12116              5   \n",
       "\n",
       "                                          Tweet Text  \n",
       "0  An emotional appeal from a Gujarati Mata Ji to...  \n",
       "1  Can't stop laughing!! 🤣😂😂😂\\n\\nGujarat will not...  \n",
       "2  Nomination rally of Congress candidate Gulab S...  \n",
       "3  Breaking news: Kanchan Jariwala, the #AAP's Su...  \n",
       "4  @AAPHaryana Meanwhile AAP in Punjab 👇👇 #Justic...  "
      ]
     },
     "execution_count": 81,
     "metadata": {},
     "output_type": "execute_result"
    }
   ],
   "source": [
    "df.head()"
   ]
  },
  {
   "cell_type": "code",
   "execution_count": 83,
   "id": "24355a15",
   "metadata": {},
   "outputs": [
    {
     "data": {
      "text/plain": [
       "(2123, 6)"
      ]
     },
     "execution_count": 83,
     "metadata": {},
     "output_type": "execute_result"
    }
   ],
   "source": [
    "df.shape"
   ]
  },
  {
   "cell_type": "code",
   "execution_count": 84,
   "id": "70ddb188",
   "metadata": {},
   "outputs": [],
   "source": [
    "df['Tweet Text'] = df['Tweet Text'].str.lower()"
   ]
  },
  {
   "cell_type": "code",
   "execution_count": 85,
   "id": "315d9f14",
   "metadata": {},
   "outputs": [],
   "source": [
    "dc = ['bcci','ipl','rohit','ravindra jadeja']\n",
    "def removebcci(str):\n",
    "    for i in str:\n",
    "        if i in dc:\n",
    "            return ''\n",
    "    return str"
   ]
  },
  {
   "cell_type": "code",
   "execution_count": 86,
   "id": "46772663",
   "metadata": {},
   "outputs": [],
   "source": [
    "df['Tweet Text'] = df['Tweet Text'].apply(removebcci)"
   ]
  },
  {
   "cell_type": "code",
   "execution_count": 87,
   "id": "593327a9",
   "metadata": {},
   "outputs": [
    {
     "data": {
      "text/html": [
       "<div>\n",
       "<style scoped>\n",
       "    .dataframe tbody tr th:only-of-type {\n",
       "        vertical-align: middle;\n",
       "    }\n",
       "\n",
       "    .dataframe tbody tr th {\n",
       "        vertical-align: top;\n",
       "    }\n",
       "\n",
       "    .dataframe thead th {\n",
       "        text-align: right;\n",
       "    }\n",
       "</style>\n",
       "<table border=\"1\" class=\"dataframe\">\n",
       "  <thead>\n",
       "    <tr style=\"text-align: right;\">\n",
       "      <th></th>\n",
       "      <th>Unnamed: 0</th>\n",
       "      <th>Followinf Count</th>\n",
       "      <th>Followers Count</th>\n",
       "      <th>Total Tweets</th>\n",
       "      <th>Retweet Count</th>\n",
       "      <th>Tweet Text</th>\n",
       "    </tr>\n",
       "  </thead>\n",
       "  <tbody>\n",
       "    <tr>\n",
       "      <th>0</th>\n",
       "      <td>1</td>\n",
       "      <td>2019</td>\n",
       "      <td>13689</td>\n",
       "      <td>347524</td>\n",
       "      <td>72</td>\n",
       "      <td>an emotional appeal from a gujarati mata ji to...</td>\n",
       "    </tr>\n",
       "    <tr>\n",
       "      <th>1</th>\n",
       "      <td>3</td>\n",
       "      <td>448</td>\n",
       "      <td>90</td>\n",
       "      <td>2838</td>\n",
       "      <td>84</td>\n",
       "      <td>can't stop laughing!! 🤣😂😂😂\\n\\ngujarat will not...</td>\n",
       "    </tr>\n",
       "    <tr>\n",
       "      <th>2</th>\n",
       "      <td>5</td>\n",
       "      <td>1784</td>\n",
       "      <td>10797</td>\n",
       "      <td>89266</td>\n",
       "      <td>66</td>\n",
       "      <td>nomination rally of congress candidate gulab s...</td>\n",
       "    </tr>\n",
       "    <tr>\n",
       "      <th>3</th>\n",
       "      <td>9</td>\n",
       "      <td>5081</td>\n",
       "      <td>19230</td>\n",
       "      <td>440481</td>\n",
       "      <td>34</td>\n",
       "      <td>breaking news: kanchan jariwala, the #aap's su...</td>\n",
       "    </tr>\n",
       "    <tr>\n",
       "      <th>4</th>\n",
       "      <td>13</td>\n",
       "      <td>322</td>\n",
       "      <td>289</td>\n",
       "      <td>12116</td>\n",
       "      <td>5</td>\n",
       "      <td>@aapharyana meanwhile aap in punjab 👇👇 #justic...</td>\n",
       "    </tr>\n",
       "  </tbody>\n",
       "</table>\n",
       "</div>"
      ],
      "text/plain": [
       "   Unnamed: 0  Followinf Count  Followers Count  Total Tweets  Retweet Count  \\\n",
       "0           1             2019            13689        347524             72   \n",
       "1           3              448               90          2838             84   \n",
       "2           5             1784            10797         89266             66   \n",
       "3           9             5081            19230        440481             34   \n",
       "4          13              322              289         12116              5   \n",
       "\n",
       "                                          Tweet Text  \n",
       "0  an emotional appeal from a gujarati mata ji to...  \n",
       "1  can't stop laughing!! 🤣😂😂😂\\n\\ngujarat will not...  \n",
       "2  nomination rally of congress candidate gulab s...  \n",
       "3  breaking news: kanchan jariwala, the #aap's su...  \n",
       "4  @aapharyana meanwhile aap in punjab 👇👇 #justic...  "
      ]
     },
     "execution_count": 87,
     "metadata": {},
     "output_type": "execute_result"
    }
   ],
   "source": [
    "df.head()"
   ]
  },
  {
   "cell_type": "code",
   "execution_count": 89,
   "id": "225b1880",
   "metadata": {},
   "outputs": [
    {
     "data": {
      "text/plain": [
       "(2123, 6)"
      ]
     },
     "execution_count": 89,
     "metadata": {},
     "output_type": "execute_result"
    }
   ],
   "source": [
    "df.shape"
   ]
  },
  {
   "cell_type": "code",
   "execution_count": 90,
   "id": "bee5321b",
   "metadata": {},
   "outputs": [],
   "source": [
    " # removal of \n",
    "def clean(text):\n",
    "    text= re.sub(r'https?://[^ ]+', '', text)  # links\n",
    "#     text= re.sub(r'@[^ ]+', '', text)           # username\n",
    "#     text=re.sub(r'#', '', text)                    # hashtag\n",
    "    #text=emoji.demojize(text)                # emoji to text\n",
    "    text = re.sub(\"@[A-Za-z0-9_]+\",\"\", text)\n",
    "    text  = re.sub(r'#','', text)\n",
    "    text=re.sub(r'[^A-Za-z ]', '', text)\n",
    "    return text\n",
    "def clean2(text):\n",
    "    text= re.sub(r'https?://[^ ]+', '', text)  # links\n",
    "    text = re.sub(r'@','', text)\n",
    "    text  = re.sub(r'#','', text)\n",
    "    text=re.sub(r'[^A-Za-z ]', '', text)\n",
    "    return text"
   ]
  },
  {
   "cell_type": "code",
   "execution_count": 91,
   "id": "63c47288",
   "metadata": {},
   "outputs": [],
   "source": [
    "df1 = df['Tweet Text'].apply(lambda x: clean(x))"
   ]
  },
  {
   "cell_type": "code",
   "execution_count": 92,
   "id": "c16fff2e",
   "metadata": {},
   "outputs": [
    {
     "data": {
      "text/plain": [
       "0    an emotional appeal from a gujarati mata ji to...\n",
       "1    cant stop laughing gujarat will not fall in hi...\n",
       "2    nomination rally of congress candidate gulab s...\n",
       "3    breaking news kanchan jariwala the aaps surat ...\n",
       "4     meanwhile aap in punjab  justicefor  gujarate...\n",
       "Name: Tweet Text, dtype: object"
      ]
     },
     "execution_count": 92,
     "metadata": {},
     "output_type": "execute_result"
    }
   ],
   "source": [
    "df1.head()"
   ]
  },
  {
   "cell_type": "code",
   "execution_count": 93,
   "id": "be5b4596",
   "metadata": {},
   "outputs": [
    {
     "data": {
      "text/plain": [
       "(2123, 6)"
      ]
     },
     "execution_count": 93,
     "metadata": {},
     "output_type": "execute_result"
    }
   ],
   "source": [
    "df.shape"
   ]
  },
  {
   "cell_type": "code",
   "execution_count": 94,
   "id": "215e0bed",
   "metadata": {},
   "outputs": [],
   "source": [
    "import spacy\n",
    "from spacy import displacy\n",
    "nlp = spacy.load(\"en_core_web_sm\")"
   ]
  },
  {
   "cell_type": "code",
   "execution_count": 95,
   "id": "e3148228",
   "metadata": {},
   "outputs": [
    {
     "ename": "SyntaxError",
     "evalue": "invalid syntax (2142540386.py, line 6)",
     "output_type": "error",
     "traceback": [
      "\u001b[0;36m  File \u001b[0;32m\"/var/folders/q0/mnnxg2715ldbdr542lfqmx_r0000gn/T/ipykernel_16763/2142540386.py\"\u001b[0;36m, line \u001b[0;32m6\u001b[0m\n\u001b[0;31m    if(word)\u001b[0m\n\u001b[0m            ^\u001b[0m\n\u001b[0;31mSyntaxError\u001b[0m\u001b[0;31m:\u001b[0m invalid syntax\n"
     ]
    }
   ],
   "source": [
    "a=list()\n",
    "def ner(text):\n",
    "    doc=nlp(text)\n",
    "    for word in doc.ents:\n",
    "#         if(word.text in ipts):\n",
    "        if(word)\n",
    "        a.append(word.text)\n",
    "       # print(word.text,word.label_,str(spacy.explain(word.label_)))\n",
    "       #print(a)\n",
    "        \n",
    "for i in df1:\n",
    "    ner(i)"
   ]
  },
  {
   "cell_type": "code",
   "execution_count": 96,
   "id": "c6c85860",
   "metadata": {},
   "outputs": [],
   "source": [
    "d = pd.DataFrame(a)"
   ]
  },
  {
   "cell_type": "code",
   "execution_count": 97,
   "id": "58fa551f",
   "metadata": {},
   "outputs": [],
   "source": [
    "d = ' '.join(a)"
   ]
  },
  {
   "cell_type": "code",
   "execution_count": 49,
   "id": "a0f63ac5",
   "metadata": {},
   "outputs": [],
   "source": [
    "ipts = ' '.join(dfgh[\"NER\"])"
   ]
  },
  {
   "cell_type": "code",
   "execution_count": 98,
   "id": "0bc7d482",
   "metadata": {},
   "outputs": [
    {
     "data": {
      "text/plain": [
       "'gujarati congress gulab singh tharad kanchan jariwala ki maala bjp gujarat parshottam rupala one gujarat gujarat congress muslim gujarat delhi more than a decade ravindra jadejas tharad gujaratelection november three saurashtra accused manishsisodia congress aappolitician delhi mumbai gujarat bjp goons aftabaminpoonawala congress ho gaya naam list mein declare kiyagreat indian india gujarat india gujarat gujarat gujarat indian anna surat east kejriwal gujarat delhi gujarat kejriwal gujarati gujarat electionday a week ago jiyesterday kumar vasava gujarat congress congress days kanchan jariwala   congress gujarat jana pm modi amit shah jamnagar north daily pm modi amit shah jamnagar north ncp indian karke bola mein kisi naam declare hua gujarat assembly gujarat jana maine banayagujarat gujaratelection congress gulab singh tharad two all these years gujarat gujarat gujarat indian gujarat kattar beiman party one the kanchan jariwala congress gujarat gujarat gujarat telangana bjp the upcoming gujarat assembly polls  kheralu  sardarsinh chaudhary mansa jayantibhai patel garbada  mahendra indianmedia bjpjamalpurkhadiakhadiajamalpurkhadia fatima yasir gujarat gujarat november gujarat nov saurashtra narendra gujarat congress tharad congress gujarat assembly polls bjp gujarat tomorrow second second wednesday ncp congress one the upcoming gujarat assembly electionsgujaratassemblypolls  pollswithair one gujaratassemblypolls bjp three gujaratassemblypolls bjp three gujarat congress gujarat darr modi ki intro gujaratassemblypolls cartoon   congress one gujarat congress mla niranjan india pmmodiatg congress congress jigneshmevani pitches congress gujaratassemblypolls bjp gujaratassemblypolls bjp saturday saturday gujarat thenews gujarat november congress december kyun hai aapwaveingujarat kanchanjariwala gujaratelections breakingnews congress surat kanchanjariwala aam aadmi party kanchanjariwala gujarat gujaratassemblypolls congress bhupendra patel congress seventh delhi cm  claims kanchan jariwala gujarat cm face gujarat assembly elections vote raha hai ko congress patel gujarat assembly pollsreshmapatel aapgujarat union home wednesday amitshah gujarat gujarat shah cm gujarat gujarat one manasa assembly himgujarat surat manishsisodiya bjp bjpkidnapsaapcandidate gujarat kejriwal amitshah rahul joshi the newss gujarat adhiveshan eventgujarat gujaratassemblypolls ucc gujarat cm bhupendra patel union home minister amit shah gujarat assembly polls shashi congress congress congress gujarat cm bhupendra patel union home minister amit shah timesofindia gujarat cm bhupendra patel union home minister amit shah cm face gujarat bhupendra patel rt  amit shah bhupendra patel timesofindia gujarat cm bhupendra patel union home minister amit shah rt  amit shah bhupendra patel rt  amit shah bhupendra patel gujaratelections pakistan china gujarat bjp aap congress rt  amit shah bhupendra patel rt  amit shah bhupendra patel kanchan jariwala max december sisodia gujarat delhi arvind kejriwal cm  today kanchan jariwala gujarat kanchan jariwala november gujarat cm bhupendra patel union home minister amit shahgujaratelections ani  catch days gujaratassemblypolls arvindkejriwal kanchan jariwala gujarat watch  union home amitshah cm bhupendrapatels december december congress star campaignerslistgujaratassemblypolls congress gujarat assembly polls shashi tharoor opts congress gujarat congress delhi cm  claims kanchan jariwala delhi cm kejriwal gujarat this year congress indranilrajguru congress first parivartanaaveche arvindkejriwal congress karsan vadodariya kanchan jariwala anil superfastnews gujarat cm kanchan jariwala surat east assembly congress three gujarat gujarat bjp singh solanki congress gujarat watch   congress gujarat cr patil samir dave india congress zero delhi gujarat kutiyan mla kandhal jadeja ncp parivartanaaveche arvindkejriwal gujarat rivaba jadeja gujarat gujarat bhupendra patel congress the gujarat assembly polls congress gujarat assembly ncp one congress gujarat nirnjan patel congress manoj kukrani congress gujarat the last two days congress satta bazar predictiongujarat bjp congress gujarat modi bjp india india kanchal jariwala congress kanchan jariwala aam aadmi party congress gujarat jignesh mevani three jaishriram  hindutava three gujarat assembly sisodia three gujarat assembly polls gujarat today nominationgujarat cm bhupendra patel amitshah gujaratelections gujarat intensifiesso gujarat snehal joshi gujarat gujarat gujarat explosivesas kanchan jariwala gujarat arshadsharif artemis artemis afazenda shanquellarobinson poland india gujarat ec gujarat aaps surat candidate kidnappingaap surat bjp electioncommission kanchanjariwala gujarat justiceforpriya lovejihaad gujarat two samir dave british gandhi naroda kanchan zariwala surat gujarat gujarat news aap state patel gujarat east kanchan zariwala bjp reaches assembly election office ravindra jadejas gujarat bhupendra patel gujarat tanushree aapgujarat punjab day red alert aapkadramagujarat assembly bypolls union home amitshah gujarat gujarat kanchan jariwala last evening kanchan jariwala gujarat today ji kaka ji vadodaras raopura india the surat east gujarat bjp the upcoming gujarat assembly polls  gujaratelections congress gujarat sachin pilotharish chowdharyajay makenthe congress mallikarjun kharge gujarat aapwaveingujarat aapwaveingujarat gujarat congress november the last date gujarat gujarat aapgujarat morbi gujarat cum ceo gujarat bhupendra patel indiasagenda years gujarat kanchan jariwala last evening congress malliakrjun sonia gandhi rahul gandhi gandhi cms mevani kanhaiya kumar gujarat october gujarat bhupendra patel gujarat india delhi gujarat kanchan jariwala gujarat kahaniwhich union home gujarat cm bhupendra patel aniasdnews amitshah gujarat gujarat cm  holds first congress congress gujarat gujarat congress north gujarat rivaba jadeja congress gujarat kanchan jariwala surat east raghav chadha surat east kanchan jariwala yesterday surat east kanchan jariwala yesterday gujarat gujaratelectionsgujaratwithkejriwalgujaratnews india kejriwal kutiyan mla kandhal jadeja ncp gujarat leftrightcentre  congress leftrightcentre  shubh malhotra gujarat kalpeshbhai sundhiyas today gujarat congress gujarat two days saurashtra congress gujarat south zonemr north kh first vadodaranews news gujarat congress candidatelist gujarat assembly three second vidhan sabha madhu vadodaranews news gujarat vadodaranews news gujarat anar patel vadodaranews news gujarat gujarat cm bhupendra patel union home minister amit shahrally taarak narendra tarakmehtakaultachashma tmkoc gujaratelection assemblyelections gujarat gujarat shah cm cmbhupendrapatel ghatlodia amitshah gujarat cm bhupendrapatel gujarat today today cec rajiv kumar lok poll lok sabha congress vadodaranews news gujarat gujarat first november gujarat the next months gujarat first today december rivaba gujarat two december gujarat hours gujarat first today december third bjp gujarat assembly polls assemblyelections gandhi congress gujarat assembly congress congress rivaba ketan vadodaranews news gujarat gujarat congress vrs karnataka congress congress gujarat ourvadodara breakingnews pradeshnewsxs vipin second muslims first gujarat today tomorrow december india karnataka hindu pollsnewskarnataka karnataka rupani s cm siddaramaiah first gujarat today tomorrow december congress congress today next month jarur dalna congress hindu tej trendingnews newsfeed india new delhi the gujarat assembly general election assemblyelections hamirpur congress december electioncommissionofindia congress saturday november congress thakur ketan inamdar gujarat congress thakur singh congress gujarat gujarat gujaratelection sadhana thakur chandrika thakur today saturday the padampur assembly congress december electioncommissionofindia kasumpti congress the last decade congress singh two chasak election day today vadodaranews news gujarat ourvadodara breakingnews gujarat gujarat gujaratelection acp hardik makadia cybercrime vadodara city the electionssocialmedia assemblyelections vadodara vadodaranews news churah congress cm jairamthakur thakur congress cm jairamthakur congress congress saturday second six the upcoming gujarat assembly electionsbjp bjpindia gujarat vijaypur congress morning jai ram thakur thakur prem kumar the tiny hill himalayan foothills the last five years five the first hour early morning hours himachals jairamthakur india second congress thakur hamirpur thakur congress himachalpradeshassemblyelections cm congress congress singh mla vikramaditya singh rampur newsxs anurag sharma thakur thakur congress himachalpradesh cm thakur thakur sadhana thakur chandrika thakur thakur thakur congress saturday himachalpradesh cm sadhana thakur chandrika thakur hamirpur sadhana thakur chandrika thakur hamirpur sadhana thakur chandrika thakur saturday sadhana thakur chandrika thakur himachalpradesh cm sadhana thakur chandrika thakur dharamshala congress sadhana thakur chandrika thakur sadhanathakur today pm modi inaugurates new terminal khatauli today three congress congress gujarat assembly november every five years november congress the hill state gujarat overtakes delhi india aapgujarat aapcm india aapgujarat aapcm gujarat overtakes delhi gujarat overtakes delhi day gujarat overtakes delhi gujarat overtakes delhi gujarat overtakes delhi gujarat gujarati gujarat heartiest congratulations lotus patil ben gujarat gujarat pm gujarat years jeevan missionjaljeevanmission    congress congress years gujarat sri  ji national spokesperson bjp gujarat assembly election bjp madhu shrivastav congress morning gujarat gujarat gujarat jagmal vala employeethese aapgujarat aapwaveingujarat antiincumbencyanupama rt max kejriwalfailsdelhi gujaratelection today meme us this new year gujarat gujarat gujaratelection mammothtask bachao the last  days jammu kashmir  godimedia congress gujarat gujaratelections aapgujarat aapkepaap gujaratelections gujaratelections aapgujarat gujaratelections gujarat gujaratelections gujaratelections ram gujaratelections khalistani terrorist gujaratelections gujaratelections gujaratelections gujaratelections maharashtra deputy cm  in today mohua gariadhar city bhavnagar mahesh chhotubhai vasava the  gujarat assembly election the  assembly gujarat electionsformer congress party thousands congress one yearsriptwitter mcstan gujaratelection via whatsapp gujaratelectionaapgujarat gujarat public india channel gujarat janab syed aimim corporatorssenior amp aimim  surat east candidate gujarataimim gujaratelection candidatesgujarat tvnews gujarat nov bjp bjpgujarat bjpgujarat jpnadda gujaratelection gujarat gujarat gujarat assembly electionsgujaratelectionsgujaratelections last few days muslim gujarat november pm modi amit shah jamnagar north first jignesh mevani   realitygujaratelectionaapkepaapbjpgujarat gujarat gujaratelection gujrat gujaratelection morbibridgecollapse morbibridge aapgujarat modipm south gujarat aapgujarat gujarat uttar yogi gujarat tomorrow tomorrow gujarat india gujarat bjpgujarat bjpgujarat gujarat gandhinagar southgujarat gandhinagar gujaratelection delhi thug gujarat modi gir gujarat aapwaveingujarat bjpgujarat bjpgujarat gujarat gujarat bjp friday gujarat gujaratelections bjpgujarat aapgujarat congress polloftheday interview gujarat gujaratelections bjpgujarat aapgujarat congress congress isbar bjp ki koukaadh gujarat congress gujarat aimimmim shia muslims mim years congress employmentsix hundred and eighty indonesian us this new year gujarat sanskari sanskari karnataka gujarat congress telangana gujarat gujarat gujarat assembly polls ravi kishans gujarat ma modi che gujarat india gujarat two next month second singh congress jigneshmevani   one gujarat madhu today today one gujarat second gujrat gujarat haveaniceday congress congress less than five gujarat darvin kejariwal kejriwal congress mahila morcha gujarat gujaratassemblypollsour telangana yogi ji the century today december years gujarat india gujarat gujarat assembly mla kantilal congress mehsana district congress ishudan pm narendra modi three consecutive days november ani quoting india gujarat assembly wella three three gujarat assembly gujarat the aam aadmi party bjp gandhinagar south gujarat gujarat sanskari gujarat gujarati congress gujarat fame gujarat gujarat assembly years gujaratassemblypollsbaarbaarbhajpa aayegitobjphi   indian gujarat gujarat khalistani friday gujarat tomorrow november mavji desai banaskantha north gujarat muslims rajya sabha digvijay singh congress rt  bjp gandhinagar south gujarat congress two gujarat bjpgujarat aap congress aimim owaisi gujarat gujarat saurashtra aap bjpgujarat congressforgujarat analysis gujarat gujarat saurashtra aap bjpgujarat congressforgujarat analysis congress anishbhai the s surat east wednesday congress anishbhai days three the shiningindiasurvey gujarat assembly election    ji v  ji v  ji zero election season winter a day completedlast day this year gujarat fourth gujarat muslim gujarat gujarat dd news channelhe zero gujarat wednesday bhupendra patel gujarat ec cbi ed courts police moneybags aapmodihaitomumkinhai ec cbi ed courts police moneybags aapmodihaitomumkinhai congress congress trendingnews trendingnewstoday banglanews bengalinewslive samachar breakingnews congress mehsana ec cbi ed courts police moneybags aapmodihaitomumkinhai ec cbi ed courts police moneybags aapmodihaitomumkinhai narendra saurashtra ec cbi modihaitomumkinhai gujaratelections ec cbi modihaitomumkinhai gujaratelections ec cbi modihaitomumkinhai gujaratelections wednesday north gujarat seven gujarat hkejriwalchorhai gujarat assembly narendra november saurashtra anurag thakur congress ganpat gujarat gujarat today anurag thakurgujaratelections congress gujarat the last  months greenery star campaignersgujarat gujarat anjar adipur kamrej nov ho bjpgujarat bjp gujaratelections gujaratwelcomesyogiji gujaratelections gandhi congress cm chouhangujaratelections gandhi congress cm chouhangujaratelections julio ribeiro gujaratelectionsgujaratelections gandhi congress cm chouhangujaratelections gujarati bharattodoyatramakeinindiamodihaitohmumkinhai three today first the gujarat assembly gujarat today congress saurashtra first p rupala aftabaminpoonawala gujarat cm yogi a single day gujarat gujarat friday cm  said pm modi gandhi bush supreme court rajiv gandhi sanskari folt news weekly gujarat congress few days congress surat suratnews news electionday three today first the gujarat assembly the last  months greenery gujarat gujarat assembly december bjp ambani indian elderlyoldpensionscheme upsc three six first gujarat gujarat viramgam hardikpatel saurashtra first p rupala saurashtra hmmm years ago the gujarat assembly years india varanasi court gujarat oldpensionscheme rajasthans congress party thousands congress gujaratelectionsaap cm election next month gujarat india dev ankur gyasuddin shaikh ncp congress congress dr amee yajnik ghatlodia cm bhupendra sabarmati do join inthetscshraddhawalkar savarkar gujaratelections mcd madhu shrivastav waghodia congress congress congress six first gujarat december second december december the last day indian friday abdasa assembly congress gujarat arvindkejriwal modi n rahulgandhi bjp candidates gujarat congress indian gujarat updatesopinionpoll gujarat bjpgujarat bjp congress indian updatesopinionpoll gujarat bjpgujarat bjp congress indian gujarat gujarat bjpgujarat  aap indian savarkar assemblyelections cartoon   ge gujarat earlier this year  third hours gujarat vadodaranews news gujarat congress vadodaranews news gujarat ourvadodara breakingnews ge gujarat gujarat gujarat odisha india muslim muslim first congress gujarat congress pm modi jai hind   second first jamnagar nominationread  story india indian st kshatriya today yeh modi kie chaat hai rivaba jadeja rivaba contesting gujarat rivaba contesting gujarat gujarat rivaba jadeja jamnagar tfm north jamnagar bjp rivabajadeja gujarat rivabajadeja gujarat rivabajadeja one bapu rivabajadeja gj jamnagar indian today narendra hai skta hai gujarat gujarat congress gujarat gujarat kandhal jadeja gujarat delhi gujarat the middle of the gujarat gujarat churchill alemao ram jethmalani gujarat danta ac gujarat cartoon gujaratelection gujarat gujarat gujarat dankapati gujratboycottbjp moodofgujarat gujaratelection gujarat breakinggujarat bjp antiparty activitiesmadhu srivastava dinumama mavji desai dhavalsingh jhala congress congress gujarat gujaratelection gujarat bjpgujarat bhupendrabhai harshbhai congress gujarat the last years gujarat gujarat maldhari the last  years gujarat gujarat five the last  years gujarat the last  years gujarat the last  years gujarat congress india india survey gujarat assembly election shiningindiasurvey india survey gujarat assembly election shiningindiasurvey twelve the last  years gujarat uttar yogi adityanath gujarat third the last  years gujarat mehsana gujaratelections aimim muslims muslims gujarat thekashmirfilesatiffigujarat gujaratelections gujaratassemblypolls gujaratelections muslimshindugomutra thousands swadeshi weaponsindia bjptamilnadu congressforgujarat aapgujarat gujaratassemblypolls rss gujarat congress india congress gujaratelections congressi gave lengthy bhaashan rahul gandhi muslims muslims s  asaduddinowaisi congress gandhi congress gujarat assembly congress cm yogi gujarat india gujarat gujarat gujarat aftaab emotionalassam cm hb mehsana vadodara today maharashtra dcm   gujarat gujarat gujarat gujarat assembly gujaratassemblypolls gujarat bjp  india satyendra jain gujaratassemblypollsgujarat maharashtra dcm   gujarat gujarat assembly elections patidars politics congress satyendra jain  sir gujaratassemblypollsgujarat satyendra jain manishsisodia gujaratassemblypollsgujarat satyendra jain manishsisodia gujaratassemblypollsgujarat satyendra jain manishsisodia gujaratassemblypollsgujarat satyendra jain manishsisodia gujaratassemblypollsgujarat gujarat cm of gujarat pm modi gujaratmaangeparivartan gujarat assembly one day gujarat polls pm pmmodiingujarat gujarat gujaratelection gujaratassemblypolls gujaratpolitics narendra gujarat congress gujarat dhanduka assembly gujarat kalubhai gujarat gujarat congress congress congress gujarat gujarat delhi kutiyana emotionalassam cm  makes congress gujarat gujarat december five itboycott bjp argentina supreme court hypocrisy meter miyan bhais gujarat years years years some days only  days clever asaduddinowaisi gujarat one krantikari first gandhi ambani diamond fork narendra gujarat gujarat november gujarat congress gujarat ketan mafia singh raulji vadodaranews news gujarat days third months hindu tej muslims congress congress hindus hindu tej muslims congress congress hindus six congress gujaratassemblyelection maharashtra one day congress mla kaminibarathod today ahemdabadgujarat india congress india gujarat assembly polls bjp congress gujarat saurashtra gujarat gujarat assembly jai ram thakur congress hindu tej muslims congress congress hindus gujarat assembly congress gujarat assembly one day gujarat assembly the next five years gujarat years congress narendra november gujarat bjp aap deccan november gujarat bjp aap newsintweetsin breakingnews breakingnewsindia newsintweetsindia deccanherald gujaratelections december congress gujarat rahul gandhi congress gujarat the saffron party bhupendra patel monday congress gujarat rajasthan cm  gujaratelections congress arvindkejriwal bjp gujarat assembly congress mallikarjun kharge gujarat congress raviba jadeja contesting gujarat dhtoon gujarat gujarat assembly congress rahul gandhi today congress gujarat assembly narendra today gujarat promodi chants raised ben bjpgujrat jay ho jay ho first gujarat surat bjp aap congress ravindra jadejas congress karsan karmur mirror nowbjp will cross the gujarat assembly gujaratassemblyelectionsjamnagarconstituency gujaratassemblyelection rivabajadejagujarat assembly gujarat thousands woh mehnat kar gujarat amitshah jamnagar north gujarat amitshah jamnagar north jamnagar airport amitshah rivabajadeja india hai ko union home the jamnagar airport gujarat jay ho bjp first gujaratelections ravindrajadejas amitshah   jamnagar north rivabajadeja jamnagar airport indian gujarat first gujarat the upcoming gujarat assembly two bhai timesofindia gujarat amitshah jamnagar north jamnagar airport gujaratelections amitshah timesofindia gujarat amitshah jamnagar north jamnagar airport amitshah rivabajadeja india amitshah rivabajadeja india gujarat amitshah jamnagar north rivabaravindrasinhjadeja bjp jamnagar gujaratelection gujarat rivabajadeja jamnagar gujarat gujaratelection gujarat gujarat assembly polls no nanadbhabhi indian saturday congress rt  ravindra jadeja rivabaravindrasinhjadeja bjp jamnagar gujaratelection ravindra jadejas gujarat parivartan hundreds congress today gujarat today tomorrow years zero veersavarkar delhi cm arvindkejriwal east kanchanjariwala kanchanjariwala aapkepaap india gujarat surat kanchanjariwala kanchanjariwala aapabductionclaim khalistani ak makkar surawala andolanjivi kanchanjariwala kanchanjariwala shud hourhe delhi manish sisodia wednesday kanchan jariwala surat sisodia manishsisodia kanchanjariwala aam aadmi party kanchan jariwala wednesday indian gujarat surae kanchanjariwalagodimedia godnightwednesdaykanchanjariwala god surat east assembly rs cr east kanchanjariwala wednesday gujarat kanchan jariwala gujarat assembly wednesday east kanchan jariwalagujarat kanchanjariwala ec gujarat the aam aadmi party gujarat kanchan jariwala today gujarat surat east surat east today the aamaadmipartys surat gujarat kanchanjariwala manishsisodia bjp bjpkidnapsaapcandidate bjpgujarat bjpsurat surat east gujarat surat east aam aadmi party gujarat kanchan jariwala cm manish sisodia gujarat kanchan jariwala gujarat ishudanbhai gujarat ncp gujarat islam islam muslims turkey march middle east ncp saudi arabia jews al madinah al muqaddasah saudi arabia wel comeaap zero gujarat ncp mem ncp ncp ncp delhi cm    mem the aam aadmi party ncp delhi cm    wel comeaam aadmi ncp delhi cm ncp ncp delhi cm    ncp delhi cm    happeni india jaihind nationfirst namo samepoliticians patel ncp ncp bjp aap congress months gujarat gujarat kishan amitshah bjp presidentofindia ipc suryavanshi metropolitan magistrates court presidentofindia narendrabhai four cm  bhupendrapatel bjpgujarat shribhupendrabhai patel samebjpgujarat bhupendra patel gujarat congress congress days only one gujarat bhupendra patel modis jituvaghani  bhupendrapatel rajya ma karo  nahi last  years gujarat gujarat bjp bhupendrapatel morbi bhupendrapatels newsx bjp bigwigs cm bhupendrapatel gujarat amitshah bhupendra patel cmbhupendrapatel gujarat gujarat wednesday amitshah wednesday gujarat shahbaz ahmed indvsban ipl rohitsharma bcci ipl rohitsharma bcci one year sri lanka board sourabh kumar bcci shahbaz ahmed jadejaa one indian indvsban shikhardhawan sanjusamson sanjusamson richachadhamaafimaangravindrajadeja richachadha indvnz shikhardhawan ipl rohitsharma bcci ipl rohitsharma bcci india new zealand shahbaz ahmed wastecoach bcciindvban indvsban sanjusamson klrahul rohitsharma ipl rohitsharma bcci bcci odis bcci shahbaz ahmed jadeja indvsban saurabh kumar saurabhkumar ipl rohitsharma bcci sourabhkumar indvban indvsban india december indvban ipl rohitsharma bcci ravindra jadeja india chamika karunaratne tworldcup natrajan bcci india indvsban indian ravindra jadeja injuryindvsban yash ipl rohitsharma bcci leftarm spin bcci shikhardhawan shahbaz sen shahbaz indvban bcci one year sri lanka board shahbaz ahmed new zealand india ravindra jadeja ipl rohitsharma bcci india bcci indvsban bcci india indvban one steve smith five rishabhpant sanjusamson bcci leftarm spin shahbaz ahmed bcci wednesday bcci jay shah ravindra jadeja kumar kumar indvsban shahbaz ahmed december rabada archer curran archer jofraarcher bcci india shahbaz ahmed india seriesshahbaz bcci india bcci india december india shahbaz ahmed indian bangladeshindvsban one congress shahbaz ahmed indvsban sourabh kumar ipl rohitsharma bcci two india ipl rohitsharma bcci avvataniki shahbaz ahmed bcci ravindra jadeja shahbaz ahmed sanjusamson ravindra jadeja narendra modis more than a decade ago kreedon desiluckindia bcci india liye khel hai hai bjpgujrat cricketnews trendingnews news cricketnews trendingnews news the asia cup ipl rohitsharma bcci next month the asia cup india sanjusamson shahbaz ahmed cricketfans kumar india india indvsban indvban december ipl rohitsharma bcci ipl rohitsharma bcci indian bangladeshindvsban first narendra bcci jadeja lad indvban bcci kumar indvban india india ravindra jadeja shahbaz ahmed later this week the asia cup asia cup earlier this year suryakumar bcci indvsban bcci tussle ravindrajadejas sister indvban next month the asia cup gujarat argksa argentina cm assam   bjp winning gujarat   congress gujarat dega gujrat ko gujarat gujarat pm modi   gujarat gujarat congress gujarat surat national secretary congress bm cctv congress gujarat cms gujarat gujarat muslims muslim vadodara gujarat the rajkot ground big badlaavpunjab cm narendra modis gujarat bhandari congress gujarat almost  years telangana gujarat day million miles portugal letthatsinkin yearsoflachitbarphukan two year old gujaratelectionjusticefordefencestudentsdelhihighcourtboycottbjp pending recruitment army uday kankad jiex cm  ji laughingmodidisasterforindia bjpfailsinindia muslim gujarat congress nari shakti gujarat rajasthan cm congress weekly bjppm modi zor ka jhatka se laga gujarat congress gujarat only  days gujaratmaangeparivartan gujarat congress congress december cec gujarat this year metro security gujarat peoplebjpmodelbjpcheatsgujaratgujaratelection darshana jardosh mos india pran kurup metro gujarat sidhpur congress gujarat thursday narendra the century metro security gujarat gujarat congress morbi morbibridge gujaratelectionbefore  years gujarat today gujarat last  years gujarati gujarat gujarat gujarati india congress gujarat congress gujarat narendra modis gujarat daily congress decison  the trio gandhinagardahegamkalol narendra modi muslim india har sal hona ho congress aapgujarat news election congress congress the  year old gujarat gandhi gujarat next  years congress gandhian gujarat next  years gujarat gujarat election commission portugal letthatsinkin yearsoflachitbarphukan gujarat gujarat gujarat gujarat maldharimahapanchayat congress ahmedabad gujarat mahatma gandhi congress hindus gujarat gujarat congress over a dozen bhandari india gujarat lok sabha narendra narendra delhi gujarat fadnavis himanta sarma kejriwal tuesday years gujarat gujarat nandod bhandari congress gujarat electionmodihaitomumkinhai india gujarat assembly india gujarat assembly election season kesargadh india pakistan india gujarat bhandari hardikpatel snatch congress congress congress congress congress congress congress kejriwal congress gujarat congress mansa assembly aapians days bhandari mehsana gujarat bavla gujarat the gujarat assembly electionsshiningindiasurvey india india kejriwal thousands narendra modi mindmy congress gujarat first asaduddin owaisi congress gujarat bhandari gujarat bhandari congress mla indrajit parmar gujarat gujarat years congress gujarat congress congress comingcongressaaveche congressforgujarat india next  years gujarat congress gujarat legislationmilton asaduddin owaisi kejriwal today india muslim congress six three thata bachava imandar rajniti a week gujarat jamnagar south first gujarat assembly election december congress congress gujarat the last  years congress gujarat alcoholgujratboycottbjpmodidisasterforindia cm face tonight india today delhi gujarat november the year two gujaratelections gujarat gujarat congress gujarat maharashtra devendra fadnavis himanta biswa sarma gujarat december past  days years years congress hundreds surat airport gujaratelections bjpgujarat   saurashtra southgujarat congress gujarat gujarat greek first gujarat the last  years gujarat nsg security indian kasmir south india nonindiangujaratelectionsshikhardhawan indian kasmir south india nonindiangujaratelectionsshikhardhawan congress india today delhi cm manishsisodia cm arvindkejriwal pm narendra modi gujarat next month next  years four everbe smart china one supreme court canadian gujarat bhandari tonight gujarat gujarat aapgujarat congressforgujarat bro gujarat congress zero gujarat gujarat november india gujarat assembly india survey gujarat assembly election shiningindiasurvey gujarat gujarat november gujarat khalistan superfastnews gujarat gujaratelections gujarat gujaratelections bjpgujarat bjpgujarat this every day gujarat jaisa ek today modiji wah gujarat surat gujarat aapforgujarat aapgujarat gujaratelections   vvpat control unit one gujarat one cm gujarat india gujarat opinionpoll party shiningindiasurvey gujarat opinionpoll party today khalistani today gujarat the saffron party dis govt dem nowdey shud formaly gujarat one first bavla gujarat gujarat gujarat gujarat gujarat gujarat gujarat gujarat gujarat gujarat gujarat gujarat indian kasmir south india adivasi mulnivasi indian nonindian congress ps aks gujarati gujarat gujarati india congress two vhp amp bajrang dal storm surat college thrash us moregujarat village national spokesperson sambit patra congress congress indian kasmir south india indian kasmir south india nonindiancasteistbccigujaratelectionsshikhardhawan gujarat one congress three thursday congress gujarat assembly karnataka samadhiyala village charging muslims congress congress hindus gujarat gujarat assembly gujarat assembly narendra modi congress ourvadodara   bjpgujarat gujarat india three alpeshthakor jigneshmevani  became gujarat vadodara ourvadodara baroda city today lok poll gujaratelection bjpgujarat congressforgujarat congress gujarat gujarat gujarat assembly polls congress gujarat p bharti ec gujarat congress god one wadiya saab khotu lagtu ma joi levu july first vadodara mahanagar narendra gujarat amitshah pmoindia hmoindia cmogujarat bhupendrapatel bhupendra patel gujarat ghatlodia gujarat bharatiya janata party saturday gujaratassemblypollsgujarat gujaratnews gujaratupdate cm bhupendra patel bjp cr patil twenty jobsthesummernews modihaitomumkinhai modipm modification modihaitohmumkinhai gujaratelection cm bhupendrapatel gujarat cm bhupendrapatel campaigning gujarat gujarat jpnadda gujarat cm bhupendrapatel bjp saturday congress gujarat presidentofindia presidentofindia gujarat india congress gujarat hai narendra gujarat assembly electionsravindrajadeja bharatjodayatra bjp congress gujarat gujarat year india aimim leader  slams ravindrajadejas pic waris pathan gujarat indian laga de ravi night readygood morning indians most century ipl rohitsharma bcci ipl rohitsharma bcci jadeja celebrityclicks msdhoni thala ipl rohitsharma bcci jadeja gujarat indvban indvsban saurabhkumar ipl rohitsharma bcci sanjusamson hours congress india ipl rohitsharma bcci kkr ipl rohitsharma bcci bcci indian ravindra jadeja gujarat india hours naynaba jadeja congress sanjusamson ipl rohitsharma bcci raina sureshraina msdhoni ipl klrahul mahi raina sureshraina msdhoni ipl csk india raina sureshraina msdhoni ipl csk india indian jersey india ipl rohitsharma bcci jadeja odis   gill tis  virat three india india saurabhkumar india ipl rohitsharma bcci saurabh kumar india testssaurabhkumar kumar saurabhkumar indvsban indian kumar sourabhkumar indvsban saurabh kumar shahbaz ahmed india wifegujarat saurabhkumar india shahbaz ahmed cricbuzz saurabhkumar india ipl rohitsharma bcci ipl toostay indian indian indian indian kaha hui  bcci gujaratelection jayshah amitshah india gujarat indvsban india indian gujarat india jersey india ipl rohitsharma bcci india kkr ipl rohitsharma bcci today jamnagar north today jamnagar north khambhalia jamnagar via ani ipl rohitsharma bcci rohitsharma shikhardhawan iyer klrahul jaspreetbumrah arshdeepsingh mohmmadshami sanjusamson knockwashingtonsundar ravindrajadeja sanjusamson ipl rohitsharma bcci bcci sanjusamson kejriwal goosebumpsgujarat kid gujarat shakti sigh gohil congress gujarat india congress surat gujarat cm bhupendrapatel'"
      ]
     },
     "execution_count": 98,
     "metadata": {},
     "output_type": "execute_result"
    }
   ],
   "source": [
    "d"
   ]
  },
  {
   "cell_type": "code",
   "execution_count": 52,
   "id": "1b0ed2e7",
   "metadata": {},
   "outputs": [],
   "source": [
    "ipts = ipts + d"
   ]
  },
  {
   "cell_type": "code",
   "execution_count": 99,
   "id": "31a50595",
   "metadata": {},
   "outputs": [],
   "source": [
    "stopwords = set(wc.STOPWORDS)"
   ]
  },
  {
   "cell_type": "code",
   "execution_count": 100,
   "id": "157008d2",
   "metadata": {},
   "outputs": [],
   "source": [
    "wordcloud = wc.WordCloud().generate_from_text(d)"
   ]
  },
  {
   "cell_type": "code",
   "execution_count": 101,
   "id": "196b8f97",
   "metadata": {},
   "outputs": [
    {
     "data": {
      "image/png": "[encoded data removed]",
      "text/plain": [
       "<Figure size 800x800 with 1 Axes>"
      ]
     },
     "metadata": {},
     "output_type": "display_data"
    }
   ],
   "source": [
    "plt.figure(figsize = (8, 8), facecolor = None)\n",
    "plt.imshow(wordcloud)\n",
    "plt.axis(\"off\")\n",
    "plt.tight_layout(pad = 0)\n",
    "\n",
    "plt.savefig('wordCloud.png')"
   ]
  },
  {
   "cell_type": "code",
   "execution_count": 22,
   "id": "c427f07d",
   "metadata": {},
   "outputs": [
    {
     "data": {
      "text/html": [
       "<div>\n",
       "<style scoped>\n",
       "    .dataframe tbody tr th:only-of-type {\n",
       "        vertical-align: middle;\n",
       "    }\n",
       "\n",
       "    .dataframe tbody tr th {\n",
       "        vertical-align: top;\n",
       "    }\n",
       "\n",
       "    .dataframe thead th {\n",
       "        text-align: right;\n",
       "    }\n",
       "</style>\n",
       "<table border=\"1\" class=\"dataframe\">\n",
       "  <thead>\n",
       "    <tr style=\"text-align: right;\">\n",
       "      <th></th>\n",
       "      <th>NER</th>\n",
       "    </tr>\n",
       "  </thead>\n",
       "  <tbody>\n",
       "    <tr>\n",
       "      <th>0</th>\n",
       "      <td>arvindkejriw raghavchadha</td>\n",
       "    </tr>\n",
       "    <tr>\n",
       "      <th>1</th>\n",
       "      <td>form bhark aaya aur</td>\n",
       "    </tr>\n",
       "    <tr>\n",
       "      <th>2</th>\n",
       "      <td>indian</td>\n",
       "    </tr>\n",
       "    <tr>\n",
       "      <th>3</th>\n",
       "      <td>everi particl</td>\n",
       "    </tr>\n",
       "    <tr>\n",
       "      <th>4</th>\n",
       "      <td>gujaratfirst aapmuktgujaratcongressmuktgujarat</td>\n",
       "    </tr>\n",
       "    <tr>\n",
       "      <th>...</th>\n",
       "      <td>...</td>\n",
       "    </tr>\n",
       "    <tr>\n",
       "      <th>1272</th>\n",
       "      <td>describ</td>\n",
       "    </tr>\n",
       "    <tr>\n",
       "      <th>1273</th>\n",
       "      <td>swadeshimanch ykk joinswadeshi poojamadan agai...</td>\n",
       "    </tr>\n",
       "    <tr>\n",
       "      <th>1274</th>\n",
       "      <td>congress dharamshala</td>\n",
       "    </tr>\n",
       "    <tr>\n",
       "      <th>1275</th>\n",
       "      <td>break news kanchan</td>\n",
       "    </tr>\n",
       "    <tr>\n",
       "      <th>1276</th>\n",
       "      <td>saab</td>\n",
       "    </tr>\n",
       "  </tbody>\n",
       "</table>\n",
       "<p>1277 rows × 1 columns</p>\n",
       "</div>"
      ],
      "text/plain": [
       "                                                    NER\n",
       "0                             arvindkejriw raghavchadha\n",
       "1                                   form bhark aaya aur\n",
       "2                                                indian\n",
       "3                                         everi particl\n",
       "4        gujaratfirst aapmuktgujaratcongressmuktgujarat\n",
       "...                                                 ...\n",
       "1272                                            describ\n",
       "1273  swadeshimanch ykk joinswadeshi poojamadan agai...\n",
       "1274                               congress dharamshala\n",
       "1275                                 break news kanchan\n",
       "1276                                               saab\n",
       "\n",
       "[1277 rows x 1 columns]"
      ]
     },
     "execution_count": 22,
     "metadata": {},
     "output_type": "execute_result"
    }
   ],
   "source": [
    "a = dict()\n",
    "# for i,word in dfgh.iloc([1,2]):\n",
    "#     print(i,word)\n",
    "#     break\n",
    "dfgh.iloc[:,[1]]"
   ]
  },
  {
   "cell_type": "code",
   "execution_count": 8,
   "id": "9b567bae",
   "metadata": {},
   "outputs": [
    {
     "ename": "TypeError",
     "evalue": "'<' not supported between instances of 'int' and 'str'",
     "output_type": "error",
     "traceback": [
      "\u001b[0;31m---------------------------------------------------------------------------\u001b[0m",
      "\u001b[0;31mTypeError\u001b[0m                                 Traceback (most recent call last)",
      "\u001b[0;32m/var/folders/q0/mnnxg2715ldbdr542lfqmx_r0000gn/T/ipykernel_16763/607586445.py\u001b[0m in \u001b[0;36m<module>\u001b[0;34m\u001b[0m\n\u001b[0;32m----> 1\u001b[0;31m \u001b[0mwordcloud\u001b[0m \u001b[0;34m=\u001b[0m \u001b[0mwc\u001b[0m\u001b[0;34m.\u001b[0m\u001b[0mWordCloud\u001b[0m\u001b[0;34m(\u001b[0m\u001b[0;34m)\u001b[0m\u001b[0;34m.\u001b[0m\u001b[0mgenerate_from_frequencies\u001b[0m\u001b[0;34m(\u001b[0m\u001b[0mdfgh\u001b[0m\u001b[0;34m)\u001b[0m\u001b[0;34m\u001b[0m\u001b[0;34m\u001b[0m\u001b[0m\n\u001b[0m",
      "\u001b[0;32m~/opt/anaconda3/lib/python3.9/site-packages/wordcloud/wordcloud.py\u001b[0m in \u001b[0;36mgenerate_from_frequencies\u001b[0;34m(self, frequencies, max_font_size)\u001b[0m\n\u001b[1;32m    406\u001b[0m         \"\"\"\n\u001b[1;32m    407\u001b[0m         \u001b[0;31m# make sure frequencies are sorted and normalized\u001b[0m\u001b[0;34m\u001b[0m\u001b[0;34m\u001b[0m\u001b[0m\n\u001b[0;32m--> 408\u001b[0;31m         \u001b[0mfrequencies\u001b[0m \u001b[0;34m=\u001b[0m \u001b[0msorted\u001b[0m\u001b[0;34m(\u001b[0m\u001b[0mfrequencies\u001b[0m\u001b[0;34m.\u001b[0m\u001b[0mitems\u001b[0m\u001b[0;34m(\u001b[0m\u001b[0;34m)\u001b[0m\u001b[0;34m,\u001b[0m \u001b[0mkey\u001b[0m\u001b[0;34m=\u001b[0m\u001b[0mitemgetter\u001b[0m\u001b[0;34m(\u001b[0m\u001b[0;36m1\u001b[0m\u001b[0;34m)\u001b[0m\u001b[0;34m,\u001b[0m \u001b[0mreverse\u001b[0m\u001b[0;34m=\u001b[0m\u001b[0;32mTrue\u001b[0m\u001b[0;34m)\u001b[0m\u001b[0;34m\u001b[0m\u001b[0;34m\u001b[0m\u001b[0m\n\u001b[0m\u001b[1;32m    409\u001b[0m         \u001b[0;32mif\u001b[0m \u001b[0mlen\u001b[0m\u001b[0;34m(\u001b[0m\u001b[0mfrequencies\u001b[0m\u001b[0;34m)\u001b[0m \u001b[0;34m<=\u001b[0m \u001b[0;36m0\u001b[0m\u001b[0;34m:\u001b[0m\u001b[0;34m\u001b[0m\u001b[0;34m\u001b[0m\u001b[0m\n\u001b[1;32m    410\u001b[0m             raise ValueError(\"We need at least 1 word to plot a word cloud, \"\n",
      "\u001b[0;32m~/opt/anaconda3/lib/python3.9/site-packages/pandas/core/ops/common.py\u001b[0m in \u001b[0;36mnew_method\u001b[0;34m(self, other)\u001b[0m\n\u001b[1;32m     68\u001b[0m         \u001b[0mother\u001b[0m \u001b[0;34m=\u001b[0m \u001b[0mitem_from_zerodim\u001b[0m\u001b[0;34m(\u001b[0m\u001b[0mother\u001b[0m\u001b[0;34m)\u001b[0m\u001b[0;34m\u001b[0m\u001b[0;34m\u001b[0m\u001b[0m\n\u001b[1;32m     69\u001b[0m \u001b[0;34m\u001b[0m\u001b[0m\n\u001b[0;32m---> 70\u001b[0;31m         \u001b[0;32mreturn\u001b[0m \u001b[0mmethod\u001b[0m\u001b[0;34m(\u001b[0m\u001b[0mself\u001b[0m\u001b[0;34m,\u001b[0m \u001b[0mother\u001b[0m\u001b[0;34m)\u001b[0m\u001b[0;34m\u001b[0m\u001b[0;34m\u001b[0m\u001b[0m\n\u001b[0m\u001b[1;32m     71\u001b[0m \u001b[0;34m\u001b[0m\u001b[0m\n\u001b[1;32m     72\u001b[0m     \u001b[0;32mreturn\u001b[0m \u001b[0mnew_method\u001b[0m\u001b[0;34m\u001b[0m\u001b[0;34m\u001b[0m\u001b[0m\n",
      "\u001b[0;32m~/opt/anaconda3/lib/python3.9/site-packages/pandas/core/arraylike.py\u001b[0m in \u001b[0;36m__lt__\u001b[0;34m(self, other)\u001b[0m\n\u001b[1;32m     46\u001b[0m     \u001b[0;34m@\u001b[0m\u001b[0munpack_zerodim_and_defer\u001b[0m\u001b[0;34m(\u001b[0m\u001b[0;34m\"__lt__\"\u001b[0m\u001b[0;34m)\u001b[0m\u001b[0;34m\u001b[0m\u001b[0;34m\u001b[0m\u001b[0m\n\u001b[1;32m     47\u001b[0m     \u001b[0;32mdef\u001b[0m \u001b[0m__lt__\u001b[0m\u001b[0;34m(\u001b[0m\u001b[0mself\u001b[0m\u001b[0;34m,\u001b[0m \u001b[0mother\u001b[0m\u001b[0;34m)\u001b[0m\u001b[0;34m:\u001b[0m\u001b[0;34m\u001b[0m\u001b[0;34m\u001b[0m\u001b[0m\n\u001b[0;32m---> 48\u001b[0;31m         \u001b[0;32mreturn\u001b[0m \u001b[0mself\u001b[0m\u001b[0;34m.\u001b[0m\u001b[0m_cmp_method\u001b[0m\u001b[0;34m(\u001b[0m\u001b[0mother\u001b[0m\u001b[0;34m,\u001b[0m \u001b[0moperator\u001b[0m\u001b[0;34m.\u001b[0m\u001b[0mlt\u001b[0m\u001b[0;34m)\u001b[0m\u001b[0;34m\u001b[0m\u001b[0;34m\u001b[0m\u001b[0m\n\u001b[0m\u001b[1;32m     49\u001b[0m \u001b[0;34m\u001b[0m\u001b[0m\n\u001b[1;32m     50\u001b[0m     \u001b[0;34m@\u001b[0m\u001b[0munpack_zerodim_and_defer\u001b[0m\u001b[0;34m(\u001b[0m\u001b[0;34m\"__le__\"\u001b[0m\u001b[0;34m)\u001b[0m\u001b[0;34m\u001b[0m\u001b[0;34m\u001b[0m\u001b[0m\n",
      "\u001b[0;32m~/opt/anaconda3/lib/python3.9/site-packages/pandas/core/series.py\u001b[0m in \u001b[0;36m_cmp_method\u001b[0;34m(self, other, op)\u001b[0m\n\u001b[1;32m   5621\u001b[0m \u001b[0;34m\u001b[0m\u001b[0m\n\u001b[1;32m   5622\u001b[0m         \u001b[0;32mwith\u001b[0m \u001b[0mnp\u001b[0m\u001b[0;34m.\u001b[0m\u001b[0merrstate\u001b[0m\u001b[0;34m(\u001b[0m\u001b[0mall\u001b[0m\u001b[0;34m=\u001b[0m\u001b[0;34m\"ignore\"\u001b[0m\u001b[0;34m)\u001b[0m\u001b[0;34m:\u001b[0m\u001b[0;34m\u001b[0m\u001b[0;34m\u001b[0m\u001b[0m\n\u001b[0;32m-> 5623\u001b[0;31m             \u001b[0mres_values\u001b[0m \u001b[0;34m=\u001b[0m \u001b[0mops\u001b[0m\u001b[0;34m.\u001b[0m\u001b[0mcomparison_op\u001b[0m\u001b[0;34m(\u001b[0m\u001b[0mlvalues\u001b[0m\u001b[0;34m,\u001b[0m \u001b[0mrvalues\u001b[0m\u001b[0;34m,\u001b[0m \u001b[0mop\u001b[0m\u001b[0;34m)\u001b[0m\u001b[0;34m\u001b[0m\u001b[0;34m\u001b[0m\u001b[0m\n\u001b[0m\u001b[1;32m   5624\u001b[0m \u001b[0;34m\u001b[0m\u001b[0m\n\u001b[1;32m   5625\u001b[0m         \u001b[0;32mreturn\u001b[0m \u001b[0mself\u001b[0m\u001b[0;34m.\u001b[0m\u001b[0m_construct_result\u001b[0m\u001b[0;34m(\u001b[0m\u001b[0mres_values\u001b[0m\u001b[0;34m,\u001b[0m \u001b[0mname\u001b[0m\u001b[0;34m=\u001b[0m\u001b[0mres_name\u001b[0m\u001b[0;34m)\u001b[0m\u001b[0;34m\u001b[0m\u001b[0;34m\u001b[0m\u001b[0m\n",
      "\u001b[0;32m~/opt/anaconda3/lib/python3.9/site-packages/pandas/core/ops/array_ops.py\u001b[0m in \u001b[0;36mcomparison_op\u001b[0;34m(left, right, op)\u001b[0m\n\u001b[1;32m    284\u001b[0m \u001b[0;34m\u001b[0m\u001b[0m\n\u001b[1;32m    285\u001b[0m     \u001b[0;32melse\u001b[0m\u001b[0;34m:\u001b[0m\u001b[0;34m\u001b[0m\u001b[0;34m\u001b[0m\u001b[0m\n\u001b[0;32m--> 286\u001b[0;31m         \u001b[0mres_values\u001b[0m \u001b[0;34m=\u001b[0m \u001b[0m_na_arithmetic_op\u001b[0m\u001b[0;34m(\u001b[0m\u001b[0mlvalues\u001b[0m\u001b[0;34m,\u001b[0m \u001b[0mrvalues\u001b[0m\u001b[0;34m,\u001b[0m \u001b[0mop\u001b[0m\u001b[0;34m,\u001b[0m \u001b[0mis_cmp\u001b[0m\u001b[0;34m=\u001b[0m\u001b[0;32mTrue\u001b[0m\u001b[0;34m)\u001b[0m\u001b[0;34m\u001b[0m\u001b[0;34m\u001b[0m\u001b[0m\n\u001b[0m\u001b[1;32m    287\u001b[0m \u001b[0;34m\u001b[0m\u001b[0m\n\u001b[1;32m    288\u001b[0m     \u001b[0;32mreturn\u001b[0m \u001b[0mres_values\u001b[0m\u001b[0;34m\u001b[0m\u001b[0;34m\u001b[0m\u001b[0m\n",
      "\u001b[0;32m~/opt/anaconda3/lib/python3.9/site-packages/pandas/core/ops/array_ops.py\u001b[0m in \u001b[0;36m_na_arithmetic_op\u001b[0;34m(left, right, op, is_cmp)\u001b[0m\n\u001b[1;32m    161\u001b[0m \u001b[0;34m\u001b[0m\u001b[0m\n\u001b[1;32m    162\u001b[0m     \u001b[0;32mtry\u001b[0m\u001b[0;34m:\u001b[0m\u001b[0;34m\u001b[0m\u001b[0;34m\u001b[0m\u001b[0m\n\u001b[0;32m--> 163\u001b[0;31m         \u001b[0mresult\u001b[0m \u001b[0;34m=\u001b[0m \u001b[0mfunc\u001b[0m\u001b[0;34m(\u001b[0m\u001b[0mleft\u001b[0m\u001b[0;34m,\u001b[0m \u001b[0mright\u001b[0m\u001b[0;34m)\u001b[0m\u001b[0;34m\u001b[0m\u001b[0;34m\u001b[0m\u001b[0m\n\u001b[0m\u001b[1;32m    164\u001b[0m     \u001b[0;32mexcept\u001b[0m \u001b[0mTypeError\u001b[0m\u001b[0;34m:\u001b[0m\u001b[0;34m\u001b[0m\u001b[0;34m\u001b[0m\u001b[0m\n\u001b[1;32m    165\u001b[0m         \u001b[0;32mif\u001b[0m \u001b[0;32mnot\u001b[0m \u001b[0mis_cmp\u001b[0m \u001b[0;32mand\u001b[0m \u001b[0;34m(\u001b[0m\u001b[0mis_object_dtype\u001b[0m\u001b[0;34m(\u001b[0m\u001b[0mleft\u001b[0m\u001b[0;34m.\u001b[0m\u001b[0mdtype\u001b[0m\u001b[0;34m)\u001b[0m \u001b[0;32mor\u001b[0m \u001b[0mis_object_dtype\u001b[0m\u001b[0;34m(\u001b[0m\u001b[0mright\u001b[0m\u001b[0;34m)\u001b[0m\u001b[0;34m)\u001b[0m\u001b[0;34m:\u001b[0m\u001b[0;34m\u001b[0m\u001b[0;34m\u001b[0m\u001b[0m\n",
      "\u001b[0;32m~/opt/anaconda3/lib/python3.9/site-packages/pandas/core/computation/expressions.py\u001b[0m in \u001b[0;36mevaluate\u001b[0;34m(op, a, b, use_numexpr)\u001b[0m\n\u001b[1;32m    237\u001b[0m         \u001b[0;32mif\u001b[0m \u001b[0muse_numexpr\u001b[0m\u001b[0;34m:\u001b[0m\u001b[0;34m\u001b[0m\u001b[0;34m\u001b[0m\u001b[0m\n\u001b[1;32m    238\u001b[0m             \u001b[0;31m# error: \"None\" not callable\u001b[0m\u001b[0;34m\u001b[0m\u001b[0;34m\u001b[0m\u001b[0m\n\u001b[0;32m--> 239\u001b[0;31m             \u001b[0;32mreturn\u001b[0m \u001b[0m_evaluate\u001b[0m\u001b[0;34m(\u001b[0m\u001b[0mop\u001b[0m\u001b[0;34m,\u001b[0m \u001b[0mop_str\u001b[0m\u001b[0;34m,\u001b[0m \u001b[0ma\u001b[0m\u001b[0;34m,\u001b[0m \u001b[0mb\u001b[0m\u001b[0;34m)\u001b[0m  \u001b[0;31m# type: ignore[misc]\u001b[0m\u001b[0;34m\u001b[0m\u001b[0;34m\u001b[0m\u001b[0m\n\u001b[0m\u001b[1;32m    240\u001b[0m     \u001b[0;32mreturn\u001b[0m \u001b[0m_evaluate_standard\u001b[0m\u001b[0;34m(\u001b[0m\u001b[0mop\u001b[0m\u001b[0;34m,\u001b[0m \u001b[0mop_str\u001b[0m\u001b[0;34m,\u001b[0m \u001b[0ma\u001b[0m\u001b[0;34m,\u001b[0m \u001b[0mb\u001b[0m\u001b[0;34m)\u001b[0m\u001b[0;34m\u001b[0m\u001b[0;34m\u001b[0m\u001b[0m\n\u001b[1;32m    241\u001b[0m \u001b[0;34m\u001b[0m\u001b[0m\n",
      "\u001b[0;32m~/opt/anaconda3/lib/python3.9/site-packages/pandas/core/computation/expressions.py\u001b[0m in \u001b[0;36m_evaluate_numexpr\u001b[0;34m(op, op_str, a, b)\u001b[0m\n\u001b[1;32m    126\u001b[0m \u001b[0;34m\u001b[0m\u001b[0m\n\u001b[1;32m    127\u001b[0m     \u001b[0;32mif\u001b[0m \u001b[0mresult\u001b[0m \u001b[0;32mis\u001b[0m \u001b[0;32mNone\u001b[0m\u001b[0;34m:\u001b[0m\u001b[0;34m\u001b[0m\u001b[0;34m\u001b[0m\u001b[0m\n\u001b[0;32m--> 128\u001b[0;31m         \u001b[0mresult\u001b[0m \u001b[0;34m=\u001b[0m \u001b[0m_evaluate_standard\u001b[0m\u001b[0;34m(\u001b[0m\u001b[0mop\u001b[0m\u001b[0;34m,\u001b[0m \u001b[0mop_str\u001b[0m\u001b[0;34m,\u001b[0m \u001b[0ma\u001b[0m\u001b[0;34m,\u001b[0m \u001b[0mb\u001b[0m\u001b[0;34m)\u001b[0m\u001b[0;34m\u001b[0m\u001b[0;34m\u001b[0m\u001b[0m\n\u001b[0m\u001b[1;32m    129\u001b[0m \u001b[0;34m\u001b[0m\u001b[0m\n\u001b[1;32m    130\u001b[0m     \u001b[0;32mreturn\u001b[0m \u001b[0mresult\u001b[0m\u001b[0;34m\u001b[0m\u001b[0;34m\u001b[0m\u001b[0m\n",
      "\u001b[0;32m~/opt/anaconda3/lib/python3.9/site-packages/pandas/core/computation/expressions.py\u001b[0m in \u001b[0;36m_evaluate_standard\u001b[0;34m(op, op_str, a, b)\u001b[0m\n\u001b[1;32m     67\u001b[0m     \u001b[0;32mif\u001b[0m \u001b[0m_TEST_MODE\u001b[0m\u001b[0;34m:\u001b[0m\u001b[0;34m\u001b[0m\u001b[0;34m\u001b[0m\u001b[0m\n\u001b[1;32m     68\u001b[0m         \u001b[0m_store_test_result\u001b[0m\u001b[0;34m(\u001b[0m\u001b[0;32mFalse\u001b[0m\u001b[0;34m)\u001b[0m\u001b[0;34m\u001b[0m\u001b[0;34m\u001b[0m\u001b[0m\n\u001b[0;32m---> 69\u001b[0;31m     \u001b[0;32mreturn\u001b[0m \u001b[0mop\u001b[0m\u001b[0;34m(\u001b[0m\u001b[0ma\u001b[0m\u001b[0;34m,\u001b[0m \u001b[0mb\u001b[0m\u001b[0;34m)\u001b[0m\u001b[0;34m\u001b[0m\u001b[0;34m\u001b[0m\u001b[0m\n\u001b[0m\u001b[1;32m     70\u001b[0m \u001b[0;34m\u001b[0m\u001b[0m\n\u001b[1;32m     71\u001b[0m \u001b[0;34m\u001b[0m\u001b[0m\n",
      "\u001b[0;31mTypeError\u001b[0m: '<' not supported between instances of 'int' and 'str'"
     ]
    }
   ],
   "source": [
    "wordcloud = wc.WordCloud().generate_from_frequencies(dfgh)"
   ]
  },
  {
   "cell_type": "code",
   "execution_count": 56,
   "id": "7d59776e",
   "metadata": {},
   "outputs": [],
   "source": [
    "ipts = ' '.join(dfgh[\"NER\"])"
   ]
  },
  {
   "cell_type": "code",
   "execution_count": null,
   "id": "5abbf5e5",
   "metadata": {},
   "outputs": [],
   "source": []
  }
 ],
 "metadata": {
  "kernelspec": {
   "display_name": "Python 3 (ipykernel)",
   "language": "python",
   "name": "python3"
  },
  "language_info": {
   "codemirror_mode": {
    "name": "ipython",
    "version": 3
   },
   "file_extension": ".py",
   "mimetype": "text/x-python",
   "name": "python",
   "nbconvert_exporter": "python",
   "pygments_lexer": "ipython3",
   "version": "3.9.13"
  }
 },
 "nbformat": 4,
 "nbformat_minor": 5
}
