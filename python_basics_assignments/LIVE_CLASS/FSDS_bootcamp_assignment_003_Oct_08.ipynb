{
 "cells": [
  {
   "cell_type": "markdown",
   "metadata": {
    "id": "cyOfbWCdOjEr"
   },
   "source": [
    "# ASSIGNMENTS"
   ]
  },
  {
   "cell_type": "markdown",
   "metadata": {
    "id": "GT4IytkJMNa-"
   },
   "source": [
    "## Python String Manipulation\n",
    "\n",
    "1. Count the number of times `iNeuron` appears in the string.\n",
    "```python\n",
    "text = \"Welcome to iNeuron, You are a part of FSDS Bootcamp 2 in iNeuron. I hope you are enjoying the course by iNeuron\"\n",
    "```\n",
    "2. Check if position `5` to `11` ends with the phrase `iNeuron.` in the string \n",
    "```python\n",
    "txt = \"Hello, welcome to FSDS 2.0 at iNeuron.\"\n",
    "```\n",
    "3. Write a program that takes your full name as input and displays the abbreviations of the first and middle names except the last name which is displayed as it is. For example, if your name is Sunny Bhaveen Chandra, then the output should be S.B.Chandra.\n",
    "\n",
    "4. Join all items in a list into a string, using a hash(`#`) character as separator:\n",
    "```python\n",
    "LIST = [\"My\", \"name\", \"is\", \"Rishav\", \"Dash\"]\n",
    "```\n",
    "5. Write example for the following string manipulation function,\n",
    "\n",
    "  ```\n",
    "  - isdecimal()\n",
    "  - islower()\n",
    "  - isupper()\n",
    "  - isalpha()\n",
    "  - isnumeric()\n",
    "\n",
    "  ```\n",
    "6. Indian PAN card format follows the following formats - \n",
    "    - `AYEPC7894X`\n",
    "    - `ABCDE9999Y`\n",
    "  Take user input for PAN_CARD and validate as per the above example.\n"
   ]
  },
  {
   "cell_type": "markdown",
   "metadata": {
    "id": "KwVni9gipNi-"
   },
   "source": [
    "### ANSWERS"
   ]
  },
  {
   "cell_type": "markdown",
   "metadata": {},
   "source": [
    "### 1."
   ]
  },
  {
   "cell_type": "code",
   "execution_count": 51,
   "metadata": {},
   "outputs": [
    {
     "name": "stdout",
     "output_type": "stream",
     "text": [
      "3\n"
     ]
    }
   ],
   "source": [
    "text = \"Welcome to iNeuron, You are a part of FSDS Bootcamp 2 in iNeuron. I hope you are enjoying the course by iNeuron\"\n",
    "\n",
    "cnt = text.count(\"iNeuron\")\n",
    "print(cnt)"
   ]
  },
  {
   "cell_type": "markdown",
   "metadata": {},
   "source": [
    "### 2."
   ]
  },
  {
   "cell_type": "code",
   "execution_count": 52,
   "metadata": {},
   "outputs": [
    {
     "name": "stdout",
     "output_type": "stream",
     "text": [
      "False\n"
     ]
    }
   ],
   "source": [
    "txt = \"Hello, welcome to FSDS 2.0 at iNeuron.\"\n",
    "\n",
    "print(txt[4:11].endswith(\"iNeuron.\")) # Assuming position and not indexing"
   ]
  },
  {
   "cell_type": "markdown",
   "metadata": {},
   "source": [
    "### 3. "
   ]
  },
  {
   "cell_type": "code",
   "execution_count": 53,
   "metadata": {},
   "outputs": [
    {
     "name": "stdout",
     "output_type": "stream",
     "text": [
      "Enter your full name.Sunny Bhaveen Chandra\n",
      "S.B.Chandra\n"
     ]
    }
   ],
   "source": [
    "name = input(\"Enter your full name.\")\n",
    "name = name.title()\n",
    "name = name.split(' ')\n",
    "\n",
    "if len(name)<=1:\n",
    "    print(\"Please enter full name\")\n",
    "else:\n",
    "    first = name[0][:1]\n",
    "    middle = name[1][:1]\n",
    "    last = name[-1][0:]\n",
    "    if len(name)==2:\n",
    "        name = \".\".join([first,last])\n",
    "    else:\n",
    "        name = \".\".join([first,middle,last])\n",
    "    print(name)"
   ]
  },
  {
   "cell_type": "markdown",
   "metadata": {},
   "source": [
    "### 4. "
   ]
  },
  {
   "cell_type": "code",
   "execution_count": 54,
   "metadata": {},
   "outputs": [
    {
     "name": "stdout",
     "output_type": "stream",
     "text": [
      "My#name#is#Rishav#Dash\n"
     ]
    }
   ],
   "source": [
    "LIST = [\"My\", \"name\", \"is\", \"Rishav\", \"Dash\"]\n",
    "\n",
    "joined_list = '#'.join(LIST)\n",
    "print(joined_list)"
   ]
  },
  {
   "cell_type": "markdown",
   "metadata": {},
   "source": [
    "### 5."
   ]
  },
  {
   "cell_type": "code",
   "execution_count": 55,
   "metadata": {},
   "outputs": [
    {
     "name": "stdout",
     "output_type": "stream",
     "text": [
      "True\n",
      "True\n",
      "True\n",
      "True\n",
      "True\n",
      "True\n",
      "---\n",
      "False\n",
      "False\n",
      "False\n",
      "False\n",
      "False\n",
      "False\n"
     ]
    }
   ],
   "source": [
    "class Person:\n",
    "    def __init__(self,indx, name, title, pan, phno):\n",
    "        self.INDEX = indx\n",
    "        self.name = name\n",
    "        self.title = title\n",
    "        self.pan = pan\n",
    "        self.phone_number = phno\n",
    "\n",
    "p1 = Person(\"1\",\"sunny\",\"MR\",\"qwerd123567a\",\"7894563210\")\n",
    "\n",
    "p2 = Person(\"2b\",\"Monty\",\"Mr.\",\"qwerd@23567a\",\"a894563210\")\n",
    "    \n",
    "print(p1.INDEX.isdecimal())\n",
    "print(p1.name.islower())\n",
    "print(p1.title.isupper())\n",
    "print(p1.title.isalpha())\n",
    "print(p1.pan.isalnum())\n",
    "print(p1.phone_number.isnumeric())\n",
    "print(\"---\")\n",
    "print(p2.INDEX.isdecimal())\n",
    "print(p2.name.islower())\n",
    "print(p2.title.isupper())\n",
    "print(p2.title.isalpha())\n",
    "print(p2.pan.isalnum())\n",
    "print(p2.phone_number.isnumeric())"
   ]
  },
  {
   "cell_type": "markdown",
   "metadata": {},
   "source": [
    "### 6."
   ]
  },
  {
   "cell_type": "code",
   "execution_count": 56,
   "metadata": {},
   "outputs": [
    {
     "name": "stdout",
     "output_type": "stream",
     "text": [
      "Enter pan numberABCDE9999Y\n",
      "Valid Input\n"
     ]
    }
   ],
   "source": [
    "pan = input(\"Enter pan number\")\n",
    "\n",
    "if len(pan)==10 and (pan[0:5] + pan[-1]).isalpha() and (pan[0:5] + pan[-1]).isupper() and pan[5:9].isdecimal():\n",
    "    print(\"Valid Input\")\n",
    "else:\n",
    "    print(\"Invalid Input\")"
   ]
  },
  {
   "cell_type": "code",
   "execution_count": null,
   "metadata": {},
   "outputs": [],
   "source": []
  }
 ],
 "metadata": {
  "colab": {
   "collapsed_sections": [],
   "provenance": []
  },
  "kernelspec": {
   "display_name": "Python 3 (ipykernel)",
   "language": "python",
   "name": "python3"
  },
  "language_info": {
   "codemirror_mode": {
    "name": "ipython",
    "version": 3
   },
   "file_extension": ".py",
   "mimetype": "text/x-python",
   "name": "python",
   "nbconvert_exporter": "python",
   "pygments_lexer": "ipython3",
   "version": "3.9.13"
  }
 },
 "nbformat": 4,
 "nbformat_minor": 1
}
