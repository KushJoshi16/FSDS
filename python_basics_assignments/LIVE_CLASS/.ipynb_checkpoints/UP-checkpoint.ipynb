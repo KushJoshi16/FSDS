{
 "cells": [
  {
   "cell_type": "markdown",
   "id": "e5d3ae9f",
   "metadata": {},
   "source": [
    "1.Write a function which will try to find out len of a string without using an inbuilt len function"
   ]
  },
  {
   "cell_type": "code",
   "execution_count": 1,
   "id": "3f4a16a7",
   "metadata": {},
   "outputs": [
    {
     "data": {
      "text/plain": [
       "6"
      ]
     },
     "execution_count": 1,
     "metadata": {},
     "output_type": "execute_result"
    }
   ],
   "source": [
    "def length(s):\n",
    "  cnt = 0\n",
    "  for i in s:\n",
    "    cnt=cnt+1\n",
    "  return cnt\n",
    "a='ramesh'\n",
    "length(a)"
   ]
  },
  {
   "cell_type": "markdown",
   "id": "4ae96a18",
   "metadata": {},
   "source": [
    "2.Write a function which will be able to print an index of list element without using an index function"
   ]
  },
  {
   "cell_type": "code",
   "execution_count": 2,
   "id": "9eb78761",
   "metadata": {},
   "outputs": [
    {
     "name": "stdout",
     "output_type": "stream",
     "text": [
      "0 --> 1\n",
      "1 --> 2\n",
      "2 --> Ram\n",
      "3 --> 4\n",
      "4 --> R\n"
     ]
    }
   ],
   "source": [
    "def index(l):\n",
    "  for i in range(0,len(l)):\n",
    "    print(i,\"-->\",l[i])\n",
    "lst=[1,2,\"Ram\",4,\"R\"]\n",
    "index(lst)"
   ]
  },
  {
   "cell_type": "markdown",
   "id": "2f5a2f56",
   "metadata": {},
   "source": [
    "3.Write a function which will be able to print an ip address of your system"
   ]
  },
  {
   "cell_type": "code",
   "execution_count": 2,
   "id": "68f55e29",
   "metadata": {},
   "outputs": [
    {
     "name": "stdout",
     "output_type": "stream",
     "text": [
      "Name of Computer  UPS-Hp-Pavilion-15\n",
      "IP Address  192.168.1.121\n"
     ]
    }
   ],
   "source": [
    "import socket\n",
    "def ip_address():\n",
    "  hostname=socket.gethostname()\n",
    "  address=socket.gethostbyname(hostname)\n",
    "  print(\"Name of Computer \",hostname)\n",
    "  print(\"IP Address \",address)\n",
    "\n",
    "ip_address()"
   ]
  },
  {
   "cell_type": "markdown",
   "id": "b091652f",
   "metadata": {},
   "source": [
    "4.Write a function which will shutdown your system"
   ]
  },
  {
   "cell_type": "code",
   "execution_count": null,
   "id": "6693ab57",
   "metadata": {},
   "outputs": [],
   "source": [
    "import os\n",
    "def shutdown():\n",
    "  shutdwn = int(input(\"Do you want to shutdown 1/0 \"))\n",
    "  if shutdwn == 0:\n",
    "    exit()\n",
    "  else:\n",
    "    os.system(\"shutdown /s /t 1\")  \n",
    "shutdown()"
   ]
  },
  {
   "cell_type": "markdown",
   "id": "51af8d46",
   "metadata": {},
   "source": [
    "5. Write a function which will take input as a list with any kind of numeric value and give an out as a multiplication of \n",
    "all the numeric data l = [3.5, 6.56, 4,5,\"sudh\" , \"ineuron\" , 'fsda bootcamp 2.0']"
   ]
  },
  {
   "cell_type": "code",
   "execution_count": 4,
   "id": "6a2a1426",
   "metadata": {},
   "outputs": [
    {
     "data": {
      "text/plain": [
       "459.19999999999993"
      ]
     },
     "execution_count": 4,
     "metadata": {},
     "output_type": "execute_result"
    }
   ],
   "source": [
    "def product(l):\n",
    "    p=1\n",
    "    for i in l:\n",
    "        if(type(i)==int or type(i)==float):\n",
    "            p=p*i\n",
    "    return p    \n",
    "l = [3.5, 6.56, 4,5,\"sudh\" , \"ineuron\" , 'fsda bootcamp 2.0']\n",
    "product(l)"
   ]
  },
  {
   "cell_type": "markdown",
   "id": "fb504d25",
   "metadata": {},
   "source": [
    "6. Write a function which will be able to read all the mails "
   ]
  },
  {
   "cell_type": "code",
   "execution_count": null,
   "id": "a94c9679",
   "metadata": {},
   "outputs": [],
   "source": [
    "def read_mail(mails):\n",
    "    "
   ]
  },
  {
   "cell_type": "markdown",
   "id": "34008769",
   "metadata": {},
   "source": [
    "7 . Write a function which will be able to send a mail to anyone "
   ]
  },
  {
   "cell_type": "code",
   "execution_count": null,
   "id": "5824f58f",
   "metadata": {},
   "outputs": [],
   "source": []
  },
  {
   "cell_type": "markdown",
   "id": "10c20613",
   "metadata": {},
   "source": [
    "8. Write a function which will be able to read a doc/word file from your system "
   ]
  },
  {
   "cell_type": "code",
   "execution_count": null,
   "id": "32185afe",
   "metadata": {},
   "outputs": [],
   "source": []
  }
 ],
 "metadata": {
  "kernelspec": {
   "display_name": "Python 3 (ipykernel)",
   "language": "python",
   "name": "python3"
  },
  "language_info": {
   "codemirror_mode": {
    "name": "ipython",
    "version": 3
   },
   "file_extension": ".py",
   "mimetype": "text/x-python",
   "name": "python",
   "nbconvert_exporter": "python",
   "pygments_lexer": "ipython3",
   "version": "3.9.13"
  }
 },
 "nbformat": 4,
 "nbformat_minor": 5
}
