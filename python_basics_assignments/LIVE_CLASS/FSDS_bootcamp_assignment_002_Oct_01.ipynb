{
 "cells": [
  {
   "cell_type": "markdown",
   "metadata": {
    "id": "cyOfbWCdOjEr"
   },
   "source": [
    "# ASSIGNMENTS"
   ]
  },
  {
   "cell_type": "markdown",
   "metadata": {
    "id": "GT4IytkJMNa-"
   },
   "source": [
    "\n",
    "1. What is indentation error? Why indentation is important? Give one simple example?\n",
    "\n",
    "2. Correct the following code and write the comment where you made the correction?\n",
    "\n",
    "  ```python\n",
    "  class_started = bool(input(\"Hey friend, is class started?: [0-False/1-True]\"))\n",
    "\n",
    "  if class_started:\n",
    "      print(\"Since class started...\")\n",
    "      print(\"Lets concentrate\")\n",
    "  else:\n",
    "      print(\"Since class is not started...\")\n",
    "      print(\"let's revise\")    \n",
    "  ```\n",
    "\n",
    "  **HINT:** Refer your data type conversion class\n",
    "\n",
    "3. Use if else condition to verify that dataype of `input()` method in python is always string.\n",
    "\n",
    "4. Take 3 variables and assign integer values to them. Find the largest variable, by only using the if and else conditions.\n",
    "\n",
    "\n",
    "5. What would be the solution?\n",
    "    1. True\n",
    "    2. False\n",
    "\n",
    "    ```python\n",
    "    a = 6\n",
    "    b = 10\n",
    "    print( not ( not a == 10 or not b == 10) )\n",
    "    ```\n",
    "    \n",
    "6. Find the answer as well as find out the reason behind the result? -\n",
    "    - case 1:\n",
    "        ```python\n",
    "        A = 5.0\n",
    "        B = 10/2\n",
    "        print(A is B)\n",
    "        ```\n",
    "    - case 2:\n",
    "        ```python\n",
    "        A = 5.0\n",
    "        B = int(10/2)\n",
    "        print(A is B)\n",
    "        ```\n",
    "    - case 3:\n",
    "        ```python\n",
    "        A = 5.0\n",
    "        B = float(10/2)\n",
    "        print(A is B)\n",
    "        ```"
   ]
  },
  {
   "cell_type": "markdown",
   "metadata": {},
   "source": [
    "### ANSWERS :"
   ]
  },
  {
   "cell_type": "markdown",
   "metadata": {},
   "source": [
    "### 1."
   ]
  },
  {
   "cell_type": "markdown",
   "metadata": {},
   "source": [
    "*An Indentation error occurs in python due to inappropriate use of whitespaces and tabs. If there are extra spaces between lines of code of a particular block then indentation error ocurs because python is a procedural language.*\n",
    "\n",
    "*Indentation is important because without it python confuse to excute the statement as which statement would go first. Without indentation python code shows error 'indentation error' and code can't reach to its task.*\n",
    "\n",
    "*Example : correct indentation*\n",
    "\n",
    " ```python\n",
    "a=10\n",
    "b=20\n",
    "if a==b:\n",
    "  print(\"a and b are equal\")\n",
    "else:\n",
    "  print(\"a and b are not equal\")\n",
    " ```\n",
    "```\n",
    "Output\n",
    " a and b are not equal\n",
    " ```\n",
    "\n",
    "*Example : indentation error*\n",
    "\n",
    "```python\n",
    "a=10\n",
    "b=20\n",
    "if a==b:\n",
    "print(\"a and b are equal\")\n",
    "else:\n",
    "  print(\"a and b are not equal\")\n",
    "\n",
    "Output\n",
    "   File \"<ipython-input-4-5166168c0ea0>\", line 4\n",
    "    print(\"a and b are equal\")\n",
    "        ^\n",
    "IndentationError: expected an indented block \n",
    "```\n"
   ]
  },
  {
   "cell_type": "markdown",
   "metadata": {},
   "source": [
    "### 2."
   ]
  },
  {
   "cell_type": "code",
   "execution_count": 1,
   "metadata": {
    "scrolled": true
   },
   "outputs": [
    {
     "name": "stdout",
     "output_type": "stream",
     "text": [
      "Hey friend, is class started?: [0-False/1-True]0\n",
      "Since class is not started...\n",
      "let's revise\n"
     ]
    }
   ],
   "source": [
    "  class_started = bool(int(input(\"Hey friend, is class started?: [0-False/1-True]\"))) \n",
    "    #input has return datatype of string value and on conversion to bool it is not a null value so it gives true for all cases hence we first need to typecast it to integer\n",
    "    \n",
    "\n",
    "  if class_started:\n",
    "      print(\"Since class started...\")\n",
    "      print(\"Lets concentrate\")\n",
    "  else:\n",
    "      print(\"Since class is not started...\")\n",
    "      print(\"let's revise\")  "
   ]
  },
  {
   "cell_type": "markdown",
   "metadata": {},
   "source": [
    "### 3."
   ]
  },
  {
   "cell_type": "markdown",
   "metadata": {},
   "source": [
    "```python\n",
    "# Input() method in python3 is always a string by default\n",
    "# eg->\n",
    "a= input(\"Enter your age to check the eligiblity to vote \")\n",
    "print(type(a))\n",
    "if a>=18:\n",
    "  print(\"You are eligible\")\n",
    "else:\n",
    "  print(\"You are not eligible\")\n",
    "```\n",
    "Output\n",
    "\n",
    "```python\n",
    "Enter your age to check the eligiblity to vote 18\n",
    "<class 'str'>\n",
    "---------------------------------------------------------------------------\n",
    "TypeError                                 Traceback (most recent call last)\n",
    "<ipython-input-3-1c05998c76e4> in <module>\n",
    "      3 a= input(\"Enter your age to check the eligiblity to vote \")\n",
    "      4 print(type(a))\n",
    "----> 5 if a>=18:\n",
    "      6   print(\"You are eligible\")\n",
    "      7 else:\n",
    "\n",
    "TypeError: '>=' not supported between instances of 'str' and 'int'\n",
    "```"
   ]
  },
  {
   "cell_type": "code",
   "execution_count": 2,
   "metadata": {},
   "outputs": [
    {
     "name": "stdout",
     "output_type": "stream",
     "text": [
      "Enter your age to check the eligiblity to vote 19\n",
      "<class 'int'>\n",
      "You are eligible\n"
     ]
    }
   ],
   "source": [
    "# Input() method in python3 is always a string by default\n",
    "# eg of correct output->\n",
    "a= int(input(\"Enter your age to check the eligiblity to vote \"))\n",
    "print(type(a))\n",
    "if a>=18:\n",
    "  print(\"You are eligible\")\n",
    "else:\n",
    "  print(\"You are not eligible\")  "
   ]
  },
  {
   "cell_type": "markdown",
   "metadata": {},
   "source": [
    "### 4."
   ]
  },
  {
   "cell_type": "code",
   "execution_count": 3,
   "metadata": {},
   "outputs": [
    {
     "name": "stdout",
     "output_type": "stream",
     "text": [
      "The largest is b = 30\n"
     ]
    }
   ],
   "source": [
    "a = 10\n",
    "b = 30\n",
    "c = 20\n",
    "\n",
    "if(a>b):\n",
    "    if(a>c):\n",
    "        print(f\"The largest is a = {a}\")\n",
    "    else:\n",
    "        print(f\"The largest is c = {c}\")\n",
    "else:\n",
    "    if(b>c):\n",
    "        print(f\"The largest is b = {b}\")\n",
    "    else:\n",
    "        print(f\"The largest is c = {c}\")"
   ]
  },
  {
   "cell_type": "markdown",
   "metadata": {},
   "source": [
    "### 5."
   ]
  },
  {
   "cell_type": "markdown",
   "metadata": {},
   "source": [
    "2 . False"
   ]
  },
  {
   "cell_type": "markdown",
   "metadata": {},
   "source": [
    "### 6."
   ]
  },
  {
   "cell_type": "markdown",
   "metadata": {},
   "source": [
    "- We are given following cases:\n",
    "    - case 1:\n",
    "        ```python\n",
    "        A = 5.0\n",
    "        B = 10/2\n",
    "        print(A is B)\n",
    "        ```\n",
    "    - case 2:\n",
    "        ```python\n",
    "        A = 5.0\n",
    "        B = int(10/2)\n",
    "        print(A is B)\n",
    "        ```\n",
    "    - case 3:\n",
    "        ```python\n",
    "        A = 5.0\n",
    "        B = float(10/2)\n",
    "        print(A is B)\n",
    "        ```\n",
    "**is operator** is used to check whether the memory location is identical or not. Whether the memory location is pointing the same object or not. \n",
    "\n",
    "In all the 3 cases the **is** operator is not pointing the same object as A and B memory location are not identical so they \n",
    "result in False condition.\n",
    "\n"
   ]
  },
  {
   "cell_type": "code",
   "execution_count": 4,
   "metadata": {},
   "outputs": [
    {
     "name": "stdout",
     "output_type": "stream",
     "text": [
      "1410889966000\n",
      "1410889534160\n",
      "False\n"
     ]
    }
   ],
   "source": [
    "A = 5.0\n",
    "B = 10/2\n",
    "# both memory addresses/object are different\n",
    "print(id(A))\n",
    "print(id(B))\n",
    "print(A is B)"
   ]
  },
  {
   "cell_type": "code",
   "execution_count": 5,
   "metadata": {},
   "outputs": [
    {
     "name": "stdout",
     "output_type": "stream",
     "text": [
      "1410889968304\n",
      "1410806671792\n",
      "False\n"
     ]
    }
   ],
   "source": [
    "A = 5.0\n",
    "B = int(10/2)\n",
    "# both memory addresses/object are different\n",
    "print(id(A))\n",
    "print(id(B))\n",
    "print(A is B)"
   ]
  },
  {
   "cell_type": "code",
   "execution_count": 6,
   "metadata": {},
   "outputs": [
    {
     "name": "stdout",
     "output_type": "stream",
     "text": [
      "1410888726704\n",
      "1410889968304\n",
      "False\n"
     ]
    }
   ],
   "source": [
    "A = 5.0\n",
    "B = float(10/2)\n",
    "# both memory addresses/object are different\n",
    "print(id(A))\n",
    "print(id(B))\n",
    "print(A is B)\n"
   ]
  },
  {
   "cell_type": "markdown",
   "metadata": {
    "id": "a_4kbBVWNY-4"
   },
   "source": [
    "### Try to understand the following examples and answer the question based on it - \n",
    "    \n",
    "**Arithmatic Operators**\n",
    "\n",
    "|Operation|Meaning|\n",
    "|:-:|:-:|\n",
    "| **+** |addition|\n",
    "| **-** |subtraction|\n",
    "| **\\*** |multiplication|\n",
    "| **/** |true division|\n",
    "| **//** |integer division|\n",
    "| **%** |the modulo operator|\n",
    "\n",
    "\n",
    "Here `+`, `-`, `*`, `/` are regular arithmatic operators. Lets look at the `//` and `%` operators\n",
    "\n",
    "Usecase or examples - \n",
    "    \n",
    "```python\n",
    "var_a = 5\n",
    "var_b = 25\n",
    "integer_division = var_b // var_a\n",
    "print(f\"integer division: {var_b}/{var_a}={integer_division}\")\n",
    "```\n",
    "\n",
    "OUTPUT: integer division: 25/5=5\n",
    "\n",
    "```python\n",
    "var_a = 3\n",
    "var_b = 25\n",
    "integer_division = var_b // var_a\n",
    "print(f\"integer division: {var_b}/{var_a}={integer_division}\")\n",
    "```\n",
    "\n",
    "OUTPUT: integer division: 25/3=8\n",
    "\n",
    "```python\n",
    "var_a = 5\n",
    "var_b = 25\n",
    "remainder = var_b % var_a\n",
    "print(f\"remainder: {var_b}/{var_a} is {remainder}\")\n",
    "```\n",
    "\n",
    "OUTPUT: remainder: 25/5 is 0\n",
    "\n",
    "```python\n",
    "var_a = 3\n",
    "var_b = 25\n",
    "remainder = var_b % var_a\n",
    "print(f\"remainder: {var_b}/{var_a} is {remainder}\")\n",
    "```\n",
    "\n",
    "OUTPUT: remainder: 25/3 is 1\n",
    "\n"
   ]
  },
  {
   "cell_type": "markdown",
   "metadata": {
    "id": "v288WPlMNxmM"
   },
   "source": [
    "### Answer below questions on the above theory - \n",
    "\n",
    "7. Write a program that asks the user to enter a number. You should print out a message to the user, either “That number is divisible by either 3 or 5”, or “That number is not divisible by either 3 or 5”. Be sure to consider the data type of the input you are taking in from the user. Use a single if/else block to solve this problem.\n",
    "\n",
    "8. Take user input for length and width. Then calculate the area of rectangle. Also print as per length and width whether its a square of rectangle.\n",
    "\n",
    "9. Take two variable radius_1 and radius_2 and calculate the area of circle_1 and circle_2. Also print which circle has large area. If area is equal then print area is equal.\n",
    "\n",
    "10. Check whether a year is leap year or not. Use nested if...else to solve this problem. A leap year is exactly divisible by 4 except for century years (years ending with 00). The century year is a leap year only if it is perfectly divisible by 400."
   ]
  },
  {
   "cell_type": "markdown",
   "metadata": {},
   "source": [
    "### 7. "
   ]
  },
  {
   "cell_type": "code",
   "execution_count": 7,
   "metadata": {
    "id": "XumyqFp6MHnv"
   },
   "outputs": [
    {
     "name": "stdout",
     "output_type": "stream",
     "text": [
      "Enter a number24\n",
      "That number is divisible by either 3 or 5\n"
     ]
    }
   ],
   "source": [
    "a = int(input(\"Enter a number\"))\n",
    "if(a%3==0 or a%5==0):\n",
    "    print(\"That number is divisible by either 3 or 5\")\n",
    "else:\n",
    "    print(\"That number is not divisible by either 3 or 5\")"
   ]
  },
  {
   "cell_type": "markdown",
   "metadata": {},
   "source": [
    "### 8. "
   ]
  },
  {
   "cell_type": "code",
   "execution_count": 8,
   "metadata": {},
   "outputs": [
    {
     "name": "stdout",
     "output_type": "stream",
     "text": [
      "Enter length 14\n",
      "Enter width 18\n",
      "Area is 252.0\n",
      "It is a rectangle\n"
     ]
    }
   ],
   "source": [
    "length = int(input(\"Enter length \"))\n",
    "width = int(input(\"Enter width \"))\n",
    "\n",
    "area = float(length * width)\n",
    "\n",
    "print(f\"Area is {area}\")\n",
    "if(length==width):\n",
    "    print(\"It is a square\")\n",
    "else:\n",
    "    print(\"It is a rectangle\")"
   ]
  },
  {
   "cell_type": "markdown",
   "metadata": {},
   "source": [
    "### 9."
   ]
  },
  {
   "cell_type": "code",
   "execution_count": 9,
   "metadata": {},
   "outputs": [
    {
     "name": "stdout",
     "output_type": "stream",
     "text": [
      "Enter radius 1: 2\n",
      "Enter radius 2: 4\n",
      "Area of circle_1 is 12.566370614359172\n",
      "Area of circle_2 is 50.26548245743669\n",
      "circle_2 has larger area\n"
     ]
    }
   ],
   "source": [
    "from math import *\n",
    "radius_1 = int(input(\"Enter radius 1: \"))\n",
    "radius_2 = int(input(\"Enter radius 2: \"))\n",
    "area_circle_1 = pi*radius_1*radius_1\n",
    "area_circle_2 = pi*radius_2*radius_2\n",
    "print(f\"Area of circle_1 is {area_circle_1}\")\n",
    "print(f\"Area of circle_2 is {area_circle_2}\")\n",
    "if(area_circle_1>area_circle_2):\n",
    "    print(\"circle_1 has larger area\")\n",
    "elif(area_circle_1<area_circle_2):\n",
    "    print(\"circle_2 has larger area\")\n",
    "else:\n",
    "    print(\"area is equal\")"
   ]
  },
  {
   "cell_type": "markdown",
   "metadata": {},
   "source": [
    "### 10."
   ]
  },
  {
   "cell_type": "code",
   "execution_count": 10,
   "metadata": {},
   "outputs": [
    {
     "name": "stdout",
     "output_type": "stream",
     "text": [
      "Enter a year 2000\n",
      "2000 is a leap year\n"
     ]
    }
   ],
   "source": [
    "year = int(input(\"Enter a year \"))\n",
    "if (year % 400 == 0) and (year % 100 == 0):\n",
    "    print(f\"{year} is a leap year\")\n",
    "elif (year % 4 ==0) and (year % 100 != 0):\n",
    "    print(f\"{year} is a leap year\")\n",
    "else:\n",
    "    print(f\"{year} is not a leap year\")"
   ]
  },
  {
   "cell_type": "code",
   "execution_count": null,
   "metadata": {},
   "outputs": [],
   "source": []
  }
 ],
 "metadata": {
  "colab": {
   "collapsed_sections": [],
   "provenance": []
  },
  "kernelspec": {
   "display_name": "Python 3 (ipykernel)",
   "language": "python",
   "name": "python3"
  },
  "language_info": {
   "codemirror_mode": {
    "name": "ipython",
    "version": 3
   },
   "file_extension": ".py",
   "mimetype": "text/x-python",
   "name": "python",
   "nbconvert_exporter": "python",
   "pygments_lexer": "ipython3",
   "version": "3.9.13"
  }
 },
 "nbformat": 4,
 "nbformat_minor": 1
}
