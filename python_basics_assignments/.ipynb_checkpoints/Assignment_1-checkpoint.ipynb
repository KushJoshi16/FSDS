{
 "cells": [
  {
   "cell_type": "markdown",
   "metadata": {
    "id": "NVEtam_xU7lK"
   },
   "source": [
    "##1. What is indentation error? Why indentation is important? Give one simple example?"
   ]
  },
  {
   "cell_type": "markdown",
   "metadata": {
    "id": "ufuxdTwEcSbP"
   },
   "source": [
    "*An Indentation error occurs in python due to inappropriate use of whitespaces and tabs. If there are extra spaces between lines of code of a particular block then indentation error ocurs because python is a procedural language.*\n",
    "\n",
    "*Indentation is important because without it python confuse to excute the statement as which statement would go first. Without indentation python code shows error 'indentation error' and code can't reach to its task.*\n",
    "\n",
    "*Example : correct indentation*\n",
    "\n",
    " ```python\n",
    "a=10\n",
    "b=20\n",
    "if a+b==30:\n",
    "  print(\"sum is 30\")\n",
    "else:\n",
    "  print(\"sum is not 30\")\n",
    " ```\n",
    "```\n",
    "Output\n",
    " sum is 30\n",
    " ```\n",
    "\n",
    "*Example : indentation error*\n",
    "\n",
    "```python\n",
    "a=10\n",
    "b=20\n",
    "if a+b==30:\n",
    "print(\"sum is 30\")\n",
    "else:\n",
    "  print(\"sum is not 30\") \n",
    "\n",
    "Output\n",
    "   File \"<ipython-input-4-5166168c0ea0>\", line 4\n",
    "    print(\"sum is 30\")\n",
    "        ^\n",
    "IndentationError: expected an indented block \n",
    "```\n"
   ]
  },
  {
   "cell_type": "markdown",
   "metadata": {
    "id": "QXuaVoZI9_F7"
   },
   "source": [
    "##2. Correct the following code and write the comment where you made the correction?\n",
    "\n",
    " ```python\n",
    "  class_started = bool(input(\"Hey friend, is class started?: [0-False/1-True]\"))\n",
    "\n",
    "  if class_started:\n",
    "      print(\"Since class started...\")\n",
    "      print(\"Lets concentrate\")\n",
    "  else:\n",
    "      print(\"Since class is not started...\")\n",
    "      print(\"let's revise\")    \n",
    "  ```"
   ]
  },
  {
   "cell_type": "code",
   "execution_count": null,
   "metadata": {
    "colab": {
     "base_uri": "https://localhost:8080/"
    },
    "id": "hOT7d5yzUz_v",
    "outputId": "d8e6d067-f79f-4ea9-f65f-98e2e87b1ab1"
   },
   "outputs": [
    {
     "name": "stdout",
     "output_type": "stream",
     "text": [
      "Hey friend, is class started?: [0-False/1-True]0\n",
      "Since class is not started...\n",
      "let's revise\n"
     ]
    }
   ],
   "source": [
    "#Since input statement in python is of string type so to convert it into a bool first we have to conevrt it into int type\n",
    "class_started = bool(int(input(\"Hey friend, is class started?: [0-False/1-True]\")))\n",
    "\n",
    "if class_started:\n",
    "      print(\"Since class started...\")\n",
    "      print(\"Lets concentrate\")\n",
    "else:\n",
    "      print(\"Since class is not started...\")\n",
    "      print(\"let's revise\") "
   ]
  },
  {
   "cell_type": "markdown",
   "metadata": {
    "id": "gA5VQBRQCaJo"
   },
   "source": [
    "##3.  Use if else condition to verify that dataype of `input()` method in python is always string.\n"
   ]
  },
  {
   "cell_type": "markdown",
   "metadata": {
    "id": "yZ0CRKXbk2vr"
   },
   "source": [
    "```python\n",
    "# Input() method in python3 is always a string by default\n",
    "# eg->\n",
    "a= input(\"Enter your age to check the eligiblity to vote \")\n",
    "print(type(a))\n",
    "if a>=18:\n",
    "  print(\"You are eligible\")\n",
    "else:\n",
    "  print(\"You are not eligible\")\n",
    "```\n",
    "Output\n",
    "\n",
    "```python\n",
    "Enter your age to check the eligiblity to vote 18\n",
    "<class 'str'>\n",
    "---------------------------------------------------------------------------\n",
    "TypeError                                 Traceback (most recent call last)\n",
    "<ipython-input-3-1c05998c76e4> in <module>\n",
    "      3 a= input(\"Enter your age to check the eligiblity to vote \")\n",
    "      4 print(type(a))\n",
    "----> 5 if a>=18:\n",
    "      6   print(\"You are eligible\")\n",
    "      7 else:\n",
    "\n",
    "TypeError: '>=' not supported between instances of 'str' and 'int'\n",
    "```"
   ]
  },
  {
   "cell_type": "code",
   "execution_count": 5,
   "metadata": {
    "colab": {
     "base_uri": "https://localhost:8080/"
    },
    "id": "UkVsLshkCXod",
    "outputId": "988c5feb-41ca-4399-87b0-375224d221b3"
   },
   "outputs": [
    {
     "name": "stdout",
     "output_type": "stream",
     "text": [
      "Enter your age to check the eligiblity to vote 18\n",
      "<class 'int'>\n",
      "You are eligible\n"
     ]
    }
   ],
   "source": [
    "# Input() method in python3 is always a string by default\n",
    "# eg of correct output->\n",
    "a= int(input(\"Enter your age to check the eligiblity to vote \"))\n",
    "print(type(a))\n",
    "if a>=18:\n",
    "  print(\"You are eligible\")\n",
    "else:\n",
    "  print(\"You are not eligible\")  "
   ]
  },
  {
   "cell_type": "markdown",
   "metadata": {
    "id": "F7nIekm5mo5A"
   },
   "source": [
    "####4. Take 3 variables and assign integer values to them. Find the largest    variable, by only using the if and else conditions."
   ]
  },
  {
   "cell_type": "code",
   "execution_count": 10,
   "metadata": {
    "colab": {
     "base_uri": "https://localhost:8080/"
    },
    "id": "6DyhORHqmmbC",
    "outputId": "e85ae3d1-5269-42ad-f93c-8d8ae3238881"
   },
   "outputs": [
    {
     "name": "stdout",
     "output_type": "stream",
     "text": [
      "**********Finding Largest number among three numbers************\n",
      "Enter first number 23\n",
      "Enter second number 45\n",
      "Enter third number 12\n",
      "Latgest no. = 45\n"
     ]
    }
   ],
   "source": [
    "print(\"**********Finding Largest number among three numbers************\")\n",
    "a=int(input(\"Enter first number \"))\n",
    "b=int(input(\"Enter second number \"))\n",
    "c=int(input(\"Enter third number \"))\n",
    "if a>b:\n",
    "  if a>c:\n",
    "    print(f\"Largest no. = {a}\")\n",
    "  else:\n",
    "    print(f\"Largest no. = {c}\")\n",
    "else:\n",
    "  print(f\"Latgest no. = {b}\")      "
   ]
  },
  {
   "cell_type": "markdown",
   "metadata": {
    "id": "_OSXCMvWoRv2"
   },
   "source": [
    "5. What would be the solution?\n",
    "    1. True\n",
    "    2. False\n",
    "\n",
    "    ```python\n",
    "    a = 6\n",
    "    b = 10\n",
    "    print( not ( not a == 10 or not b == 10) )\n",
    "    ```\n",
    "    Simplify\n",
    "\n",
    "    T->true\n",
    "    F->false\n",
    "\n",
    "    =>(!(!F or !T))\n",
    "\n",
    "    =>(!(T or F))\n",
    "\n",
    "    =>(!T)\n",
    "    \n",
    "    =>F=False"
   ]
  },
  {
   "cell_type": "code",
   "execution_count": 11,
   "metadata": {
    "colab": {
     "base_uri": "https://localhost:8080/"
    },
    "id": "ae9terxjoNR4",
    "outputId": "ff7e32fc-7a78-431f-84f1-25bae3d829ef"
   },
   "outputs": [
    {
     "name": "stdout",
     "output_type": "stream",
     "text": [
      "False\n"
     ]
    }
   ],
   "source": [
    "a = 6\n",
    "b = 10\n",
    "print( not ( not a == 10 or not b == 10) )"
   ]
  },
  {
   "cell_type": "markdown",
   "metadata": {
    "id": "ad6K9Edvtxay"
   },
   "source": [
    "6. Find the answer as well as find out the reason behind the result? -\n",
    "    - case 1:\n",
    "        ```python\n",
    "        A = 5.0\n",
    "        B = 10/2\n",
    "        print(A is B)\n",
    "        ```\n",
    "    - case 2:\n",
    "        ```python\n",
    "        A = 5.0\n",
    "        B = int(10/2)\n",
    "        print(A is B)\n",
    "        ```\n",
    "    - case 3:\n",
    "        ```python\n",
    "        A = 5.0\n",
    "        B = float(10/2)\n",
    "        print(A is B)\n",
    "        ```\n",
    "**is operator** is used to check whether the memory location is identical or not. Whether the memory location is pointing the same object or not. \n",
    "\n",
    "In all the 3 cases the **is** operator is not pointing the same object as A and B memory location are not identical so they \n",
    "result in False condition.\n",
    "\n"
   ]
  },
  {
   "cell_type": "code",
   "execution_count": 22,
   "metadata": {
    "colab": {
     "base_uri": "https://localhost:8080/"
    },
    "id": "kkLCaSZIogt6",
    "outputId": "e4815a51-c04a-46b0-f2f9-eb20474c92c9"
   },
   "outputs": [
    {
     "name": "stdout",
     "output_type": "stream",
     "text": [
      "139652425016464\n",
      "139652500337840\n",
      "False\n"
     ]
    }
   ],
   "source": [
    "A = 5.0\n",
    "B = 10/2\n",
    "# both memory addresses/object are different\n",
    "print(id(A))\n",
    "print(id(B))\n",
    "print(A is B)"
   ]
  },
  {
   "cell_type": "code",
   "execution_count": 23,
   "metadata": {
    "colab": {
     "base_uri": "https://localhost:8080/"
    },
    "id": "K-fsTXOruGF1",
    "outputId": "4f4e7493-8e9f-453b-80b7-3b578204387a"
   },
   "outputs": [
    {
     "name": "stdout",
     "output_type": "stream",
     "text": [
      "139652425639856\n",
      "11122720\n",
      "False\n"
     ]
    }
   ],
   "source": [
    "A = 5.0\n",
    "B = int(10/2)\n",
    "# both memory addresses/object are different\n",
    "print(id(A))\n",
    "print(id(B))\n",
    "print(A is B)"
   ]
  },
  {
   "cell_type": "code",
   "execution_count": 24,
   "metadata": {
    "colab": {
     "base_uri": "https://localhost:8080/"
    },
    "id": "PCnyr1YZwNOJ",
    "outputId": "43a0278f-6e27-484b-f353-e2d5082f292c"
   },
   "outputs": [
    {
     "name": "stdout",
     "output_type": "stream",
     "text": [
      "139652425640080\n",
      "139652500337840\n",
      "False\n"
     ]
    }
   ],
   "source": [
    "A = 5.0\n",
    "B = float(10/2)\n",
    "# both memory addresses/object are different\n",
    "print(id(A))\n",
    "print(id(B))\n",
    "print(A is B)"
   ]
  },
  {
   "cell_type": "markdown",
   "metadata": {
    "id": "RyOppO1k1rKC"
   },
   "source": [
    "7. Write a program that asks the user to enter a number. You should print out a message to the user, either “That number is divisible by either 3 or 5”, or “That number is not divisible by either 3 or 5”. Be sure to consider the data type of the input you are taking in from the user. Use a single if/else block to solve this problem."
   ]
  },
  {
   "cell_type": "code",
   "execution_count": 27,
   "metadata": {
    "colab": {
     "base_uri": "https://localhost:8080/"
    },
    "id": "lPw9Q5C32ID_",
    "outputId": "feae25c8-ed92-48f4-8f06-7e8d3ebd7fc9"
   },
   "outputs": [
    {
     "name": "stdout",
     "output_type": "stream",
     "text": [
      "Enter a number 10\n",
      "That number is divisible by either 3 or 5\n"
     ]
    }
   ],
   "source": [
    "a = int(input(\"Enter a number \"))\n",
    "if a%3==0 or a%5==0:\n",
    "  print(\"That number is divisible by either 3 or 5\")\n",
    "else:\n",
    "  print(\"That number is not divisible by 3 or 5\")  "
   ]
  },
  {
   "cell_type": "markdown",
   "metadata": {
    "id": "4J4qBKwN4HW_"
   },
   "source": [
    "`8. Take user input for length and width. Then calculate the area of rectangle. Also print as per length and width whether its a square of rectangle.\n"
   ]
  },
  {
   "cell_type": "code",
   "execution_count": 2,
   "metadata": {
    "colab": {
     "base_uri": "https://localhost:8080/"
    },
    "id": "y-5ZZb1xxFj5",
    "outputId": "423facda-15e9-4cef-8fff-67ea5598386d"
   },
   "outputs": [
    {
     "name": "stdout",
     "output_type": "stream",
     "text": [
      "Enter tha lenght of a rectangle50\n",
      "Enter the width of a rectangular50\n",
      "Area of rectangle = 2500.0\n",
      "It's a square\n"
     ]
    }
   ],
   "source": [
    "length = float(input(\"Enter tha lenght of a rectangle \"))\n",
    "width = float(input(\"Enter the width of a rectangular \"))\n",
    "area = float(length * width)\n",
    "print(f\"Area of rectangle = {area}\")\n",
    "if length==width:\n",
    "  print(\"It's a square\")\n",
    "else:\n",
    "  print(\"It's a rectangle\")\n",
    "\n"
   ]
  },
  {
   "cell_type": "markdown",
   "metadata": {
    "id": "tp5FQonimR6U"
   },
   "source": [
    "9. Take two variable radius_1 and radius_2 and calculate the area of circle_1 and circle_2. Also print which circle has large area. If area is equal then print area is equal."
   ]
  },
  {
   "cell_type": "code",
   "execution_count": 5,
   "metadata": {
    "colab": {
     "base_uri": "https://localhost:8080/"
    },
    "id": "k8gQ2HQbl7IH",
    "outputId": "3ec3113a-928e-45ca-da8a-39dda5c710bc"
   },
   "outputs": [
    {
     "name": "stdout",
     "output_type": "stream",
     "text": [
      "Enter radius of first circle 5\n",
      "Enter radius of second circle 6\n",
      "Area of circle 1 = 78.5\n",
      "Area of circle 2 = 113.04\n",
      "Circle 2 is grater than circle 1\n"
     ]
    }
   ],
   "source": [
    "radius_1 =  float(input(\"Enter radius of first circle \"))\n",
    "radius_2 = float(input(\"Enter radius of second circle \"))\n",
    "# Area of circles\n",
    "area_1 = 3.14 * radius_1 * radius_1\n",
    "area_2 = 3.14 * radius_2 * radius_2\n",
    "print(f\"Area of circle 1 = {round(area_1,3)}\")\n",
    "print(f\"Area of circle 2 = {round(area_2,3)}\")\n",
    "# checking for larger circle\n",
    "if area_1>area_2:\n",
    "  print(\"Circle 1 is grater than circle 2\")\n",
    "else:\n",
    "  print(\"Circle 2 is grater than circle 1\")\n",
    "    "
   ]
  },
  {
   "cell_type": "markdown",
   "metadata": {
    "id": "L2kF0NHsqBbn"
   },
   "source": [
    "10. Check whether a year is leap year or not. Use nested if...else to solve this problem. A leap year is exactly divisible by 4 except for century years (years ending with 00). The century year is a leap year only if it is perfectly divisible by 400."
   ]
  },
  {
   "cell_type": "code",
   "execution_count": 13,
   "metadata": {
    "colab": {
     "base_uri": "https://localhost:8080/"
    },
    "id": "vpnCb7DnpYuf",
    "outputId": "4a677ab9-e387-480b-cc8a-0a7cfd625f25"
   },
   "outputs": [
    {
     "name": "stdout",
     "output_type": "stream",
     "text": [
      "Enter a year 2024\n",
      "2024 is a leap year\n"
     ]
    }
   ],
   "source": [
    "year = int(input(\"Enter a year \"))\n",
    "if year % 4 == 0:\n",
    "  if year % 100 == 0:\n",
    "     if year % 400 == 0:\n",
    "        print(f\"{year} is a leap year\")  \n",
    "     else:\n",
    "        print(f\"{year} is not a leap year\")\n",
    "  else:\n",
    "     print(f\"{year} is a leap year\")\n",
    "else:\n",
    "  print(f\"{year} is not a leap year\")"
   ]
  },
  {
   "cell_type": "code",
   "execution_count": 13,
   "metadata": {
    "id": "n8S6rzxwsb7j"
   },
   "outputs": [],
   "source": []
  }
 ],
 "metadata": {
  "colab": {
   "collapsed_sections": [],
   "provenance": []
  },
  "kernelspec": {
   "display_name": "Python 3 (ipykernel)",
   "language": "python",
   "name": "python3"
  },
  "language_info": {
   "codemirror_mode": {
    "name": "ipython",
    "version": 3
   },
   "file_extension": ".py",
   "mimetype": "text/x-python",
   "name": "python",
   "nbconvert_exporter": "python",
   "pygments_lexer": "ipython3",
   "version": "3.9.13"
  }
 },
 "nbformat": 4,
 "nbformat_minor": 1
}
