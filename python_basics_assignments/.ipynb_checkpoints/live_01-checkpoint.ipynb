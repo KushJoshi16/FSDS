{
 "cells": [
  {
   "cell_type": "markdown",
   "id": "6e0a56ff",
   "metadata": {},
   "source": [
    "# ASSIGNMENT\n",
    "\n",
    "\n",
    "1. Find out all the types of error that we have encountered in our lecture and why? Also include the examples.\n",
    "2. Take input A and B and print their sum, mul, div, square of the nos.\n",
    "3. How many reserve keywords are there in python and why we should not use them as a variable name.\n",
    "4. Create email ids with the user inputs. in the following format - \n",
    "lastname.firstname@gmail.com\n",
    "5. Try to print the following lines - \n",
    "  - Hi I'm Sunny\n",
    "  - My address is 22\\3 \n",
    "  - I earn 20$ daily.\n",
    "6. Take user input (name, address, date of birth etc) to fill a form for your college and print their email IDs\n",
    "7. Convert the following - \n",
    "  - \"22.4\" into integer\n",
    "  - \"22\" into complex no.\n"
   ]
  },
  {
   "cell_type": "markdown",
   "id": "239b1b86",
   "metadata": {},
   "source": [
    "# Answers"
   ]
  },
  {
   "cell_type": "markdown",
   "id": "ba5ec381",
   "metadata": {},
   "source": [
    "# 1.\n",
    "\n",
    "#### Types of Error's have been covered in the lecture are:\n",
    "\n",
    "\n",
    "*   NameError\n",
    "*   ValueError\n",
    "*   SyntaxError\n",
    "*   TypeError\n",
    "\n",
    "#### All the errors encountered were in the following lines of codes\n",
    "```\n",
    "#Examples:\n",
    "1.\n",
    "Print(\"Good Evening\")\n",
    "2.\n",
    "print \"Good Evening\"\n",
    "3.\n",
    "print(\"Good \n",
    "Evening\")\n",
    "4.\n",
    "print(\"Hi my name is \"Sunny\" \")\n",
    "5.\n",
    "ten* = 10\n",
    "6.\n",
    "ten%number = 10\n",
    "7.\n",
    "10ten = 10\n",
    "8.\n",
    "ten number = 10\n",
    "9.\n",
    "\"Day \" + 1\n",
    "10.\n",
    "\"22\" + 22\n",
    "11.\n",
    "22 + \"22\"\n",
    "12.\n",
    "print(Ten)\n",
    "13.\n",
    "print = \"Hi there\" # as a variable\n",
    "type(print)\n",
    "print(\"Hi there\")\n",
    "14.\n",
    "print = 12 # as a variable\n",
    "type(print)\n",
    "print(\"Hi there\")\n",
    "\n",
    "15.\n",
    "name = input(\"Name: \") # always gives you string values\n",
    "place = input(\"place: \")\n",
    "year_of_birth = input(\"year_of_birth: \")\n",
    "age = 2022 - year_of_birth\n",
    "16.\n",
    "int A\n",
    "17.\n",
    "A = int(input(\"Enter value of A: \"))\n",
    "B = int(input(\"Enter value of B: \")) # 10.2 is float but converting to int\n",
    "print(f\"Sum of A and B is: {A+B}\")\n",
    " -> when input 10.2 for A we get error\n",
    "18.\n",
    "# String to integer\n",
    "A = \"50.22\" # entering float\n",
    "print(f\"data type before: {type(A)}, value of A: {A}\")\n",
    "A = int(A) # trying to convert into integer\n",
    "print(f\"data type after: {type(A)}, value of A: {A}\")\n",
    "19.\n",
    "# empty string to int\n",
    "A = \"\"\n",
    "print(f\"data type before: {type(A)}, value of A: {A}\")\n",
    "A = int(A)\n",
    "print(f\"data type after: {type(A)}, value of A: {A}\")\n",
    "```"
   ]
  },
  {
   "cell_type": "markdown",
   "id": "e75add43",
   "metadata": {},
   "source": [
    "\n",
    "# WHY\n",
    "1. Python is uppercase and hence we have encountered error since Print has capital P which makes it not recognised by the interpreter giving us an error.\n",
    "Which could have been avoided by using 'print'.\n",
    "2. print is a function which needs it parameters to be passed using '()'.\n",
    "3. For a multi line string we need to use triple \" without which we encounter error as using single \" does not enable interpreter to read string in multilines.\n",
    "4. Sunny is written in single \" which ends the prev strting \" we instead could have used \\\" i.e. an escape sequence or could have put our string in triple \".\n",
    "5,6,7,8. Variable names have certain rules that shoud not be violeted for the language to function properrly not following them may give us error.\n",
    "    The rules are:\n",
    "    1. Variable names should start with alphabets\n",
    "    2. Variable names should not contain any special characters like ^ % $ ! @ # ^ & * ( )\n",
    "    3. Variable names can contain numbers but you can't start with numbers\n",
    "9,10,11. String and integers are different data types. '+' operator cannot work on them.\n",
    "12. Ten was not initialised\n",
    "13. print is assigned as a string variable and hence is no more treated as a function. It needs to be deleted to restore as function.\n",
    "14. print is assigned as a int variable and hence is no more treated as a function. It needs to be deleted to restore as function.\n",
    "15. year_of_birth is a string hence '-' operator gives error when used between an int and string\n",
    "16. A cannot be typecasted to string using this syntax. The correct syntax is int(A).\n",
    "17. A is assigned to typecasted int value returned by input(), which returns value as a string and 10.2 in string cannot be directly converted to int. \n",
    "    We can take a turnaround for this conversion by : int(float(input(\"...\")))\n",
    "18. A is taken as a string and 50.22 in string cannot be directly converted to int. \n",
    "    We can take a turnaround for this conversion by : int(float(A))\n",
    "19. A is assigned an empty string and hence cannot be converted into an integer.\n",
    "\n"
   ]
  },
  {
   "cell_type": "markdown",
   "id": "6b5fa82a",
   "metadata": {},
   "source": [
    "# 2."
   ]
  },
  {
   "cell_type": "code",
   "execution_count": 1,
   "id": "fd1f62c6",
   "metadata": {},
   "outputs": [
    {
     "name": "stdout",
     "output_type": "stream",
     "text": [
      "Enter A: 12\n",
      "Enter B: 13\n",
      "12.0 + 13.0 = 25.0\n",
      "12.0 * 13.0 = 156.0\n",
      "12.0 / 13.0 = 0.9230769230769231\n",
      "Square of 12.0 = 144.0\n",
      "Square of 13.0 = 169.0\n"
     ]
    }
   ],
   "source": [
    "A = float(input(\"Enter A: \"))\n",
    "B = float(input(\"Enter B: \"))\n",
    "# sum\n",
    "print(f\"{A} + {B} = {A+B}\")\n",
    "# multiply\n",
    "print(f\"{A} * {B} = {A*B}\")\n",
    "# division\n",
    "print(f\"{A} / {B} = {A/B}\")\n",
    "# square\n",
    "print(f\"Square of {A} = {A**2}\")\n",
    "print(f\"Square of {B} = {B**2}\")"
   ]
  },
  {
   "cell_type": "markdown",
   "id": "a4b10f99",
   "metadata": {},
   "source": [
    "# 3.\n",
    "*There are 31 reserved words in python according to current version*\n",
    "*and* , *del* , *from* , *not* ,      *while* ,   \n",
    "*as*   ,     *elif*  ,    *global*  ,  *or*  ,      *with* ,    \n",
    "*assert* ,   *else*  ,    *if*  ,      *pass*  ,    *yield* ,   \n",
    "*break*  ,   *except* ,   *import* ,   *print* ,             \n",
    "*class*  ,   *exec*  ,    *in*     ,   *raise* ,             \n",
    "*continue* , *finally* ,  *is*   ,     *return* ,            \n",
    "*def* ,      *for* ,      *lambda*   , *try*\n",
    "We would not use reserved words as a variable name because these are predefined and already assigned py the python to a particular task so we can't use keywords as any other identifiers. If so we will encounter an error in case of violating the rules of python identifiers"
   ]
  },
  {
   "cell_type": "markdown",
   "id": "b1b4e78c",
   "metadata": {},
   "source": [
    "# 4."
   ]
  },
  {
   "cell_type": "code",
   "execution_count": 3,
   "id": "7604c206",
   "metadata": {},
   "outputs": [
    {
     "name": "stdout",
     "output_type": "stream",
     "text": [
      "Enter the firstName: kush\n",
      "Enter the lastName: joshi\n",
      "Email is : joshi.kush@gmail.com\n"
     ]
    }
   ],
   "source": [
    "firstname = input(\"Enter the firstName: \")\n",
    "lastname = input(\"Enter the lastName: \")\n",
    "print(f\"Email is : {lastname}.{firstname}@gmail.com\")"
   ]
  },
  {
   "cell_type": "markdown",
   "id": "a13ad928",
   "metadata": {},
   "source": [
    "# 5."
   ]
  },
  {
   "cell_type": "code",
   "execution_count": 4,
   "id": "2b4a8b06",
   "metadata": {},
   "outputs": [
    {
     "name": "stdout",
     "output_type": "stream",
     "text": [
      "Hi I'm Sunny.\n",
      "My address is 22\\3.\n",
      "I earn 20$ daily.\n"
     ]
    }
   ],
   "source": [
    "name = \"Sunny\"\n",
    "address = \"22\\\\3\"\n",
    "salary = 20\n",
    "print(f\"\"\"Hi I\\'m {name}.\n",
    "My address is {address}.\n",
    "I earn {salary}$ daily.\"\"\")"
   ]
  },
  {
   "cell_type": "markdown",
   "id": "b3f1d1a4",
   "metadata": {},
   "source": [
    "# 6."
   ]
  },
  {
   "cell_type": "code",
   "execution_count": 5,
   "id": "a1c18f17",
   "metadata": {},
   "outputs": [
    {
     "name": "stdout",
     "output_type": "stream",
     "text": [
      "Enter your Name: kush\n",
      "Enter your address clement town, dehradun\n",
      "Enter your gender Male/Female: Male\n",
      "Enter your date-of-birth: 2002\n",
      "Enter your Email-Id: kushjoshi@gmail.com\n",
      "Email-Id: kushjoshi@gmail.com\n"
     ]
    }
   ],
   "source": [
    "name = input(\"Enter your Name: \")\n",
    "address=input(\"Enter your address \")\n",
    "gender =input(\"Enter your gender Male/Female: \")\n",
    "dob = input(\"Enter your date-of-birth: \")\n",
    "email = input(\"Enter your Email-Id: \")\n",
    "print(f\"Email-Id: {email}\")"
   ]
  },
  {
   "cell_type": "markdown",
   "id": "07ca88b7",
   "metadata": {},
   "source": [
    "# 7."
   ]
  },
  {
   "cell_type": "code",
   "execution_count": 7,
   "id": "744332be",
   "metadata": {},
   "outputs": [
    {
     "name": "stdout",
     "output_type": "stream",
     "text": [
      "<class 'int'>\n",
      "(22+0j)\n",
      "<class 'complex'>\n"
     ]
    }
   ],
   "source": [
    "# \"22.4\" to integer\n",
    "i = int(float(\"22.4\"))\n",
    "print(type(i))\n",
    "\n",
    "# \"22\" into complex no.\n",
    "c = complex(int(\"22\"))\n",
    "print(c)\n",
    "print(type(c))"
   ]
  },
  {
   "cell_type": "code",
   "execution_count": null,
   "id": "fddb443e",
   "metadata": {},
   "outputs": [],
   "source": []
  }
 ],
 "metadata": {
  "kernelspec": {
   "display_name": "Python 3 (ipykernel)",
   "language": "python",
   "name": "python3"
  },
  "language_info": {
   "codemirror_mode": {
    "name": "ipython",
    "version": 3
   },
   "file_extension": ".py",
   "mimetype": "text/x-python",
   "name": "python",
   "nbconvert_exporter": "python",
   "pygments_lexer": "ipython3",
   "version": "3.9.13"
  }
 },
 "nbformat": 4,
 "nbformat_minor": 5
}
