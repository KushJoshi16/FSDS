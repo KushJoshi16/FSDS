{
 "cells": [
  {
   "cell_type": "markdown",
   "id": "47c68ee6",
   "metadata": {},
   "source": [
    "1."
   ]
  },
  {
   "cell_type": "markdown",
   "id": "b019ec87",
   "metadata": {},
   "source": [
    "*\n",
    "    expression\n",
    "    \n",
    "'hello'\n",
    "    value\n",
    "    \n",
    "-87.8\n",
    "    value\n",
    "    \n",
    "-\n",
    "    expression\n",
    "    \n",
    "/\n",
    "    expression\n",
    "    \n",
    "+\n",
    "    expression"
   ]
  },
  {
   "cell_type": "markdown",
   "id": "18970db9",
   "metadata": {},
   "source": [
    "2."
   ]
  },
  {
   "cell_type": "markdown",
   "id": "c29d2cb4",
   "metadata": {},
   "source": [
    "A variable is like a symbol used to store data. It has a value assigned to it.\n",
    "\n",
    "A string is a collection of (0 or more) characters. It itself is a value."
   ]
  },
  {
   "cell_type": "markdown",
   "id": "aa98bd53",
   "metadata": {},
   "source": [
    "3."
   ]
  },
  {
   "cell_type": "markdown",
   "id": "0b07ccd7",
   "metadata": {},
   "source": [
    "Theree different data types in python are:\n",
    "\n",
    "\n",
    "    Text Type:\n",
    "        str - It can store string\n",
    "        \n",
    "    Numeric Types: \n",
    "    \n",
    "        int - it can store integers (a number without a decimal point).\n",
    "        b = 3\n",
    "        \n",
    "        float - it can store floating point number (a number that has a decimal place).\n",
    "        c = 2.4\n",
    "        \n",
    "        complex - it can store complex numbers i.e. no. that have real and imaginary part.\n",
    "        num = 12 + 13j\n",
    "\n",
    "    Sequence Types: \n",
    "    \n",
    "        list - A list is a collection of data where all the values need not neccesrily be of the same type in python and duplicate values can be present.Lists are used to store multiple items in a single variable and are mutable.\n",
    "        my_list = [1,2,3,4,5,6]\n",
    "        \n",
    "        tuple - A tuple is a collection of data where all the values need not neccesrily be of the same type in python and duplicate values can be present. A tuple is a collection which is ordered and unchangeable (immutable).\n",
    "        my_tuple = (1,2,3,4,5,6)"
   ]
  },
  {
   "cell_type": "markdown",
   "id": "8a5e2b1c",
   "metadata": {},
   "source": [
    "4."
   ]
  },
  {
   "cell_type": "markdown",
   "id": "fb15aebf",
   "metadata": {},
   "source": [
    "An expression is a combination of variables, operations and values that yields a result value.\n",
    "An expression can produce some value at runtime.\n",
    "\n",
    "for Eg: \n",
    "    y = 3*x\n",
    "    \n",
    "    # x and y are variables, and this is an expression which will give a certain value of y according to what we set the value of x.\n",
    "    \n",
    "    In python expression can cotain operator and operators where operands can also include functions.\n"
   ]
  },
  {
   "cell_type": "markdown",
   "id": "dee56114",
   "metadata": {},
   "source": [
    "5."
   ]
  },
  {
   "cell_type": "markdown",
   "id": "aaa4eaa6",
   "metadata": {},
   "source": [
    "An expression is  a combination of variables, operations and values and gives a values or result based on these. For eg, y = 3*c + 45 - 7*12\n",
    "Whereas a statement is a command or action (instruction). For eg, print('Hello')"
   ]
  },
  {
   "cell_type": "markdown",
   "id": "a6fb8f24",
   "metadata": {},
   "source": [
    "6."
   ]
  },
  {
   "cell_type": "markdown",
   "id": "7509ab5e",
   "metadata": {},
   "source": [
    "22\n",
    "\n",
    "bacon contains 22 since bacon + 1 will not modify the value stored in bacon"
   ]
  },
  {
   "cell_type": "markdown",
   "id": "6ec02be0",
   "metadata": {},
   "source": [
    "7."
   ]
  },
  {
   "cell_type": "markdown",
   "id": "061fd3ab",
   "metadata": {},
   "source": [
    "both the terms will give :\n",
    "    \n",
    "    'spamspamspam'"
   ]
  },
  {
   "cell_type": "markdown",
   "id": "9f669420",
   "metadata": {},
   "source": [
    "8."
   ]
  },
  {
   "cell_type": "markdown",
   "id": "dd272ab4",
   "metadata": {},
   "source": [
    "In python variable name cannot start with a number and variable name can only contain alpha-numeric characters and underscores. hence eggs is a valid variable name and 100 is not beacuse eggs is made of alphabets whereas 100 has only numbers."
   ]
  },
  {
   "cell_type": "markdown",
   "id": "609907b2",
   "metadata": {},
   "source": [
    "9."
   ]
  },
  {
   "cell_type": "markdown",
   "id": "409f171e",
   "metadata": {},
   "source": [
    "To get the integer, floating-point number, or string version of a value we can use `int()`, `float()` and `str()` ."
   ]
  },
  {
   "cell_type": "markdown",
   "id": "7d9829e6",
   "metadata": {},
   "source": [
    "10."
   ]
  },
  {
   "cell_type": "markdown",
   "id": "e4d4cd01",
   "metadata": {},
   "source": [
    "Why does this expression cause an error? How can you fix it?\n",
    "```python\n",
    "'I have eaten' + 99 + ' burritos.'\n",
    "```\n",
    "The given expression has a `string`, an `integer` and another `string` and `+` operatoor between them.\n",
    "The integer cannot be added to the string hence it gives an error.\n",
    "\n",
    "To fix the error we need to convert the integer to a string which we can do by either using `str()` or by putting the number in quotes."
   ]
  },
  {
   "cell_type": "code",
   "execution_count": null,
   "id": "016ed954",
   "metadata": {},
   "outputs": [],
   "source": []
  }
 ],
 "metadata": {
  "kernelspec": {
   "display_name": "Python 3 (ipykernel)",
   "language": "python",
   "name": "python3"
  },
  "language_info": {
   "codemirror_mode": {
    "name": "ipython",
    "version": 3
   },
   "file_extension": ".py",
   "mimetype": "text/x-python",
   "name": "python",
   "nbconvert_exporter": "python",
   "pygments_lexer": "ipython3",
   "version": "3.9.13"
  }
 },
 "nbformat": 4,
 "nbformat_minor": 5
}
