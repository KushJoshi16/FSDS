{
 "cells": [
  {
   "cell_type": "markdown",
   "id": "0e50e2db",
   "metadata": {},
   "source": [
    "1."
   ]
  },
  {
   "cell_type": "code",
   "execution_count": 2,
   "id": "24a75036",
   "metadata": {},
   "outputs": [
    {
     "name": "stdout",
     "output_type": "stream",
     "text": [
      "Hello Python\n"
     ]
    }
   ],
   "source": [
    "print(\"Hello Python\")"
   ]
  },
  {
   "cell_type": "markdown",
   "id": "a9ed5d7e",
   "metadata": {},
   "source": [
    "2. "
   ]
  },
  {
   "cell_type": "code",
   "execution_count": 8,
   "id": "4463fba9",
   "metadata": {},
   "outputs": [
    {
     "name": "stdout",
     "output_type": "stream",
     "text": [
      "11\n",
      "1.2\n",
      "1\n"
     ]
    }
   ],
   "source": [
    "x = 5\n",
    "y = 6\n",
    "\n",
    "add = x+y\n",
    "div = y/x\n",
    "floor_div = y//x\n",
    "print(f'{add}\\n{div}\\n{floor_div}')"
   ]
  },
  {
   "cell_type": "markdown",
   "id": "e119a583",
   "metadata": {},
   "source": [
    "3."
   ]
  },
  {
   "cell_type": "code",
   "execution_count": 12,
   "id": "fe6166ca",
   "metadata": {},
   "outputs": [
    {
     "name": "stdout",
     "output_type": "stream",
     "text": [
      "Enter side 1 : 12\n",
      "Enter side 2 : 11\n",
      "Enter side 3 : 10\n",
      "The area of the triangle is 51.521233486786784\n"
     ]
    }
   ],
   "source": [
    "a = float(input('Enter side 1 : '))  \n",
    "b = float(input('Enter side 2 : '))  \n",
    "c = float(input('Enter side 3 : '))  \n",
    "\n",
    "s = (a + b + c) / 2  \n",
    "\n",
    "area = (s*(s-a)*(s-b)*(s-c)) ** 0.5 \n",
    "\n",
    "print(f'The area of the triangle is {area}')"
   ]
  },
  {
   "cell_type": "markdown",
   "id": "b9fe6a87",
   "metadata": {},
   "source": [
    "4."
   ]
  },
  {
   "cell_type": "code",
   "execution_count": 13,
   "id": "1f3261e3",
   "metadata": {},
   "outputs": [
    {
     "name": "stdout",
     "output_type": "stream",
     "text": [
      "before swapping : x = 5, y = 6\n",
      "after swapping : x = 6, y = 5\n"
     ]
    }
   ],
   "source": [
    "x = 5\n",
    "y = 6\n",
    "\n",
    "print(f'before swapping : x = {x}, y = {y}')\n",
    "\n",
    "temp = x\n",
    "x = y\n",
    "y = temp\n",
    "\n",
    "print(f'after swapping : x = {x}, y = {y}')"
   ]
  },
  {
   "cell_type": "markdown",
   "id": "f0891619",
   "metadata": {},
   "source": [
    "5."
   ]
  },
  {
   "cell_type": "code",
   "execution_count": 19,
   "id": "fac75091",
   "metadata": {},
   "outputs": [
    {
     "name": "stdout",
     "output_type": "stream",
     "text": [
      "0.940946124989048\n"
     ]
    }
   ],
   "source": [
    "import random\n",
    "x = random.random()\n",
    "print(x)"
   ]
  }
 ],
 "metadata": {
  "kernelspec": {
   "display_name": "Python 3 (ipykernel)",
   "language": "python",
   "name": "python3"
  },
  "language_info": {
   "codemirror_mode": {
    "name": "ipython",
    "version": 3
   },
   "file_extension": ".py",
   "mimetype": "text/x-python",
   "name": "python",
   "nbconvert_exporter": "python",
   "pygments_lexer": "ipython3",
   "version": "3.9.13"
  }
 },
 "nbformat": 4,
 "nbformat_minor": 5
}
