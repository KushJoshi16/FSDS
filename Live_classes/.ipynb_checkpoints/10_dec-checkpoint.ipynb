{
 "cells": [
  {
   "cell_type": "code",
   "execution_count": 1,
   "id": "060facee",
   "metadata": {},
   "outputs": [],
   "source": [
    "import logging"
   ]
  },
  {
   "cell_type": "code",
   "execution_count": 10,
   "id": "75a89656",
   "metadata": {},
   "outputs": [
    {
     "name": "stderr",
     "output_type": "stream",
     "text": [
      "DEBUG:root:30\n",
      "DEBUG:root:10\n",
      "DEBUG:root:200\n",
      "DEBUG:root:2.0\n"
     ]
    }
   ],
   "source": [
    "logging.basicConfig(level=logging.DEBUG)\n",
    "\n",
    "def add(num1,num2):\n",
    "    return num1+num2\n",
    "def subtract(num1,num2):\n",
    "    return num1-num2\n",
    "def multiply(num1,num2):\n",
    "    return num1*num2\n",
    "def divide(num1,num2):\n",
    "    return num1/num2\n",
    "\n",
    "num1 = 20\n",
    "num2 = 10\n",
    "add_result = add(num1,num2)\n",
    "logging.debug(add_result)\n",
    "sub_result = subtract(num1,num2)\n",
    "logging.debug(sub_result)\n",
    "mul_result = multiply(num1,num2)\n",
    "logging.debug(mul_result)\n",
    "div_result = divide(num1,num2)\n",
    "logging.debug(div_result)"
   ]
  },
  {
   "cell_type": "code",
   "execution_count": 2,
   "id": "43d58468",
   "metadata": {},
   "outputs": [],
   "source": [
    "import logging\n",
    "\n",
    "logging.basicConfig(filename='test1.log',level=logging.INFO)\n",
    "\n",
    "def add(num1,num2):\n",
    "    return num1+num2\n",
    "def subtract(num1,num2):\n",
    "    return num1-num2\n",
    "def multiply(num1,num2):\n",
    "    return num1*num2\n",
    "def divide(num1,num2):\n",
    "    return num1/num2\n",
    "\n",
    "num1 = 20\n",
    "num2 = 10\n",
    "add_result = add(num1,num2)\n",
    "logging.debug(add_result)\n",
    "sub_result = subtract(num1,num2)\n",
    "logging.info(sub_result)\n",
    "mul_result = multiply(num1,num2)\n",
    "logging.warning(mul_result)\n",
    "div_result = divide(num1,num2)\n",
    "logging.critical(div_result)"
   ]
  },
  {
   "cell_type": "code",
   "execution_count": 12,
   "id": "3151eb92",
   "metadata": {},
   "outputs": [],
   "source": [
    "import logging\n",
    "\n",
    "logging.basicConfig(level=logging.DEBUG)\n",
    "\n",
    "def namecheck(name):\n",
    "    if len(name) <2:\n",
    "        logging.debug('checking for length')\n",
    "        return 'Invalid name'\n",
    "    elif name.isspace():\n",
    "        logging.debug('checking for name has space')\n",
    "        return 'Invalid name'\n",
    "    elif name.isalpha():\n",
    "        logging.debug('checking if name is alphabet')\n",
    "        return 'valid name'\n",
    "    elif name.replace(' ','').isalpha():\n",
    "        logging.debug('checking for full name')\n",
    "        return 'valid name'\n",
    "    else:\n",
    "        logging.debug('failed all checks')\n",
    "        return 'Invalid name'\n",
    "    "
   ]
  },
  {
   "cell_type": "code",
   "execution_count": 13,
   "id": "9ffb283c",
   "metadata": {},
   "outputs": [
    {
     "name": "stdout",
     "output_type": "stream",
     "text": [
      "valid name\n"
     ]
    }
   ],
   "source": [
    "print(namecheck('imran'))"
   ]
  },
  {
   "cell_type": "code",
   "execution_count": 14,
   "id": "3bf0f713",
   "metadata": {},
   "outputs": [
    {
     "name": "stdout",
     "output_type": "stream",
     "text": [
      "valid name\n"
     ]
    }
   ],
   "source": [
    "print(namecheck('sagar raju'))"
   ]
  },
  {
   "cell_type": "code",
   "execution_count": 15,
   "id": "9b00d329",
   "metadata": {},
   "outputs": [],
   "source": [
    "import os"
   ]
  },
  {
   "cell_type": "code",
   "execution_count": 16,
   "id": "220282ee",
   "metadata": {},
   "outputs": [
    {
     "data": {
      "text/plain": [
       "'C:\\\\Users\\\\kushj\\\\Codes\\\\FSDS\\\\Live_classes'"
      ]
     },
     "execution_count": 16,
     "metadata": {},
     "output_type": "execute_result"
    }
   ],
   "source": [
    "pwd()"
   ]
  },
  {
   "cell_type": "markdown",
   "id": "61b9b279",
   "metadata": {},
   "source": [
    "1. Create logger in your code\n",
    "2. Create a function which can take any number of inputs as an arguments and will return sum\n",
    "3. Capture user input in log file\n",
    "4. Read a log file from python code and show it in a console"
   ]
  },
  {
   "cell_type": "code",
   "execution_count": 1,
   "id": "d3e50088",
   "metadata": {},
   "outputs": [
    {
     "name": "stdout",
     "output_type": "stream",
     "text": [
      "INFO:root:1\n",
      "INFO:root:4\n",
      "INFO:root:2\n",
      "INFO:root:3\n",
      "INFO:root:5\n",
      "\n"
     ]
    }
   ],
   "source": [
    "import logging\n",
    "logging.basicConfig(filename='user_inp.log',level=logging.INFO)\n",
    "\n",
    "def sum_f(*args):\n",
    "    sum = 0\n",
    "    for i in args:\n",
    "        logging.info(str(i))\n",
    "        sum += i\n",
    "    return sum\n",
    "\n",
    "sum_f(1,4,2,3,5)\n",
    "\n",
    "f=open(\"user_inp.log\",'r')\n",
    "print(f.read())\n",
    "f.close()"
   ]
  },
  {
   "cell_type": "code",
   "execution_count": null,
   "id": "fc5bceba",
   "metadata": {},
   "outputs": [],
   "source": []
  }
 ],
 "metadata": {
  "kernelspec": {
   "display_name": "Python 3 (ipykernel)",
   "language": "python",
   "name": "python3"
  },
  "language_info": {
   "codemirror_mode": {
    "name": "ipython",
    "version": 3
   },
   "file_extension": ".py",
   "mimetype": "text/x-python",
   "name": "python",
   "nbconvert_exporter": "python",
   "pygments_lexer": "ipython3",
   "version": "3.9.13"
  }
 },
 "nbformat": 4,
 "nbformat_minor": 5
}
