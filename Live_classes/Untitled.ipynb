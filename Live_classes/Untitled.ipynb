{
 "cells": [
  {
   "cell_type": "code",
   "execution_count": 1,
   "id": "3cefdeff",
   "metadata": {},
   "outputs": [],
   "source": [
    "a = \"sudh\""
   ]
  },
  {
   "cell_type": "code",
   "execution_count": 2,
   "id": "8fe3130d",
   "metadata": {},
   "outputs": [
    {
     "data": {
      "text/plain": [
       "4"
      ]
     },
     "execution_count": 2,
     "metadata": {},
     "output_type": "execute_result"
    }
   ],
   "source": [
    "len(a)"
   ]
  },
  {
   "cell_type": "code",
   "execution_count": 3,
   "id": "2015214e",
   "metadata": {},
   "outputs": [],
   "source": [
    "l = [2,3,4,5,\"sudh\",4.67]"
   ]
  },
  {
   "cell_type": "code",
   "execution_count": 12,
   "id": "dc3d66e1",
   "metadata": {},
   "outputs": [
    {
     "data": {
      "text/plain": [
       "6"
      ]
     },
     "execution_count": 12,
     "metadata": {},
     "output_type": "execute_result"
    }
   ],
   "source": [
    "len(l)"
   ]
  },
  {
   "cell_type": "code",
   "execution_count": 6,
   "id": "46123d65",
   "metadata": {},
   "outputs": [],
   "source": [
    "def test():\n",
    "    pass"
   ]
  },
  {
   "cell_type": "code",
   "execution_count": 7,
   "id": "dcc50c2b",
   "metadata": {},
   "outputs": [],
   "source": [
    "def test1():\n",
    "    print(\"This is a test function\")"
   ]
  },
  {
   "cell_type": "code",
   "execution_count": 11,
   "id": "ef8b2755",
   "metadata": {},
   "outputs": [
    {
     "name": "stdout",
     "output_type": "stream",
     "text": [
      "This is a test function\n"
     ]
    }
   ],
   "source": [
    "test1()"
   ]
  },
  {
   "cell_type": "code",
   "execution_count": 15,
   "id": "a5c8277b",
   "metadata": {},
   "outputs": [],
   "source": [
    "a = 1"
   ]
  },
  {
   "cell_type": "code",
   "execution_count": 16,
   "id": "9729fed4",
   "metadata": {},
   "outputs": [
    {
     "name": "stdout",
     "output_type": "stream",
     "text": [
      "This is a test function\n"
     ]
    }
   ],
   "source": [
    "b = test1()"
   ]
  },
  {
   "cell_type": "code",
   "execution_count": 17,
   "id": "a791ca2a",
   "metadata": {},
   "outputs": [
    {
     "data": {
      "text/plain": [
       "1"
      ]
     },
     "execution_count": 17,
     "metadata": {},
     "output_type": "execute_result"
    }
   ],
   "source": [
    "a"
   ]
  },
  {
   "cell_type": "code",
   "execution_count": 18,
   "id": "18b71aea",
   "metadata": {},
   "outputs": [],
   "source": [
    "b"
   ]
  },
  {
   "cell_type": "code",
   "execution_count": 19,
   "id": "a295afa7",
   "metadata": {},
   "outputs": [
    {
     "name": "stdout",
     "output_type": "stream",
     "text": [
      "None\n"
     ]
    }
   ],
   "source": [
    "print(b)"
   ]
  },
  {
   "cell_type": "code",
   "execution_count": 20,
   "id": "531143ed",
   "metadata": {},
   "outputs": [],
   "source": [
    "c = \"kumar\""
   ]
  },
  {
   "cell_type": "code",
   "execution_count": 21,
   "id": "375af748",
   "metadata": {},
   "outputs": [
    {
     "data": {
      "text/plain": [
       "str"
      ]
     },
     "execution_count": 21,
     "metadata": {},
     "output_type": "execute_result"
    }
   ],
   "source": [
    "type(c)"
   ]
  },
  {
   "cell_type": "code",
   "execution_count": 22,
   "id": "54fbcd73",
   "metadata": {},
   "outputs": [
    {
     "data": {
      "text/plain": [
       "NoneType"
      ]
     },
     "execution_count": 22,
     "metadata": {},
     "output_type": "execute_result"
    }
   ],
   "source": [
    "type(b)"
   ]
  },
  {
   "cell_type": "code",
   "execution_count": 23,
   "id": "fe68130d",
   "metadata": {},
   "outputs": [],
   "source": [
    "def test2():\n",
    "    return 5"
   ]
  },
  {
   "cell_type": "code",
   "execution_count": 25,
   "id": "cc4d6f0c",
   "metadata": {},
   "outputs": [
    {
     "data": {
      "text/plain": [
       "5"
      ]
     },
     "execution_count": 25,
     "metadata": {},
     "output_type": "execute_result"
    }
   ],
   "source": [
    "test2()"
   ]
  },
  {
   "cell_type": "code",
   "execution_count": 26,
   "id": "8a6d5deb",
   "metadata": {},
   "outputs": [],
   "source": [
    "d = test2()"
   ]
  },
  {
   "cell_type": "code",
   "execution_count": 27,
   "id": "82bf02bb",
   "metadata": {},
   "outputs": [
    {
     "data": {
      "text/plain": [
       "5"
      ]
     },
     "execution_count": 27,
     "metadata": {},
     "output_type": "execute_result"
    }
   ],
   "source": [
    "d"
   ]
  },
  {
   "cell_type": "code",
   "execution_count": 28,
   "id": "ab3a9239",
   "metadata": {},
   "outputs": [
    {
     "name": "stdout",
     "output_type": "stream",
     "text": [
      "this\n"
     ]
    },
    {
     "data": {
      "text/plain": [
       "NoneType"
      ]
     },
     "execution_count": 28,
     "metadata": {},
     "output_type": "execute_result"
    }
   ],
   "source": [
    "type(print(\"this\"))"
   ]
  },
  {
   "cell_type": "code",
   "execution_count": 30,
   "id": "ef3e73f5",
   "metadata": {},
   "outputs": [],
   "source": [
    "def test3():\n",
    "    return 5"
   ]
  },
  {
   "cell_type": "code",
   "execution_count": 31,
   "id": "caf39a03",
   "metadata": {},
   "outputs": [],
   "source": [
    "def test4():\n",
    "    print(\"this is my print return \")"
   ]
  },
  {
   "cell_type": "code",
   "execution_count": 32,
   "id": "e03040fa",
   "metadata": {},
   "outputs": [
    {
     "data": {
      "text/plain": [
       "5"
      ]
     },
     "execution_count": 32,
     "metadata": {},
     "output_type": "execute_result"
    }
   ],
   "source": [
    "test3()"
   ]
  },
  {
   "cell_type": "code",
   "execution_count": 33,
   "id": "0ffb6274",
   "metadata": {},
   "outputs": [
    {
     "name": "stdout",
     "output_type": "stream",
     "text": [
      "this is my print return \n"
     ]
    }
   ],
   "source": [
    "test4()"
   ]
  },
  {
   "cell_type": "code",
   "execution_count": 36,
   "id": "c320ddec",
   "metadata": {},
   "outputs": [],
   "source": [
    "def test3():\n",
    "    return \"sudh\""
   ]
  },
  {
   "cell_type": "code",
   "execution_count": 37,
   "id": "7b936c2c",
   "metadata": {},
   "outputs": [
    {
     "data": {
      "text/plain": [
       "'sudhkumar'"
      ]
     },
     "execution_count": 37,
     "metadata": {},
     "output_type": "execute_result"
    }
   ],
   "source": [
    "test3()+\"kumar\""
   ]
  },
  {
   "cell_type": "code",
   "execution_count": 39,
   "id": "b992260c",
   "metadata": {},
   "outputs": [
    {
     "name": "stdout",
     "output_type": "stream",
     "text": [
      "this is my print return \n"
     ]
    },
    {
     "ename": "TypeError",
     "evalue": "unsupported operand type(s) for +: 'NoneType' and 'str'",
     "output_type": "error",
     "traceback": [
      "\u001b[1;31m---------------------------------------------------------------------------\u001b[0m",
      "\u001b[1;31mTypeError\u001b[0m                                 Traceback (most recent call last)",
      "Input \u001b[1;32mIn [39]\u001b[0m, in \u001b[0;36m<cell line: 1>\u001b[1;34m()\u001b[0m\n\u001b[1;32m----> 1\u001b[0m \u001b[43mtest4\u001b[49m\u001b[43m(\u001b[49m\u001b[43m)\u001b[49m\u001b[38;5;241;43m+\u001b[39;49m\u001b[38;5;124;43m\"\u001b[39;49m\u001b[38;5;124;43mkumar\u001b[39;49m\u001b[38;5;124;43m\"\u001b[39;49m\n",
      "\u001b[1;31mTypeError\u001b[0m: unsupported operand type(s) for +: 'NoneType' and 'str'"
     ]
    }
   ],
   "source": [
    "test4()+\"kumar\""
   ]
  },
  {
   "cell_type": "code",
   "execution_count": 40,
   "id": "4a01dbaf",
   "metadata": {},
   "outputs": [],
   "source": [
    "def test5():\n",
    "    print()"
   ]
  },
  {
   "cell_type": "code",
   "execution_count": 42,
   "id": "f0931f14",
   "metadata": {},
   "outputs": [],
   "source": [
    "def test6():\n",
    "    return 1,3,[],()"
   ]
  },
  {
   "cell_type": "code",
   "execution_count": 43,
   "id": "cbc4de5e",
   "metadata": {},
   "outputs": [
    {
     "data": {
      "text/plain": [
       "(1, 3, [], ())"
      ]
     },
     "execution_count": 43,
     "metadata": {},
     "output_type": "execute_result"
    }
   ],
   "source": [
    "test6()"
   ]
  },
  {
   "cell_type": "code",
   "execution_count": 44,
   "id": "fed087c8",
   "metadata": {},
   "outputs": [],
   "source": [
    "a,b,c,d = test6()"
   ]
  },
  {
   "cell_type": "code",
   "execution_count": 45,
   "id": "3c654752",
   "metadata": {},
   "outputs": [
    {
     "data": {
      "text/plain": [
       "1"
      ]
     },
     "execution_count": 45,
     "metadata": {},
     "output_type": "execute_result"
    }
   ],
   "source": [
    "a"
   ]
  },
  {
   "cell_type": "code",
   "execution_count": 48,
   "id": "833554fd",
   "metadata": {},
   "outputs": [],
   "source": [
    "def test8():\n",
    "    l = [2,3,4,5,6,7,8,9]\n",
    "    sum = 0\n",
    "    for i in l:\n",
    "        if type(i)==int :\n",
    "            sum+=i\n",
    "    return sum"
   ]
  },
  {
   "cell_type": "code",
   "execution_count": 49,
   "id": "57410c34",
   "metadata": {},
   "outputs": [
    {
     "data": {
      "text/plain": [
       "44"
      ]
     },
     "execution_count": 49,
     "metadata": {},
     "output_type": "execute_result"
    }
   ],
   "source": [
    "test8()"
   ]
  },
  {
   "cell_type": "code",
   "execution_count": 50,
   "id": "a4696cfe",
   "metadata": {},
   "outputs": [
    {
     "data": {
      "text/plain": [
       "int"
      ]
     },
     "execution_count": 50,
     "metadata": {},
     "output_type": "execute_result"
    }
   ],
   "source": [
    "type(test8())"
   ]
  },
  {
   "cell_type": "code",
   "execution_count": 46,
   "id": "06dd4d53",
   "metadata": {},
   "outputs": [],
   "source": [
    "def test9():\n",
    "    l = [2,3,4,5,6,7,8,9,\"sudh\"]\n",
    "    sum = 0\n",
    "    for i in l:\n",
    "        if type(i)==int :\n",
    "            sum+=i\n",
    "    return sum"
   ]
  },
  {
   "cell_type": "code",
   "execution_count": 47,
   "id": "53d5084e",
   "metadata": {},
   "outputs": [
    {
     "data": {
      "text/plain": [
       "44"
      ]
     },
     "execution_count": 47,
     "metadata": {},
     "output_type": "execute_result"
    }
   ],
   "source": [
    "test9()"
   ]
  },
  {
   "cell_type": "code",
   "execution_count": 51,
   "id": "8cdb1b6c",
   "metadata": {},
   "outputs": [],
   "source": [
    "l1 = [4,5,6,7,8,9,\"kumar\",4.56]"
   ]
  },
  {
   "cell_type": "code",
   "execution_count": 57,
   "id": "b2790880",
   "metadata": {},
   "outputs": [],
   "source": [
    "def test10(l):\n",
    "    sum = 0\n",
    "    for i in l:\n",
    "        if type(i)==int :\n",
    "            sum+=i\n",
    "    return sum"
   ]
  },
  {
   "cell_type": "code",
   "execution_count": 58,
   "id": "4415e8af",
   "metadata": {},
   "outputs": [
    {
     "data": {
      "text/plain": [
       "39"
      ]
     },
     "execution_count": 58,
     "metadata": {},
     "output_type": "execute_result"
    }
   ],
   "source": [
    "test10(l1)"
   ]
  },
  {
   "cell_type": "code",
   "execution_count": 59,
   "id": "2b01a900",
   "metadata": {},
   "outputs": [],
   "source": [
    "def test11(a,b):\n",
    "    return a+b"
   ]
  },
  {
   "cell_type": "code",
   "execution_count": 60,
   "id": "f3bc7922",
   "metadata": {},
   "outputs": [
    {
     "data": {
      "text/plain": [
       "25"
      ]
     },
     "execution_count": 60,
     "metadata": {},
     "output_type": "execute_result"
    }
   ],
   "source": [
    "test11(12,13)"
   ]
  },
  {
   "cell_type": "code",
   "execution_count": 61,
   "id": "68cea52d",
   "metadata": {},
   "outputs": [
    {
     "data": {
      "text/plain": [
       "'sudhkumar'"
      ]
     },
     "execution_count": 61,
     "metadata": {},
     "output_type": "execute_result"
    }
   ],
   "source": [
    "test11(\"sudh\",\"kumar\")"
   ]
  },
  {
   "cell_type": "code",
   "execution_count": 62,
   "id": "e6d64248",
   "metadata": {},
   "outputs": [
    {
     "name": "stdout",
     "output_type": "stream",
     "text": [
      "\n"
     ]
    }
   ],
   "source": [
    "print()"
   ]
  },
  {
   "cell_type": "code",
   "execution_count": 68,
   "id": "96b60475",
   "metadata": {},
   "outputs": [],
   "source": [
    "def test12(l):\n",
    "    \"\"\"This is my function which will help you to seprate a string from new list\"\"\"\n",
    "    l1 = []\n",
    "    for i in l :\n",
    "        if type(i) == str:\n",
    "            l1.append(i)\n",
    "    return l1"
   ]
  },
  {
   "cell_type": "code",
   "execution_count": 69,
   "id": "9a293f77",
   "metadata": {},
   "outputs": [
    {
     "data": {
      "text/plain": [
       "['kumar']"
      ]
     },
     "execution_count": 69,
     "metadata": {},
     "output_type": "execute_result"
    }
   ],
   "source": [
    "test12(l1)"
   ]
  },
  {
   "cell_type": "code",
   "execution_count": 76,
   "id": "6b62ba73",
   "metadata": {},
   "outputs": [
    {
     "ename": "SyntaxError",
     "evalue": "invalid syntax (2732749585.py, line 1)",
     "output_type": "error",
     "traceback": [
      "\u001b[1;36m  Input \u001b[1;32mIn [76]\u001b[1;36m\u001b[0m\n\u001b[1;33m    1. Write a function which will try to find  out len of a string without using an inbuilt len function\u001b[0m\n\u001b[1;37m       ^\u001b[0m\n\u001b[1;31mSyntaxError\u001b[0m\u001b[1;31m:\u001b[0m invalid syntax\n"
     ]
    }
   ],
   "source": [
    "1. Write a function which will try to find  out len of a string without using an inbuilt len function\n",
    "2. write a function which will be able to print an index of list elements\n",
    "3. write a function which will be able to print an ip adress of your system\n",
    "4. write a function which will shutdown your system\n",
    "5. write a function which will take input as a list with any kind of numeric value and give an output as a multiplication of all the numeric data l = [3.5,6.56,4,5,\"sudh\",\"ineuron\",'fsds bootcamp 2.0']\n",
    "6.  write a function which will be able to read all the mails\n",
    "7.  write a function which will be able to send mail to anyone\n",
    "8.  write a function which will be able to read a doc/word file from your system\n",
    "\n",
    "sol at mail id : query@ineuron.ai"
   ]
  },
  {
   "cell_type": "code",
   "execution_count": 70,
   "id": "818977c1",
   "metadata": {},
   "outputs": [
    {
     "ename": "IndentationError",
     "evalue": "expected an indented block (1829307179.py, line 1)",
     "output_type": "error",
     "traceback": [
      "\u001b[1;36m  Input \u001b[1;32mIn [70]\u001b[1;36m\u001b[0m\n\u001b[1;33m    def s_len(s):\u001b[0m\n\u001b[1;37m                 ^\u001b[0m\n\u001b[1;31mIndentationError\u001b[0m\u001b[1;31m:\u001b[0m expected an indented block\n"
     ]
    }
   ],
   "source": [
    "def s_len(s):\n",
    "    if"
   ]
  },
  {
   "cell_type": "markdown",
   "id": "978dbbc7",
   "metadata": {},
   "source": [
    "# args, kwargs"
   ]
  },
  {
   "cell_type": "code",
   "execution_count": 1,
   "id": "77f27fd4",
   "metadata": {},
   "outputs": [],
   "source": [
    "def test5(*args):\n",
    "    return list(args)"
   ]
  },
  {
   "cell_type": "code",
   "execution_count": 2,
   "id": "6c3546b7",
   "metadata": {},
   "outputs": [],
   "source": [
    "def test6(*sudh):\n",
    "    return list(sudh)"
   ]
  },
  {
   "cell_type": "code",
   "execution_count": 3,
   "id": "5604e2bc",
   "metadata": {},
   "outputs": [
    {
     "data": {
      "text/plain": [
       "[23, 45, 67, 67989]"
      ]
     },
     "execution_count": 3,
     "metadata": {},
     "output_type": "execute_result"
    }
   ],
   "source": [
    "test6(23,45,67,67989)"
   ]
  },
  {
   "cell_type": "code",
   "execution_count": 53,
   "id": "6f4d4faa",
   "metadata": {},
   "outputs": [],
   "source": [
    "l = [1,2,3,4,5,6]\n",
    "t = (4,5,6,8+7j)\n",
    "s = {3,4,5,6,6,5,6,6,6,6}"
   ]
  },
  {
   "cell_type": "code",
   "execution_count": 54,
   "id": "b100430b",
   "metadata": {},
   "outputs": [
    {
     "data": {
      "text/plain": [
       "{3, 4, 5, 6}"
      ]
     },
     "execution_count": 54,
     "metadata": {},
     "output_type": "execute_result"
    }
   ],
   "source": [
    "s"
   ]
  },
  {
   "cell_type": "code",
   "execution_count": 55,
   "id": "c59c7e7a",
   "metadata": {},
   "outputs": [],
   "source": [
    "d = {}"
   ]
  },
  {
   "cell_type": "code",
   "execution_count": 56,
   "id": "ede70c4d",
   "metadata": {},
   "outputs": [
    {
     "data": {
      "text/plain": [
       "dict"
      ]
     },
     "execution_count": 56,
     "metadata": {},
     "output_type": "execute_result"
    }
   ],
   "source": [
    "type(d)"
   ]
  },
  {
   "cell_type": "code",
   "execution_count": 57,
   "id": "9b75d0cf",
   "metadata": {},
   "outputs": [],
   "source": [
    "d1 = {2,3,4,5}"
   ]
  },
  {
   "cell_type": "code",
   "execution_count": 58,
   "id": "874b13ce",
   "metadata": {},
   "outputs": [
    {
     "data": {
      "text/plain": [
       "set"
      ]
     },
     "execution_count": 58,
     "metadata": {},
     "output_type": "execute_result"
    }
   ],
   "source": [
    "type(d1)"
   ]
  },
  {
   "cell_type": "code",
   "execution_count": 59,
   "id": "93562235",
   "metadata": {},
   "outputs": [],
   "source": [
    "d2 = {'key1':'sudh', 'key2':[2,3,4,5]}"
   ]
  },
  {
   "cell_type": "code",
   "execution_count": 60,
   "id": "75c14a76",
   "metadata": {},
   "outputs": [
    {
     "data": {
      "text/plain": [
       "{'key1': 'sudh', 'key2': [2, 3, 4, 5]}"
      ]
     },
     "execution_count": 60,
     "metadata": {},
     "output_type": "execute_result"
    }
   ],
   "source": [
    "d2"
   ]
  },
  {
   "cell_type": "code",
   "execution_count": 61,
   "id": "9145ac06",
   "metadata": {},
   "outputs": [
    {
     "data": {
      "text/plain": [
       "[1, 2, 3, 4, 5, 6]"
      ]
     },
     "execution_count": 61,
     "metadata": {},
     "output_type": "execute_result"
    }
   ],
   "source": [
    "l"
   ]
  },
  {
   "cell_type": "code",
   "execution_count": 62,
   "id": "14431d91",
   "metadata": {},
   "outputs": [
    {
     "data": {
      "text/plain": [
       "'sudh'"
      ]
     },
     "execution_count": 62,
     "metadata": {},
     "output_type": "execute_result"
    }
   ],
   "source": [
    "d2['key1']"
   ]
  },
  {
   "cell_type": "code",
   "execution_count": 63,
   "id": "91ce46ba",
   "metadata": {},
   "outputs": [],
   "source": [
    "d3 = { 234324 : \"sudh\"}"
   ]
  },
  {
   "cell_type": "code",
   "execution_count": 64,
   "id": "29fdca63",
   "metadata": {},
   "outputs": [
    {
     "data": {
      "text/plain": [
       "{234324: 'sudh'}"
      ]
     },
     "execution_count": 64,
     "metadata": {},
     "output_type": "execute_result"
    }
   ],
   "source": [
    "d3"
   ]
  },
  {
   "cell_type": "code",
   "execution_count": 65,
   "id": "842a3965",
   "metadata": {},
   "outputs": [],
   "source": [
    "d4 = { \"$sudh\" : \"sudh\"}"
   ]
  },
  {
   "cell_type": "code",
   "execution_count": 66,
   "id": "fa2d8029",
   "metadata": {},
   "outputs": [
    {
     "data": {
      "text/plain": [
       "'sudh'"
      ]
     },
     "execution_count": 66,
     "metadata": {},
     "output_type": "execute_result"
    }
   ],
   "source": [
    "d4['$sudh']"
   ]
  },
  {
   "cell_type": "code",
   "execution_count": 72,
   "id": "eedf8476",
   "metadata": {},
   "outputs": [
    {
     "ename": "TypeError",
     "evalue": "unhashable type: 'list'",
     "output_type": "error",
     "traceback": [
      "\u001b[1;31m---------------------------------------------------------------------------\u001b[0m",
      "\u001b[1;31mTypeError\u001b[0m                                 Traceback (most recent call last)",
      "Input \u001b[1;32mIn [72]\u001b[0m, in \u001b[0;36m<cell line: 1>\u001b[1;34m()\u001b[0m\n\u001b[1;32m----> 1\u001b[0m d5 \u001b[38;5;241m=\u001b[39m {[\u001b[38;5;241m1\u001b[39m,\u001b[38;5;241m2\u001b[39m,\u001b[38;5;241m3\u001b[39m,\u001b[38;5;241m4\u001b[39m]: \u001b[38;5;124m\"\u001b[39m\u001b[38;5;124msudh\u001b[39m\u001b[38;5;124m\"\u001b[39m}\n",
      "\u001b[1;31mTypeError\u001b[0m: unhashable type: 'list'"
     ]
    }
   ],
   "source": [
    "d5 = {[1,2,3,4]: \"sudh\"}"
   ]
  },
  {
   "cell_type": "code",
   "execution_count": 73,
   "id": "7d8e5728",
   "metadata": {},
   "outputs": [],
   "source": [
    "d6 = {(1,2,3,4,5): \"sudh\"}"
   ]
  },
  {
   "cell_type": "code",
   "execution_count": 74,
   "id": "e685d47b",
   "metadata": {},
   "outputs": [
    {
     "data": {
      "text/plain": [
       "'sudh'"
      ]
     },
     "execution_count": 74,
     "metadata": {},
     "output_type": "execute_result"
    }
   ],
   "source": [
    "d6[(1,2,3,4,5)]"
   ]
  },
  {
   "cell_type": "code",
   "execution_count": 75,
   "id": "b4112d60",
   "metadata": {},
   "outputs": [],
   "source": [
    "d7 = {\"name\": \"sudhanshu\", \"org\":\"ineuron\", \"mail id\": \"sudhanshu@ineuron.ai\", \"name\": \"sudh\"}"
   ]
  },
  {
   "cell_type": "code",
   "execution_count": 76,
   "id": "106975c5",
   "metadata": {},
   "outputs": [
    {
     "data": {
      "text/plain": [
       "{'name': 'sudh', 'org': 'ineuron', 'mail id': 'sudhanshu@ineuron.ai'}"
      ]
     },
     "execution_count": 76,
     "metadata": {},
     "output_type": "execute_result"
    }
   ],
   "source": [
    "d7"
   ]
  },
  {
   "cell_type": "code",
   "execution_count": 77,
   "id": "f0cc8d20",
   "metadata": {},
   "outputs": [],
   "source": [
    "d8 = {\"name\":\"sudh\", \"mentor\": {\"fsds\":\"imran\",\"fsda\":\"anand\",\"bigdata\":\"shashank\"}}"
   ]
  },
  {
   "cell_type": "code",
   "execution_count": 78,
   "id": "2a1f55dc",
   "metadata": {},
   "outputs": [
    {
     "data": {
      "text/plain": [
       "{'name': 'sudh',\n",
       " 'mentor': {'fsds': 'imran', 'fsda': 'anand', 'bigdata': 'shashank'}}"
      ]
     },
     "execution_count": 78,
     "metadata": {},
     "output_type": "execute_result"
    }
   ],
   "source": [
    "d8"
   ]
  },
  {
   "cell_type": "code",
   "execution_count": 79,
   "id": "e1a383c8",
   "metadata": {},
   "outputs": [
    {
     "data": {
      "text/plain": [
       "{'name': 'sudh', 'org': 'ineuron', 'mail id': 'sudhanshu@ineuron.ai'}"
      ]
     },
     "execution_count": 79,
     "metadata": {},
     "output_type": "execute_result"
    }
   ],
   "source": [
    "d7"
   ]
  },
  {
   "cell_type": "code",
   "execution_count": 80,
   "id": "6f37b6e3",
   "metadata": {},
   "outputs": [
    {
     "data": {
      "text/plain": [
       "[1, 2, 3, 4, 5, 6]"
      ]
     },
     "execution_count": 80,
     "metadata": {},
     "output_type": "execute_result"
    }
   ],
   "source": [
    "l"
   ]
  },
  {
   "cell_type": "code",
   "execution_count": 81,
   "id": "759d4e35",
   "metadata": {},
   "outputs": [
    {
     "data": {
      "text/plain": [
       "2"
      ]
     },
     "execution_count": 81,
     "metadata": {},
     "output_type": "execute_result"
    }
   ],
   "source": [
    "l[1]"
   ]
  },
  {
   "cell_type": "code",
   "execution_count": 82,
   "id": "1ee6b69b",
   "metadata": {},
   "outputs": [
    {
     "data": {
      "text/plain": [
       "dict_keys(['name', 'org', 'mail id'])"
      ]
     },
     "execution_count": 82,
     "metadata": {},
     "output_type": "execute_result"
    }
   ],
   "source": [
    "d7.keys()"
   ]
  },
  {
   "cell_type": "code",
   "execution_count": 83,
   "id": "e7615a6c",
   "metadata": {},
   "outputs": [
    {
     "data": {
      "text/plain": [
       "dict_values(['sudh', 'ineuron', 'sudhanshu@ineuron.ai'])"
      ]
     },
     "execution_count": 83,
     "metadata": {},
     "output_type": "execute_result"
    }
   ],
   "source": [
    "d7.values()"
   ]
  },
  {
   "cell_type": "code",
   "execution_count": 84,
   "id": "4dad77d9",
   "metadata": {},
   "outputs": [
    {
     "data": {
      "text/plain": [
       "dict_items([('name', 'sudh'), ('org', 'ineuron'), ('mail id', 'sudhanshu@ineuron.ai')])"
      ]
     },
     "execution_count": 84,
     "metadata": {},
     "output_type": "execute_result"
    }
   ],
   "source": [
    "d7.items()"
   ]
  },
  {
   "cell_type": "code",
   "execution_count": 85,
   "id": "554b1495",
   "metadata": {},
   "outputs": [
    {
     "data": {
      "text/plain": [
       "['name', 'org', 'mail id']"
      ]
     },
     "execution_count": 85,
     "metadata": {},
     "output_type": "execute_result"
    }
   ],
   "source": [
    "list(d7.keys())"
   ]
  },
  {
   "cell_type": "code",
   "execution_count": 86,
   "id": "37065261",
   "metadata": {},
   "outputs": [
    {
     "data": {
      "text/plain": [
       "{'name': 'sudh',\n",
       " 'mentor': {'fsds': 'imran', 'fsda': 'anand', 'bigdata': 'shashank'}}"
      ]
     },
     "execution_count": 86,
     "metadata": {},
     "output_type": "execute_result"
    }
   ],
   "source": [
    "d8"
   ]
  },
  {
   "cell_type": "code",
   "execution_count": 87,
   "id": "84f9fd90",
   "metadata": {},
   "outputs": [],
   "source": [
    "l = []\n",
    "for i in d8.keys():\n",
    "    if type(d8[i]) == dict :\n",
    "        l.append(list(d8[i].values()))"
   ]
  },
  {
   "cell_type": "code",
   "execution_count": 88,
   "id": "64f34523",
   "metadata": {},
   "outputs": [
    {
     "data": {
      "text/plain": [
       "[['imran', 'anand', 'shashank']]"
      ]
     },
     "execution_count": 88,
     "metadata": {},
     "output_type": "execute_result"
    }
   ],
   "source": [
    "l"
   ]
  },
  {
   "cell_type": "code",
   "execution_count": 91,
   "id": "7e9a417a",
   "metadata": {},
   "outputs": [],
   "source": [
    "def test9(d):\n",
    "    l = []\n",
    "    for i in d.keys():\n",
    "        if type(d[i]) == dict:\n",
    "            l.append(list(d[i].values()))\n",
    "    return l"
   ]
  },
  {
   "cell_type": "code",
   "execution_count": 92,
   "id": "32e4fbc3",
   "metadata": {},
   "outputs": [
    {
     "data": {
      "text/plain": [
       "[['imran', 'anand', 'shashank']]"
      ]
     },
     "execution_count": 92,
     "metadata": {},
     "output_type": "execute_result"
    }
   ],
   "source": [
    "test9(d8)"
   ]
  },
  {
   "cell_type": "code",
   "execution_count": 93,
   "id": "3381b65a",
   "metadata": {},
   "outputs": [
    {
     "data": {
      "text/plain": [
       "{'name': 'sudh',\n",
       " 'mentor': {'fsds': 'imran', 'fsda': 'anand', 'bigdata': 'shashank'}}"
      ]
     },
     "execution_count": 93,
     "metadata": {},
     "output_type": "execute_result"
    }
   ],
   "source": [
    "d8"
   ]
  },
  {
   "cell_type": "code",
   "execution_count": 94,
   "id": "06f68a99",
   "metadata": {},
   "outputs": [],
   "source": [
    "d8[\"mobilenumber\"] = (2424,345345,345345)"
   ]
  },
  {
   "cell_type": "code",
   "execution_count": 95,
   "id": "142d2a92",
   "metadata": {},
   "outputs": [
    {
     "data": {
      "text/plain": [
       "{'name': 'sudh',\n",
       " 'mentor': {'fsds': 'imran', 'fsda': 'anand', 'bigdata': 'shashank'},\n",
       " 'mobilenumber': (2424, 345345, 345345)}"
      ]
     },
     "execution_count": 95,
     "metadata": {},
     "output_type": "execute_result"
    }
   ],
   "source": [
    "d8"
   ]
  },
  {
   "cell_type": "code",
   "execution_count": 96,
   "id": "16441d7a",
   "metadata": {},
   "outputs": [],
   "source": [
    "d8['name'] = \"sudhanshu kumar\""
   ]
  },
  {
   "cell_type": "code",
   "execution_count": 97,
   "id": "a76785d4",
   "metadata": {},
   "outputs": [
    {
     "data": {
      "text/plain": [
       "{'name': 'sudhanshu kumar',\n",
       " 'mentor': {'fsds': 'imran', 'fsda': 'anand', 'bigdata': 'shashank'},\n",
       " 'mobilenumber': (2424, 345345, 345345)}"
      ]
     },
     "execution_count": 97,
     "metadata": {},
     "output_type": "execute_result"
    }
   ],
   "source": [
    "d8"
   ]
  },
  {
   "cell_type": "code",
   "execution_count": 98,
   "id": "811ad96f",
   "metadata": {},
   "outputs": [
    {
     "data": {
      "text/plain": [
       "{'name': 'sudh', 'org': 'ineuron', 'mail id': 'sudhanshu@ineuron.ai'}"
      ]
     },
     "execution_count": 98,
     "metadata": {},
     "output_type": "execute_result"
    }
   ],
   "source": [
    "d7"
   ]
  },
  {
   "cell_type": "code",
   "execution_count": 99,
   "id": "a36cfe53",
   "metadata": {},
   "outputs": [],
   "source": [
    "tempd = d7"
   ]
  },
  {
   "cell_type": "code",
   "execution_count": 100,
   "id": "f7f360b0",
   "metadata": {},
   "outputs": [
    {
     "data": {
      "text/plain": [
       "{'name': 'sudh', 'org': 'ineuron', 'mail id': 'sudhanshu@ineuron.ai'}"
      ]
     },
     "execution_count": 100,
     "metadata": {},
     "output_type": "execute_result"
    }
   ],
   "source": [
    "tempd"
   ]
  },
  {
   "cell_type": "code",
   "execution_count": 101,
   "id": "03d69605",
   "metadata": {},
   "outputs": [],
   "source": [
    "del tempd"
   ]
  },
  {
   "cell_type": "code",
   "execution_count": 103,
   "id": "a7d3fd73",
   "metadata": {},
   "outputs": [
    {
     "data": {
      "text/plain": [
       "{'name': 'sudh', 'org': 'ineuron', 'mail id': 'sudhanshu@ineuron.ai'}"
      ]
     },
     "execution_count": 103,
     "metadata": {},
     "output_type": "execute_result"
    }
   ],
   "source": [
    "d7"
   ]
  },
  {
   "cell_type": "code",
   "execution_count": 104,
   "id": "c0b0fa33",
   "metadata": {},
   "outputs": [
    {
     "data": {
      "text/plain": [
       "{'name': 'sudhanshu kumar',\n",
       " 'mentor': {'fsds': 'imran', 'fsda': 'anand', 'bigdata': 'shashank'},\n",
       " 'mobilenumber': (2424, 345345, 345345)}"
      ]
     },
     "execution_count": 104,
     "metadata": {},
     "output_type": "execute_result"
    }
   ],
   "source": [
    "d8"
   ]
  },
  {
   "cell_type": "code",
   "execution_count": 106,
   "id": "c3c54d1b",
   "metadata": {},
   "outputs": [
    {
     "data": {
      "text/plain": [
       "{'fsds': 'imran', 'fsda': 'anand', 'bigdata': 'shashank'}"
      ]
     },
     "execution_count": 106,
     "metadata": {},
     "output_type": "execute_result"
    }
   ],
   "source": [
    "d8.pop('mentor')"
   ]
  },
  {
   "cell_type": "code",
   "execution_count": 107,
   "id": "b9541d71",
   "metadata": {},
   "outputs": [
    {
     "data": {
      "text/plain": [
       "{'name': 'sudhanshu kumar', 'mobilenumber': (2424, 345345, 345345)}"
      ]
     },
     "execution_count": 107,
     "metadata": {},
     "output_type": "execute_result"
    }
   ],
   "source": [
    "d8"
   ]
  },
  {
   "cell_type": "code",
   "execution_count": 108,
   "id": "2bcd1b91",
   "metadata": {},
   "outputs": [],
   "source": [
    "def test10(**kwargs) :\n",
    "    return kwargs"
   ]
  },
  {
   "cell_type": "code",
   "execution_count": 112,
   "id": "33f47afd",
   "metadata": {},
   "outputs": [
    {
     "data": {
      "text/plain": [
       "{'a': 4, 'b': 5, 'c': 6, 'sudh': 7}"
      ]
     },
     "execution_count": 112,
     "metadata": {},
     "output_type": "execute_result"
    }
   ],
   "source": [
    "test10(a = 4,b = 5,c = 6,sudh = 7)"
   ]
  },
  {
   "cell_type": "code",
   "execution_count": 114,
   "id": "60e1d523",
   "metadata": {},
   "outputs": [],
   "source": [
    "def test11(**sudh):\n",
    "    return sudh"
   ]
  },
  {
   "cell_type": "code",
   "execution_count": 117,
   "id": "cf82e8bc",
   "metadata": {},
   "outputs": [
    {
     "data": {
      "text/plain": [
       "{'b': 'sudh', 'm': 23451}"
      ]
     },
     "execution_count": 117,
     "metadata": {},
     "output_type": "execute_result"
    }
   ],
   "source": [
    "test11(b = \"sudh\", m = 23451)"
   ]
  },
  {
   "cell_type": "markdown",
   "id": "7f7ae728",
   "metadata": {},
   "source": [
    "First class citizen"
   ]
  },
  {
   "cell_type": "code",
   "execution_count": 118,
   "id": "beafcc1a",
   "metadata": {},
   "outputs": [],
   "source": [
    "def test12(a):\n",
    "    return a\n",
    "\n",
    "def test13(b):\n",
    "    return b\n",
    "\n",
    "def test14(func):\n",
    "    return func(\"sudh\")\n"
   ]
  },
  {
   "cell_type": "code",
   "execution_count": 122,
   "id": "93e3819c",
   "metadata": {},
   "outputs": [
    {
     "data": {
      "text/plain": [
       "'sudh'"
      ]
     },
     "execution_count": 122,
     "metadata": {},
     "output_type": "execute_result"
    }
   ],
   "source": [
    "test14(test12)"
   ]
  },
  {
   "cell_type": "code",
   "execution_count": 123,
   "id": "82ae5e31",
   "metadata": {},
   "outputs": [
    {
     "data": {
      "text/plain": [
       "'sudh'"
      ]
     },
     "execution_count": 123,
     "metadata": {},
     "output_type": "execute_result"
    }
   ],
   "source": [
    "test14(test13)"
   ]
  },
  {
   "cell_type": "code",
   "execution_count": 124,
   "id": "e5e79c93",
   "metadata": {},
   "outputs": [],
   "source": [
    "def test12(a):\n",
    "    return a\n",
    "\n",
    "def test13():\n",
    "    return \"sudh\"\n",
    "\n",
    "def test14(func):\n",
    "    return func(\"sudh\")\n"
   ]
  },
  {
   "cell_type": "code",
   "execution_count": 125,
   "id": "10ad52df",
   "metadata": {},
   "outputs": [
    {
     "ename": "TypeError",
     "evalue": "test13() takes 0 positional arguments but 1 was given",
     "output_type": "error",
     "traceback": [
      "\u001b[1;31m---------------------------------------------------------------------------\u001b[0m",
      "\u001b[1;31mTypeError\u001b[0m                                 Traceback (most recent call last)",
      "Input \u001b[1;32mIn [125]\u001b[0m, in \u001b[0;36m<cell line: 1>\u001b[1;34m()\u001b[0m\n\u001b[1;32m----> 1\u001b[0m \u001b[43mtest14\u001b[49m\u001b[43m(\u001b[49m\u001b[43mtest13\u001b[49m\u001b[43m)\u001b[49m\n",
      "Input \u001b[1;32mIn [124]\u001b[0m, in \u001b[0;36mtest14\u001b[1;34m(func)\u001b[0m\n\u001b[0;32m      7\u001b[0m \u001b[38;5;28;01mdef\u001b[39;00m \u001b[38;5;21mtest14\u001b[39m(func):\n\u001b[1;32m----> 8\u001b[0m     \u001b[38;5;28;01mreturn\u001b[39;00m \u001b[43mfunc\u001b[49m\u001b[43m(\u001b[49m\u001b[38;5;124;43m\"\u001b[39;49m\u001b[38;5;124;43msudh\u001b[39;49m\u001b[38;5;124;43m\"\u001b[39;49m\u001b[43m)\u001b[49m\n",
      "\u001b[1;31mTypeError\u001b[0m: test13() takes 0 positional arguments but 1 was given"
     ]
    }
   ],
   "source": [
    "test14(test13)"
   ]
  },
  {
   "cell_type": "code",
   "execution_count": 126,
   "id": "e3f1f6b8",
   "metadata": {},
   "outputs": [],
   "source": [
    "def test12(a):\n",
    "    return a\n",
    "\n",
    "def test13(*args):\n",
    "    return \"sudh\"\n",
    "\n",
    "def test14(func):\n",
    "    return func(\"sudh\")\n"
   ]
  },
  {
   "cell_type": "code",
   "execution_count": 127,
   "id": "9c4cbd91",
   "metadata": {},
   "outputs": [
    {
     "data": {
      "text/plain": [
       "'sudh'"
      ]
     },
     "execution_count": 127,
     "metadata": {},
     "output_type": "execute_result"
    }
   ],
   "source": [
    "test14(test13)"
   ]
  },
  {
   "cell_type": "code",
   "execution_count": 130,
   "id": "0aac6914",
   "metadata": {},
   "outputs": [],
   "source": [
    "def test15(a):\n",
    "    print(\"this is my test15\")\n",
    "    \n",
    "    def test16():\n",
    "        print(\"this is my test16\")\n",
    "    \n",
    "    def test17():\n",
    "        print(\"this is my test17\")\n",
    "    \n",
    "    if a == 'sudh':\n",
    "        return test16()\n",
    "    elif a == 'kumar':\n",
    "        return test17()"
   ]
  },
  {
   "cell_type": "code",
   "execution_count": 131,
   "id": "e7cdffe1",
   "metadata": {},
   "outputs": [
    {
     "name": "stdout",
     "output_type": "stream",
     "text": [
      "this is my test15\n",
      "this is my test16\n"
     ]
    }
   ],
   "source": [
    "test15(\"sudh\")"
   ]
  },
  {
   "cell_type": "code",
   "execution_count": 132,
   "id": "76f9f6a0",
   "metadata": {},
   "outputs": [
    {
     "name": "stdout",
     "output_type": "stream",
     "text": [
      "this is my test15\n",
      "this is my test17\n"
     ]
    }
   ],
   "source": [
    "test15(\"kumar\")"
   ]
  },
  {
   "cell_type": "code",
   "execution_count": 135,
   "id": "cc4669fc",
   "metadata": {},
   "outputs": [],
   "source": [
    "def test18(func):\n",
    "    def test19():\n",
    "        print(\"I am inside test19\")\n",
    "        print(func())\n",
    "    return test19()"
   ]
  },
  {
   "cell_type": "code",
   "execution_count": 136,
   "id": "a4ded8cf",
   "metadata": {},
   "outputs": [
    {
     "name": "stdout",
     "output_type": "stream",
     "text": [
      "I am inside test19\n",
      "sudh\n"
     ]
    }
   ],
   "source": [
    "test18(test13)"
   ]
  },
  {
   "cell_type": "code",
   "execution_count": 141,
   "id": "c8d03243",
   "metadata": {},
   "outputs": [],
   "source": [
    "def test18try(func):\n",
    "    def test19():\n",
    "        print(\"I am inside test19\")\n",
    "    return test19()"
   ]
  },
  {
   "cell_type": "code",
   "execution_count": 142,
   "id": "f967d8fb",
   "metadata": {},
   "outputs": [
    {
     "name": "stdout",
     "output_type": "stream",
     "text": [
      "I am inside test19\n"
     ]
    }
   ],
   "source": [
    "test18try(test13)"
   ]
  },
  {
   "cell_type": "markdown",
   "id": "b2c66ba6",
   "metadata": {},
   "source": [
    "## Decorator"
   ]
  },
  {
   "cell_type": "code",
   "execution_count": 166,
   "id": "b0add0d1",
   "metadata": {},
   "outputs": [],
   "source": [
    "import os\n",
    "def test18(func):\n",
    "    def test19():\n",
    "        print(\"I am inside test19 and this will behave a decorator to any function that I am going to call \")\n",
    "        print(os.getcwd())\n",
    "        func()\n",
    "    return test19"
   ]
  },
  {
   "cell_type": "code",
   "execution_count": 167,
   "id": "57124e46",
   "metadata": {},
   "outputs": [],
   "source": [
    "# pie.....\n",
    "@test18\n",
    "def test20():\n",
    "    print(\"this is my teset20\")"
   ]
  },
  {
   "cell_type": "code",
   "execution_count": 168,
   "id": "956d2921",
   "metadata": {},
   "outputs": [
    {
     "name": "stdout",
     "output_type": "stream",
     "text": [
      "I am inside test19 and this will behave a decorator to any function that I am going to call \n",
      "C:\\Users\\kushj\\Codes\\FSDS\\Live_classes\n",
      "this is my teset20\n"
     ]
    }
   ],
   "source": [
    "test20()"
   ]
  },
  {
   "cell_type": "code",
   "execution_count": 160,
   "id": "9552fbd4",
   "metadata": {},
   "outputs": [
    {
     "data": {
      "text/plain": [
       "<function __main__.test18.<locals>.test19()>"
      ]
     },
     "execution_count": 160,
     "metadata": {},
     "output_type": "execute_result"
    }
   ],
   "source": [
    "test18(test20)"
   ]
  },
  {
   "cell_type": "code",
   "execution_count": 161,
   "id": "bc702114",
   "metadata": {},
   "outputs": [
    {
     "name": "stdout",
     "output_type": "stream",
     "text": [
      "I am inside test19 and this will behave a decorator to any function that I am going to call \n",
      "I am inside test19 and this will behave a decorator to any function that I am going to call \n",
      "this is my teset20\n"
     ]
    }
   ],
   "source": [
    "test18(test20)()"
   ]
  },
  {
   "cell_type": "code",
   "execution_count": 162,
   "id": "52ef0d71",
   "metadata": {},
   "outputs": [
    {
     "data": {
      "text/plain": [
       "'C:\\\\Users\\\\kushj\\\\Codes\\\\FSDS\\\\Live_classes'"
      ]
     },
     "execution_count": 162,
     "metadata": {},
     "output_type": "execute_result"
    }
   ],
   "source": [
    "pwd()"
   ]
  },
  {
   "cell_type": "markdown",
   "id": "a197dd4a",
   "metadata": {},
   "source": []
  },
  {
   "cell_type": "code",
   "execution_count": 170,
   "id": "dc535a80",
   "metadata": {},
   "outputs": [],
   "source": [
    "def test20(func):\n",
    "    def test21():\n",
    "        func()\n",
    "        print(os.getcwd())\n",
    "    return test21\n"
   ]
  },
  {
   "cell_type": "code",
   "execution_count": 172,
   "id": "03b14b84",
   "metadata": {},
   "outputs": [],
   "source": [
    "@test20\n",
    "def test22():\n",
    "    print(\"this will print inside test22\")"
   ]
  },
  {
   "cell_type": "code",
   "execution_count": 173,
   "id": "8546564e",
   "metadata": {},
   "outputs": [
    {
     "name": "stdout",
     "output_type": "stream",
     "text": [
      "this will print inside test22\n",
      "C:\\Users\\kushj\\Codes\\FSDS\\Live_classes\n"
     ]
    }
   ],
   "source": [
    "test22()"
   ]
  },
  {
   "cell_type": "code",
   "execution_count": 177,
   "id": "00a71cf7",
   "metadata": {},
   "outputs": [
    {
     "data": {
      "text/plain": [
       "'\\nAbove code is equivalent to -\\n\\ndef test22():\\n    print(\"this will print inside test22\")\\n    \\ntest22 = test20(test22)'"
      ]
     },
     "execution_count": 177,
     "metadata": {},
     "output_type": "execute_result"
    }
   ],
   "source": [
    "@test20\n",
    "def test22():\n",
    "    print(\"this will print inside test22\")\n",
    " \n",
    "\n",
    "'''\n",
    "Above code is equivalent to -\n",
    "\n",
    "def test22():\n",
    "    print(\"this will print inside test22\")\n",
    "    \n",
    "test22 = test20(test22)'''"
   ]
  },
  {
   "cell_type": "code",
   "execution_count": 179,
   "id": "25e354c2",
   "metadata": {},
   "outputs": [],
   "source": [
    "@test18\n",
    "@test20\n",
    "def test22():\n",
    "    print(\"this will print inside test22\")"
   ]
  },
  {
   "cell_type": "code",
   "execution_count": 180,
   "id": "f922b999",
   "metadata": {},
   "outputs": [
    {
     "name": "stdout",
     "output_type": "stream",
     "text": [
      "I am inside test19 and this will behave a decorator to any function that I am going to call \n",
      "C:\\Users\\kushj\\Codes\\FSDS\\Live_classes\n",
      "this will print inside test22\n",
      "C:\\Users\\kushj\\Codes\\FSDS\\Live_classes\n"
     ]
    }
   ],
   "source": [
    "test22()"
   ]
  },
  {
   "cell_type": "code",
   "execution_count": 200,
   "id": "7823659f",
   "metadata": {},
   "outputs": [
    {
     "name": "stdout",
     "output_type": "stream",
     "text": [
      "Hello\n",
      "0.0005207061767578125\n"
     ]
    }
   ],
   "source": [
    "import time\n",
    "\n",
    "start = time.time()\n",
    "print(\"Hello\")\n",
    "end = time.time()\n",
    "print(end - start)"
   ]
  },
  {
   "cell_type": "code",
   "execution_count": 208,
   "id": "5e0f7199",
   "metadata": {},
   "outputs": [
    {
     "data": {
      "text/plain": [
       "1668254277.3755763"
      ]
     },
     "execution_count": 208,
     "metadata": {},
     "output_type": "execute_result"
    }
   ],
   "source": [
    "time.time()"
   ]
  },
  {
   "cell_type": "code",
   "execution_count": 209,
   "id": "3296b944",
   "metadata": {},
   "outputs": [],
   "source": [
    "def test25(func):\n",
    "    def test26():\n",
    "        print(\"this will give you execution time of a function\")\n",
    "        start = time.time()\n",
    "        print(func())\n",
    "        end = time.time();\n",
    "        print(end - start)\n",
    "    return test26"
   ]
  },
  {
   "cell_type": "code",
   "execution_count": 223,
   "id": "961ea128",
   "metadata": {},
   "outputs": [],
   "source": [
    "@test25\n",
    "def test27():\n",
    "    \"\"\"\n",
    "    This is a function which will take a decorator for calculating an execution timeing of a function\n",
    "    \"\"\"\n",
    "    l = [4,5,6,7,8,8]\n",
    "    l1 = []\n",
    "    for i in l:\n",
    "        if type(i) == int :\n",
    "            l1.append(i)\n",
    "    return l1"
   ]
  },
  {
   "cell_type": "code",
   "execution_count": 224,
   "id": "928085c9",
   "metadata": {},
   "outputs": [
    {
     "name": "stdout",
     "output_type": "stream",
     "text": [
      "this will give you execution time of a function\n",
      "[4, 5, 6, 7, 8, 8]\n",
      "0.0\n"
     ]
    }
   ],
   "source": [
    "test27()"
   ]
  },
  {
   "cell_type": "code",
   "execution_count": 17,
   "id": "fc591aac",
   "metadata": {},
   "outputs": [],
   "source": [
    "def test1(func):\n",
    "    def test2():\n",
    "        print(\"I am inside test2 \")\n",
    "        func()\n",
    "        print(func())\n",
    "        \n",
    "        print(\"function executed\")\n",
    "        return func()\n",
    "    return test2"
   ]
  },
  {
   "cell_type": "code",
   "execution_count": 18,
   "id": "ee36d705",
   "metadata": {},
   "outputs": [],
   "source": [
    "@test1\n",
    "def test3():\n",
    "    print(\"this is my test3\")"
   ]
  },
  {
   "cell_type": "code",
   "execution_count": 19,
   "id": "e7a5260a",
   "metadata": {},
   "outputs": [
    {
     "name": "stdout",
     "output_type": "stream",
     "text": [
      "I am inside test2 \n",
      "this is my test3\n",
      "this is my test3\n",
      "None\n",
      "function executed\n",
      "this is my test3\n"
     ]
    }
   ],
   "source": [
    "test3()"
   ]
  },
  {
   "cell_type": "code",
   "execution_count": 20,
   "id": "a26ca20a",
   "metadata": {},
   "outputs": [
    {
     "name": "stdout",
     "output_type": "stream",
     "text": [
      "I am inside test2 \n",
      "this is my test3\n",
      "this is my test3\n",
      "None\n",
      "function executed\n",
      "this is my test3\n"
     ]
    },
    {
     "data": {
      "text/plain": [
       "<function __main__.test1.<locals>.test2()>"
      ]
     },
     "execution_count": 20,
     "metadata": {},
     "output_type": "execute_result"
    }
   ],
   "source": [
    "test1(test3())"
   ]
  },
  {
   "cell_type": "code",
   "execution_count": 21,
   "id": "0cb74376",
   "metadata": {},
   "outputs": [],
   "source": [
    "@test1\n",
    "def test4():\n",
    "    return 5+6"
   ]
  },
  {
   "cell_type": "code",
   "execution_count": 22,
   "id": "f0f85b9e",
   "metadata": {},
   "outputs": [
    {
     "name": "stdout",
     "output_type": "stream",
     "text": [
      "I am inside test2 \n",
      "11\n",
      "function executed\n"
     ]
    },
    {
     "data": {
      "text/plain": [
       "11"
      ]
     },
     "execution_count": 22,
     "metadata": {},
     "output_type": "execute_result"
    }
   ],
   "source": [
    "test4()"
   ]
  },
  {
   "cell_type": "code",
   "execution_count": 23,
   "id": "873db8f6",
   "metadata": {},
   "outputs": [
    {
     "name": "stdout",
     "output_type": "stream",
     "text": [
      "I am inside test2 \n",
      "11\n",
      "function executed\n"
     ]
    },
    {
     "data": {
      "text/plain": [
       "int"
      ]
     },
     "execution_count": 23,
     "metadata": {},
     "output_type": "execute_result"
    }
   ],
   "source": [
    "type(test4())"
   ]
  },
  {
   "cell_type": "code",
   "execution_count": 24,
   "id": "c4d36c51",
   "metadata": {},
   "outputs": [
    {
     "name": "stdout",
     "output_type": "stream",
     "text": [
      "I am inside test2 \n",
      "11\n",
      "function executed\n"
     ]
    },
    {
     "data": {
      "text/plain": [
       "23"
      ]
     },
     "execution_count": 24,
     "metadata": {},
     "output_type": "execute_result"
    }
   ],
   "source": [
    "test4() + 12"
   ]
  },
  {
   "cell_type": "code",
   "execution_count": 26,
   "id": "5e916bfb",
   "metadata": {},
   "outputs": [],
   "source": [
    "def test5():\n",
    "    return 4+5"
   ]
  },
  {
   "cell_type": "code",
   "execution_count": 27,
   "id": "4ecc6a45",
   "metadata": {},
   "outputs": [
    {
     "data": {
      "text/plain": [
       "int"
      ]
     },
     "execution_count": 27,
     "metadata": {},
     "output_type": "execute_result"
    }
   ],
   "source": [
    "type(test5())"
   ]
  },
  {
   "cell_type": "code",
   "execution_count": 28,
   "id": "91ddbff3",
   "metadata": {},
   "outputs": [
    {
     "data": {
      "text/plain": [
       "54"
      ]
     },
     "execution_count": 28,
     "metadata": {},
     "output_type": "execute_result"
    }
   ],
   "source": [
    "test5() + 45"
   ]
  },
  {
   "cell_type": "code",
   "execution_count": 51,
   "id": "eabdffc3",
   "metadata": {},
   "outputs": [],
   "source": [
    "def test6(func):\n",
    "    def test7():\n",
    "        print(func())\n",
    "        print(\"this is my decorator function\")\n",
    "        return func()\n",
    "    return test7"
   ]
  },
  {
   "cell_type": "code",
   "execution_count": 52,
   "id": "f9cfe5b3",
   "metadata": {},
   "outputs": [],
   "source": [
    "def test8():\n",
    "    return 5 + 7\n"
   ]
  },
  {
   "cell_type": "code",
   "execution_count": 53,
   "id": "578359e3",
   "metadata": {},
   "outputs": [
    {
     "data": {
      "text/plain": [
       "24"
      ]
     },
     "execution_count": 53,
     "metadata": {},
     "output_type": "execute_result"
    }
   ],
   "source": [
    "test8() + 12"
   ]
  },
  {
   "cell_type": "code",
   "execution_count": 54,
   "id": "8fcef2c2",
   "metadata": {},
   "outputs": [],
   "source": [
    "@test6\n",
    "def test8():\n",
    "    return 5 + 7"
   ]
  },
  {
   "cell_type": "code",
   "execution_count": 55,
   "id": "dbc27665",
   "metadata": {},
   "outputs": [
    {
     "name": "stdout",
     "output_type": "stream",
     "text": [
      "12\n",
      "this is my decorator function\n"
     ]
    },
    {
     "data": {
      "text/plain": [
       "12"
      ]
     },
     "execution_count": 55,
     "metadata": {},
     "output_type": "execute_result"
    }
   ],
   "source": [
    "test8()"
   ]
  },
  {
   "cell_type": "code",
   "execution_count": 56,
   "id": "5be8a205",
   "metadata": {},
   "outputs": [
    {
     "name": "stdout",
     "output_type": "stream",
     "text": [
      "12\n",
      "this is my decorator function\n"
     ]
    },
    {
     "data": {
      "text/plain": [
       "112"
      ]
     },
     "execution_count": 56,
     "metadata": {},
     "output_type": "execute_result"
    }
   ],
   "source": [
    "test8() + 100"
   ]
  },
  {
   "cell_type": "code",
   "execution_count": 57,
   "id": "85855fef",
   "metadata": {},
   "outputs": [
    {
     "name": "stdout",
     "output_type": "stream",
     "text": [
      "12\n",
      "this is my decorator function\n"
     ]
    },
    {
     "data": {
      "text/plain": [
       "int"
      ]
     },
     "execution_count": 57,
     "metadata": {},
     "output_type": "execute_result"
    }
   ],
   "source": [
    "type(test8())"
   ]
  },
  {
   "cell_type": "code",
   "execution_count": 58,
   "id": "20db2dab",
   "metadata": {},
   "outputs": [],
   "source": [
    "def test6(func):\n",
    "    def test7():\n",
    "        func()\n",
    "        print(func())\n",
    "        print(\"this is my decorator function\")\n",
    "        return func()\n",
    "    return test7"
   ]
  },
  {
   "cell_type": "code",
   "execution_count": 59,
   "id": "334babdd",
   "metadata": {},
   "outputs": [],
   "source": [
    "def test8(a,b):\n",
    "    return a + b"
   ]
  },
  {
   "cell_type": "code",
   "execution_count": 60,
   "id": "394bced2",
   "metadata": {},
   "outputs": [
    {
     "data": {
      "text/plain": [
       "'sudhkumar'"
      ]
     },
     "execution_count": 60,
     "metadata": {},
     "output_type": "execute_result"
    }
   ],
   "source": [
    "test8(\"sudh\",\"kumar\")"
   ]
  },
  {
   "cell_type": "code",
   "execution_count": 61,
   "id": "9347d99f",
   "metadata": {},
   "outputs": [],
   "source": [
    "@test6\n",
    "def test8(a,b):\n",
    "    return a + b"
   ]
  },
  {
   "cell_type": "code",
   "execution_count": 62,
   "id": "daa0e7f6",
   "metadata": {},
   "outputs": [
    {
     "ename": "TypeError",
     "evalue": "test7() takes 0 positional arguments but 2 were given",
     "output_type": "error",
     "traceback": [
      "\u001b[1;31m---------------------------------------------------------------------------\u001b[0m",
      "\u001b[1;31mTypeError\u001b[0m                                 Traceback (most recent call last)",
      "Input \u001b[1;32mIn [62]\u001b[0m, in \u001b[0;36m<cell line: 1>\u001b[1;34m()\u001b[0m\n\u001b[1;32m----> 1\u001b[0m \u001b[43mtest8\u001b[49m\u001b[43m(\u001b[49m\u001b[38;5;124;43m\"\u001b[39;49m\u001b[38;5;124;43msudh\u001b[39;49m\u001b[38;5;124;43m\"\u001b[39;49m\u001b[43m,\u001b[49m\u001b[38;5;124;43m\"\u001b[39;49m\u001b[38;5;124;43mkumar\u001b[39;49m\u001b[38;5;124;43m\"\u001b[39;49m\u001b[43m)\u001b[49m\n",
      "\u001b[1;31mTypeError\u001b[0m: test7() takes 0 positional arguments but 2 were given"
     ]
    }
   ],
   "source": [
    "test8(\"sudh\",\"kumar\")"
   ]
  },
  {
   "cell_type": "code",
   "execution_count": 69,
   "id": "81571ab4",
   "metadata": {},
   "outputs": [],
   "source": [
    "def test6(func):\n",
    "    def test7(a,b):\n",
    "        func(a,b)\n",
    "        print(func(a,b))\n",
    "        print(\"this is my decorator function\")\n",
    "        return func(a,b)\n",
    "    return test7"
   ]
  },
  {
   "cell_type": "code",
   "execution_count": 70,
   "id": "0c022ae6",
   "metadata": {},
   "outputs": [],
   "source": [
    "@test6\n",
    "def test8(a,b):\n",
    "    return a + b"
   ]
  },
  {
   "cell_type": "code",
   "execution_count": 71,
   "id": "8b0dfe08",
   "metadata": {},
   "outputs": [
    {
     "name": "stdout",
     "output_type": "stream",
     "text": [
      "sudhkumar\n",
      "this is my decorator function\n"
     ]
    },
    {
     "data": {
      "text/plain": [
       "'sudhkumar'"
      ]
     },
     "execution_count": 71,
     "metadata": {},
     "output_type": "execute_result"
    }
   ],
   "source": [
    "test8(\"sudh\",\"kumar\")"
   ]
  },
  {
   "cell_type": "code",
   "execution_count": 72,
   "id": "bac56517",
   "metadata": {},
   "outputs": [],
   "source": [
    "@test6\n",
    "def test8(a,b,c):\n",
    "    return a + b + c"
   ]
  },
  {
   "cell_type": "code",
   "execution_count": 74,
   "id": "bd883de9",
   "metadata": {},
   "outputs": [
    {
     "ename": "TypeError",
     "evalue": "test7() takes 2 positional arguments but 3 were given",
     "output_type": "error",
     "traceback": [
      "\u001b[1;31m---------------------------------------------------------------------------\u001b[0m",
      "\u001b[1;31mTypeError\u001b[0m                                 Traceback (most recent call last)",
      "Input \u001b[1;32mIn [74]\u001b[0m, in \u001b[0;36m<cell line: 1>\u001b[1;34m()\u001b[0m\n\u001b[1;32m----> 1\u001b[0m \u001b[43mtest8\u001b[49m\u001b[43m(\u001b[49m\u001b[38;5;124;43m\"\u001b[39;49m\u001b[38;5;124;43msudh\u001b[39;49m\u001b[38;5;124;43m\"\u001b[39;49m\u001b[43m,\u001b[49m\u001b[38;5;124;43m\"\u001b[39;49m\u001b[38;5;124;43mkumar\u001b[39;49m\u001b[38;5;124;43m\"\u001b[39;49m\u001b[43m,\u001b[49m\u001b[43m \u001b[49m\u001b[38;5;124;43m\"\u001b[39;49m\u001b[38;5;124;43msir\u001b[39;49m\u001b[38;5;124;43m\"\u001b[39;49m\u001b[43m)\u001b[49m\n",
      "\u001b[1;31mTypeError\u001b[0m: test7() takes 2 positional arguments but 3 were given"
     ]
    }
   ],
   "source": [
    "test8(\"sudh\",\"kumar\", \"sir\")"
   ]
  },
  {
   "cell_type": "code",
   "execution_count": 89,
   "id": "b730196a",
   "metadata": {},
   "outputs": [],
   "source": [
    "def test6(func):\n",
    "    def test7(*args,**kwargs):\n",
    "        func(*args,**kwargs)\n",
    "        print(func(*args,**kwargs))\n",
    "        print(\"this is my decorator function\")\n",
    "        return func(*args,**kwargs)\n",
    "    return test7"
   ]
  },
  {
   "cell_type": "code",
   "execution_count": 90,
   "id": "b514098a",
   "metadata": {},
   "outputs": [],
   "source": [
    "@test6\n",
    "def test8(a,b,c):\n",
    "    return a + b + c"
   ]
  },
  {
   "cell_type": "code",
   "execution_count": 91,
   "id": "f8e0b711",
   "metadata": {},
   "outputs": [
    {
     "name": "stdout",
     "output_type": "stream",
     "text": [
      "sudhkumarsir\n",
      "this is my decorator function\n"
     ]
    },
    {
     "data": {
      "text/plain": [
       "'sudhkumarsir'"
      ]
     },
     "execution_count": 91,
     "metadata": {},
     "output_type": "execute_result"
    }
   ],
   "source": [
    "test8(\"sudh\",\"kumar\", \"sir\")"
   ]
  },
  {
   "cell_type": "code",
   "execution_count": 92,
   "id": "99134207",
   "metadata": {},
   "outputs": [],
   "source": [
    "@test6\n",
    "def test8(a,b):\n",
    "    return a + b"
   ]
  },
  {
   "cell_type": "code",
   "execution_count": 93,
   "id": "648c0cf6",
   "metadata": {},
   "outputs": [
    {
     "name": "stdout",
     "output_type": "stream",
     "text": [
      "sudhkumar\n",
      "this is my decorator function\n"
     ]
    },
    {
     "data": {
      "text/plain": [
       "'sudhkumar'"
      ]
     },
     "execution_count": 93,
     "metadata": {},
     "output_type": "execute_result"
    }
   ],
   "source": [
    "test8(\"sudh\",\"kumar\")"
   ]
  },
  {
   "cell_type": "code",
   "execution_count": 94,
   "id": "f23d7bc1",
   "metadata": {},
   "outputs": [],
   "source": [
    "@test6\n",
    "def test9(**kwargs):\n",
    "    return kwargs"
   ]
  },
  {
   "cell_type": "code",
   "execution_count": 95,
   "id": "9a100727",
   "metadata": {},
   "outputs": [
    {
     "name": "stdout",
     "output_type": "stream",
     "text": [
      "{'a': 89, 'b': 67}\n",
      "this is my decorator function\n"
     ]
    },
    {
     "data": {
      "text/plain": [
       "{'a': 89, 'b': 67}"
      ]
     },
     "execution_count": 95,
     "metadata": {},
     "output_type": "execute_result"
    }
   ],
   "source": [
    "test9(a=89,b = 67)"
   ]
  },
  {
   "cell_type": "code",
   "execution_count": 96,
   "id": "5853366f",
   "metadata": {},
   "outputs": [],
   "source": [
    "def test10(a,b):\n",
    "    return a+b"
   ]
  },
  {
   "cell_type": "code",
   "execution_count": 97,
   "id": "03ee6898",
   "metadata": {},
   "outputs": [
    {
     "data": {
      "text/plain": [
       "7"
      ]
     },
     "execution_count": 97,
     "metadata": {},
     "output_type": "execute_result"
    }
   ],
   "source": [
    "test10(3,4)"
   ]
  },
  {
   "cell_type": "code",
   "execution_count": 99,
   "id": "111f5887",
   "metadata": {},
   "outputs": [
    {
     "data": {
      "text/plain": [
       "'sudh ineuron'"
      ]
     },
     "execution_count": 99,
     "metadata": {},
     "output_type": "execute_result"
    }
   ],
   "source": [
    "test10(\"sudh\",\" ineuron\")"
   ]
  },
  {
   "cell_type": "code",
   "execution_count": 100,
   "id": "bf194734",
   "metadata": {},
   "outputs": [
    {
     "data": {
      "text/plain": [
       "<function __main__.<lambda>(a, b)>"
      ]
     },
     "execution_count": 100,
     "metadata": {},
     "output_type": "execute_result"
    }
   ],
   "source": [
    "lambda a, b : a + b"
   ]
  },
  {
   "cell_type": "code",
   "execution_count": 102,
   "id": "f20b36a0",
   "metadata": {},
   "outputs": [],
   "source": [
    "c = lambda a, b : a + b"
   ]
  },
  {
   "cell_type": "code",
   "execution_count": 101,
   "id": "978b58b8",
   "metadata": {},
   "outputs": [
    {
     "data": {
      "text/plain": [
       "<function __main__.test10(a, b)>"
      ]
     },
     "execution_count": 101,
     "metadata": {},
     "output_type": "execute_result"
    }
   ],
   "source": [
    "test10"
   ]
  },
  {
   "cell_type": "code",
   "execution_count": 103,
   "id": "601036a0",
   "metadata": {},
   "outputs": [
    {
     "data": {
      "text/plain": [
       "'sudh ineuron'"
      ]
     },
     "execution_count": 103,
     "metadata": {},
     "output_type": "execute_result"
    }
   ],
   "source": [
    "c(\"sudh\",\" ineuron\")"
   ]
  },
  {
   "cell_type": "code",
   "execution_count": 104,
   "id": "b4ffdedd",
   "metadata": {},
   "outputs": [],
   "source": [
    "d = lambda a, b, c, d : a*b+c/d"
   ]
  },
  {
   "cell_type": "code",
   "execution_count": 105,
   "id": "146fe150",
   "metadata": {},
   "outputs": [
    {
     "data": {
      "text/plain": [
       "12.833333333333334"
      ]
     },
     "execution_count": 105,
     "metadata": {},
     "output_type": "execute_result"
    }
   ],
   "source": [
    "d(3,4,5,6)"
   ]
  },
  {
   "cell_type": "code",
   "execution_count": 110,
   "id": "ab72e407",
   "metadata": {},
   "outputs": [],
   "source": [
    "e = lambda *args: args"
   ]
  },
  {
   "cell_type": "code",
   "execution_count": 111,
   "id": "783f0b4e",
   "metadata": {},
   "outputs": [
    {
     "data": {
      "text/plain": [
       "()"
      ]
     },
     "execution_count": 111,
     "metadata": {},
     "output_type": "execute_result"
    }
   ],
   "source": [
    "e()"
   ]
  },
  {
   "cell_type": "code",
   "execution_count": 112,
   "id": "2526fc73",
   "metadata": {},
   "outputs": [
    {
     "data": {
      "text/plain": [
       "(3, 4, 5)"
      ]
     },
     "execution_count": 112,
     "metadata": {},
     "output_type": "execute_result"
    }
   ],
   "source": [
    "e(3,4,5)"
   ]
  },
  {
   "cell_type": "code",
   "execution_count": 116,
   "id": "2cd92a70",
   "metadata": {},
   "outputs": [],
   "source": [
    "# map()"
   ]
  },
  {
   "cell_type": "code",
   "execution_count": 130,
   "id": "5277a905",
   "metadata": {},
   "outputs": [],
   "source": [
    "l = [1,2,3,4,5,6,7]\n",
    "l1 = []\n",
    "for i in l :\n",
    "    l1.append(i+10)\n",
    "    "
   ]
  },
  {
   "cell_type": "code",
   "execution_count": 121,
   "id": "e8ba1714",
   "metadata": {},
   "outputs": [
    {
     "data": {
      "text/plain": [
       "[11, 12, 13, 14, 15, 16, 17]"
      ]
     },
     "execution_count": 121,
     "metadata": {},
     "output_type": "execute_result"
    }
   ],
   "source": [
    "l1"
   ]
  },
  {
   "cell_type": "code",
   "execution_count": 122,
   "id": "137e8c98",
   "metadata": {},
   "outputs": [],
   "source": [
    "l = [11,12,13,14,15,16,17]"
   ]
  },
  {
   "cell_type": "code",
   "execution_count": 123,
   "id": "65b8e659",
   "metadata": {},
   "outputs": [],
   "source": [
    "# map()\n",
    "# filter()"
   ]
  },
  {
   "cell_type": "code",
   "execution_count": 125,
   "id": "909c4540",
   "metadata": {},
   "outputs": [
    {
     "ename": "SyntaxError",
     "evalue": "invalid syntax (906765642.py, line 1)",
     "output_type": "error",
     "traceback": [
      "\u001b[1;36m  Input \u001b[1;32mIn [125]\u001b[1;36m\u001b[0m\n\u001b[1;33m    defdef test25(a):\u001b[0m\n\u001b[1;37m           ^\u001b[0m\n\u001b[1;31mSyntaxError\u001b[0m\u001b[1;31m:\u001b[0m invalid syntax\n"
     ]
    }
   ],
   "source": [
    "defdef test25(a):\n",
    "    if a%2 == 0:\n",
    "        return False"
   ]
  },
  {
   "cell_type": "code",
   "execution_count": 126,
   "id": "d8c0719a",
   "metadata": {},
   "outputs": [
    {
     "data": {
      "text/plain": [
       "98"
      ]
     },
     "execution_count": 126,
     "metadata": {},
     "output_type": "execute_result"
    }
   ],
   "source": [
    "sum(l)"
   ]
  },
  {
   "cell_type": "code",
   "execution_count": 128,
   "id": "0d78b70c",
   "metadata": {},
   "outputs": [],
   "source": [
    "from functools import reduce"
   ]
  },
  {
   "cell_type": "code",
   "execution_count": 131,
   "id": "e12660c0",
   "metadata": {},
   "outputs": [
    {
     "data": {
      "text/plain": [
       "5040"
      ]
     },
     "execution_count": 131,
     "metadata": {},
     "output_type": "execute_result"
    }
   ],
   "source": [
    "reduce(lambda a,b:a*b,l)"
   ]
  },
  {
   "cell_type": "code",
   "execution_count": 132,
   "id": "9acbbdd5",
   "metadata": {},
   "outputs": [
    {
     "ename": "SyntaxError",
     "evalue": "duplicate argument 'b' in function definition (3411497009.py, line 1)",
     "output_type": "error",
     "traceback": [
      "\u001b[1;36m  Input \u001b[1;32mIn [132]\u001b[1;36m\u001b[0m\n\u001b[1;33m    reduce(lambda a, b, b: a*b*c, l)\u001b[0m\n\u001b[1;37m           ^\u001b[0m\n\u001b[1;31mSyntaxError\u001b[0m\u001b[1;31m:\u001b[0m duplicate argument 'b' in function definition\n"
     ]
    }
   ],
   "source": [
    "reduce(lambda a, b, b: a*b*c, l)"
   ]
  },
  {
   "cell_type": "code",
   "execution_count": 133,
   "id": "b5410841",
   "metadata": {},
   "outputs": [
    {
     "data": {
      "text/plain": [
       "[1, 2, 3, 4, 5, 6, 7]"
      ]
     },
     "execution_count": 133,
     "metadata": {},
     "output_type": "execute_result"
    }
   ],
   "source": [
    "l"
   ]
  },
  {
   "cell_type": "code",
   "execution_count": 135,
   "id": "9836910d",
   "metadata": {},
   "outputs": [
    {
     "data": {
      "text/plain": [
       "3"
      ]
     },
     "execution_count": 135,
     "metadata": {},
     "output_type": "execute_result"
    }
   ],
   "source": [
    "l1 = [3]\n",
    "reduce(lambda a,b : a*b, l1)"
   ]
  },
  {
   "cell_type": "code",
   "execution_count": 141,
   "id": "140d500c",
   "metadata": {},
   "outputs": [],
   "source": [
    "def test26() -> int:\n",
    "    '''this is my doc string to give a hint to next programmer'''\n",
    "    return \"this is my func\""
   ]
  },
  {
   "cell_type": "code",
   "execution_count": 142,
   "id": "af34a35b",
   "metadata": {},
   "outputs": [
    {
     "data": {
      "text/plain": [
       "'this is my func'"
      ]
     },
     "execution_count": 142,
     "metadata": {},
     "output_type": "execute_result"
    }
   ],
   "source": [
    "test26()"
   ]
  },
  {
   "cell_type": "code",
   "execution_count": 153,
   "id": "33215a6a",
   "metadata": {},
   "outputs": [],
   "source": [
    "def test26(a : int, b : \"func\", c : int = 234) -> int:\n",
    "    '''this is my doc string to give a hint to next programmer'''\n",
    "    return a + b + str(c)"
   ]
  },
  {
   "cell_type": "code",
   "execution_count": 156,
   "id": "41febd4f",
   "metadata": {},
   "outputs": [
    {
     "data": {
      "text/plain": [
       "'sudhkumar345'"
      ]
     },
     "execution_count": 156,
     "metadata": {},
     "output_type": "execute_result"
    }
   ],
   "source": [
    "test26(\"sudh\",\"kumar\", 345)"
   ]
  },
  {
   "cell_type": "code",
   "execution_count": null,
   "id": "cce0e4ff",
   "metadata": {},
   "outputs": [],
   "source": []
  }
 ],
 "metadata": {
  "kernelspec": {
   "display_name": "Python 3 (ipykernel)",
   "language": "python",
   "name": "python3"
  },
  "language_info": {
   "codemirror_mode": {
    "name": "ipython",
    "version": 3
   },
   "file_extension": ".py",
   "mimetype": "text/x-python",
   "name": "python",
   "nbconvert_exporter": "python",
   "pygments_lexer": "ipython3",
   "version": "3.9.13"
  }
 },
 "nbformat": 4,
 "nbformat_minor": 5
}
