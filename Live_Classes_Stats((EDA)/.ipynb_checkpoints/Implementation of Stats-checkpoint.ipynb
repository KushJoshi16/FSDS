{
 "cells": [
  {
   "cell_type": "markdown",
   "id": "675c974f",
   "metadata": {},
   "source": [
    "- how to check notmality of dats\n",
    "\n",
    "- z test\n",
    "\n",
    "- t test\n",
    "\n",
    "- chi square test\n",
    "\n",
    "- anova test"
   ]
  },
  {
   "cell_type": "code",
   "execution_count": null,
   "id": "749ba4fd",
   "metadata": {},
   "outputs": [],
   "source": []
  }
 ],
 "metadata": {
  "kernelspec": {
   "display_name": "EDA_env",
   "language": "python",
   "name": "eda_env"
  },
  "language_info": {
   "codemirror_mode": {
    "name": "ipython",
    "version": 3
   },
   "file_extension": ".py",
   "mimetype": "text/x-python",
   "name": "python",
   "nbconvert_exporter": "python",
   "pygments_lexer": "ipython3",
   "version": "3.11.3"
  }
 },
 "nbformat": 4,
 "nbformat_minor": 5
}
