{
 "cells": [
  {
   "cell_type": "code",
   "execution_count": 1,
   "id": "f99ef07c",
   "metadata": {},
   "outputs": [],
   "source": [
    "import numpy as np\n",
    "from statistics import mode"
   ]
  },
  {
   "cell_type": "code",
   "execution_count": 5,
   "id": "9f91877b",
   "metadata": {},
   "outputs": [],
   "source": [
    "population = np.random.randint(10,20,50)"
   ]
  },
  {
   "cell_type": "code",
   "execution_count": 6,
   "id": "070d7d89",
   "metadata": {},
   "outputs": [
    {
     "data": {
      "text/plain": [
       "array([12, 13, 16, 13, 11, 11, 17, 10, 18, 16, 14, 16, 19, 13, 16, 11, 17,\n",
       "       17, 11, 18, 11, 18, 15, 11, 12, 11, 18, 19, 17, 15, 19, 11, 18, 18,\n",
       "       12, 10, 14, 13, 18, 11, 10, 16, 12, 14, 10, 17, 15, 12, 14, 11])"
      ]
     },
     "execution_count": 6,
     "metadata": {},
     "output_type": "execute_result"
    }
   ],
   "source": [
    "population"
   ]
  },
  {
   "cell_type": "code",
   "execution_count": 10,
   "id": "0eb05793",
   "metadata": {},
   "outputs": [
    {
     "data": {
      "text/plain": [
       "14.22"
      ]
     },
     "execution_count": 10,
     "metadata": {},
     "output_type": "execute_result"
    }
   ],
   "source": [
    "np.mean(population)"
   ]
  },
  {
   "cell_type": "code",
   "execution_count": 11,
   "id": "67bd00e1",
   "metadata": {},
   "outputs": [
    {
     "data": {
      "text/plain": [
       "14.0"
      ]
     },
     "execution_count": 11,
     "metadata": {},
     "output_type": "execute_result"
    }
   ],
   "source": [
    "np.median(population)"
   ]
  },
  {
   "cell_type": "code",
   "execution_count": 13,
   "id": "03e99248",
   "metadata": {},
   "outputs": [
    {
     "data": {
      "text/plain": [
       "11"
      ]
     },
     "execution_count": 13,
     "metadata": {},
     "output_type": "execute_result"
    }
   ],
   "source": [
    "mode(population)"
   ]
  },
  {
   "cell_type": "code",
   "execution_count": 14,
   "id": "72579741",
   "metadata": {},
   "outputs": [
    {
     "name": "stdout",
     "output_type": "stream",
     "text": [
      "mean of the population 14.22\n",
      "median of the population 14.0\n",
      "mode of the population 11\n"
     ]
    }
   ],
   "source": [
    "print(f\"mean of the population {np.mean(population)}\")\n",
    "print(f\"median of the population {np.median(population)}\")\n",
    "print(f\"mode of the population {mode(population)}\")"
   ]
  },
  {
   "cell_type": "code",
   "execution_count": 17,
   "id": "5d5994ea",
   "metadata": {},
   "outputs": [],
   "source": [
    "sample = np.random.choice(population,20)"
   ]
  },
  {
   "cell_type": "code",
   "execution_count": 18,
   "id": "464b6bb8",
   "metadata": {},
   "outputs": [
    {
     "name": "stdout",
     "output_type": "stream",
     "text": [
      "mean of the population 14.1\n",
      "median of the population 14.0\n",
      "mode of the population 14\n"
     ]
    }
   ],
   "source": [
    "print(f\"mean of the population {np.mean(sample)}\")\n",
    "print(f\"median of the population {np.median(sample)}\")\n",
    "print(f\"mode of the population {mode(sample)}\")"
   ]
  },
  {
   "cell_type": "code",
   "execution_count": 19,
   "id": "b2dd2934",
   "metadata": {},
   "outputs": [],
   "source": [
    "sample1 = np.random.choice(population,20)\n",
    "sample2 = np.random.choice(population,20)\n",
    "sample3 = np.random.choice(population,20)\n",
    "sample4 = np.random.choice(population,20)"
   ]
  },
  {
   "cell_type": "code",
   "execution_count": 23,
   "id": "374cebf6",
   "metadata": {},
   "outputs": [
    {
     "name": "stdout",
     "output_type": "stream",
     "text": [
      "[16 16 13 11 17 14 10 14 13 13 13 11 17 12 10 13 11 16 11 18]\n",
      "============================================================\n",
      "[11 13 16 17 15 15 11 13 13 18 17 17 14 16 10 17 11 15 10 12]\n",
      "============================================================\n",
      "[18 16 14 12 17 12 11 11 11 11 12 18 10 17 18 18 11 11 12 12]\n",
      "============================================================\n",
      "[18 11 11 17 12 11 12 13 19 16 16 10 11 12 11 11 11 15 11 12]\n"
     ]
    }
   ],
   "source": [
    "print(sample1)\n",
    "print(60*'=')\n",
    "print(sample2)\n",
    "print(60*'=')\n",
    "print(sample3)\n",
    "print(60*'=')\n",
    "print(sample4)"
   ]
  },
  {
   "cell_type": "code",
   "execution_count": 27,
   "id": "7ecc2438",
   "metadata": {},
   "outputs": [],
   "source": [
    "mean_of_samples = []\n",
    "\n",
    "all_sample = [sample1,sample2,sample3,sample4]\n",
    "\n",
    "mean_of_samples = [np.mean(sample) for sample in all_sample]"
   ]
  },
  {
   "cell_type": "code",
   "execution_count": 28,
   "id": "2489df70",
   "metadata": {},
   "outputs": [
    {
     "data": {
      "text/plain": [
       "[13.45, 14.05, 13.6, 13.0]"
      ]
     },
     "execution_count": 28,
     "metadata": {},
     "output_type": "execute_result"
    }
   ],
   "source": [
    "mean_of_samples"
   ]
  },
  {
   "cell_type": "markdown",
   "id": "3b325dd3",
   "metadata": {},
   "source": [
    "## Central Limit Theorem"
   ]
  },
  {
   "cell_type": "code",
   "execution_count": 35,
   "id": "646b8934",
   "metadata": {},
   "outputs": [],
   "source": [
    "population = np.random.binomial(10,0.5,10000)"
   ]
  },
  {
   "cell_type": "code",
   "execution_count": 36,
   "id": "6bc5f4c5",
   "metadata": {},
   "outputs": [
    {
     "data": {
      "text/plain": [
       "10000"
      ]
     },
     "execution_count": 36,
     "metadata": {},
     "output_type": "execute_result"
    }
   ],
   "source": [
    "len(population)"
   ]
  },
  {
   "cell_type": "code",
   "execution_count": 37,
   "id": "b49cc26c",
   "metadata": {},
   "outputs": [
    {
     "name": "stderr",
     "output_type": "stream",
     "text": [
      "/var/folders/5g/6_cgxm212rd55ccrgbcy0gtr0000gn/T/ipykernel_51914/2113714884.py:2: UserWarning: \n",
      "\n",
      "`distplot` is a deprecated function and will be removed in seaborn v0.14.0.\n",
      "\n",
      "Please adapt your code to use either `displot` (a figure-level function with\n",
      "similar flexibility) or `histplot` (an axes-level function for histograms).\n",
      "\n",
      "For a guide to updating your code to use the new functions, please see\n",
      "https://gist.github.com/mwaskom/de44147ed2974457ad6372750bbe5751\n",
      "\n",
      "  sns.distplot(population)\n"
     ]
    },
    {
     "data": {
      "text/plain": [
       "<AxesSubplot: ylabel='Density'>"
      ]
     },
     "execution_count": 37,
     "metadata": {},
     "output_type": "execute_result"
    },
    {
     "data": {
      "image/png": "[encoded data removed]",
      "text/plain": [
       "<Figure size 640x480 with 1 Axes>"
      ]
     },
     "metadata": {},
     "output_type": "display_data"
    }
   ],
   "source": [
    "import seaborn as sns\n",
    "sns.distplot(population)"
   ]
  },
  {
   "cell_type": "code",
   "execution_count": 38,
   "id": "5c8151a3",
   "metadata": {
    "scrolled": true
   },
   "outputs": [
    {
     "data": {
      "text/plain": [
       "3000"
      ]
     },
     "execution_count": 38,
     "metadata": {},
     "output_type": "execute_result"
    }
   ],
   "source": [
    "int(len(population)*0.30)"
   ]
  },
  {
   "cell_type": "code",
   "execution_count": 39,
   "id": "0801c87e",
   "metadata": {},
   "outputs": [],
   "source": [
    "size = int(len(population)*0.30)"
   ]
  },
  {
   "cell_type": "code",
   "execution_count": 42,
   "id": "e0323e3c",
   "metadata": {},
   "outputs": [],
   "source": [
    "sample_mean = []\n",
    "for i in range(30):\n",
    "        sample = np.random.choice(population,size=size)\n",
    "        sample_mean.append(np.mean(sample))"
   ]
  },
  {
   "cell_type": "code",
   "execution_count": 45,
   "id": "89681ef0",
   "metadata": {},
   "outputs": [
    {
     "data": {
      "text/plain": [
       "[4.984,\n",
       " 4.981333333333334,\n",
       " 4.9366666666666665,\n",
       " 4.965,\n",
       " 4.965333333333334,\n",
       " 4.99,\n",
       " 4.962,\n",
       " 4.945333333333333,\n",
       " 4.961,\n",
       " 4.968333333333334,\n",
       " 5.01,\n",
       " 4.982,\n",
       " 5.015666666666666,\n",
       " 4.907333333333334,\n",
       " 5.006666666666667,\n",
       " 4.950666666666667,\n",
       " 4.995,\n",
       " 5.024666666666667,\n",
       " 4.971,\n",
       " 4.926,\n",
       " 4.987333333333333,\n",
       " 4.946666666666666,\n",
       " 4.988666666666667,\n",
       " 4.975333333333333,\n",
       " 5.018666666666666,\n",
       " 4.950666666666667,\n",
       " 4.973333333333334,\n",
       " 5.012666666666667,\n",
       " 4.983666666666666,\n",
       " 4.9286666666666665]"
      ]
     },
     "execution_count": 45,
     "metadata": {},
     "output_type": "execute_result"
    }
   ],
   "source": [
    "sample_mean"
   ]
  },
  {
   "cell_type": "code",
   "execution_count": 46,
   "id": "03081de8",
   "metadata": {},
   "outputs": [
    {
     "name": "stderr",
     "output_type": "stream",
     "text": [
      "/var/folders/5g/6_cgxm212rd55ccrgbcy0gtr0000gn/T/ipykernel_51914/514007480.py:1: UserWarning: \n",
      "\n",
      "`distplot` is a deprecated function and will be removed in seaborn v0.14.0.\n",
      "\n",
      "Please adapt your code to use either `displot` (a figure-level function with\n",
      "similar flexibility) or `histplot` (an axes-level function for histograms).\n",
      "\n",
      "For a guide to updating your code to use the new functions, please see\n",
      "https://gist.github.com/mwaskom/de44147ed2974457ad6372750bbe5751\n",
      "\n",
      "  sns.distplot(sample_mean)\n"
     ]
    },
    {
     "data": {
      "text/plain": [
       "<AxesSubplot: ylabel='Density'>"
      ]
     },
     "execution_count": 46,
     "metadata": {},
     "output_type": "execute_result"
    },
    {
     "data": {
      "image/png": "[encoded data removed]",
      "text/plain": [
       "<Figure size 640x480 with 1 Axes>"
      ]
     },
     "metadata": {},
     "output_type": "display_data"
    }
   ],
   "source": [
    "sns.distplot(sample_mean)"
   ]
  },
  {
   "cell_type": "code",
   "execution_count": 70,
   "id": "163f687b",
   "metadata": {},
   "outputs": [],
   "source": [
    "sample_mean = []\n",
    "for i in range(100):\n",
    "        sample = np.random.choice(population,size=size)\n",
    "        sample_mean.append(np.mean(sample))"
   ]
  },
  {
   "cell_type": "code",
   "execution_count": 71,
   "id": "d8f2390f",
   "metadata": {},
   "outputs": [
    {
     "name": "stderr",
     "output_type": "stream",
     "text": [
      "/var/folders/5g/6_cgxm212rd55ccrgbcy0gtr0000gn/T/ipykernel_51914/514007480.py:1: UserWarning: \n",
      "\n",
      "`distplot` is a deprecated function and will be removed in seaborn v0.14.0.\n",
      "\n",
      "Please adapt your code to use either `displot` (a figure-level function with\n",
      "similar flexibility) or `histplot` (an axes-level function for histograms).\n",
      "\n",
      "For a guide to updating your code to use the new functions, please see\n",
      "https://gist.github.com/mwaskom/de44147ed2974457ad6372750bbe5751\n",
      "\n",
      "  sns.distplot(sample_mean)\n"
     ]
    },
    {
     "data": {
      "text/plain": [
       "<AxesSubplot: ylabel='Density'>"
      ]
     },
     "execution_count": 71,
     "metadata": {},
     "output_type": "execute_result"
    },
    {
     "data": {
      "image/png": "[encoded data removed]",
      "text/plain": [
       "<Figure size 640x480 with 1 Axes>"
      ]
     },
     "metadata": {},
     "output_type": "display_data"
    }
   ],
   "source": [
    "sns.distplot(sample_mean)"
   ]
  },
  {
   "cell_type": "code",
   "execution_count": 72,
   "id": "7ad9dedf",
   "metadata": {},
   "outputs": [],
   "source": [
    "sample_mean = []\n",
    "for i in range(500):\n",
    "        sample = np.random.choice(population,size=size)\n",
    "        sample_mean.append(np.mean(sample))"
   ]
  },
  {
   "cell_type": "code",
   "execution_count": 73,
   "id": "d2b14cc0",
   "metadata": {
    "scrolled": true
   },
   "outputs": [
    {
     "name": "stderr",
     "output_type": "stream",
     "text": [
      "/var/folders/5g/6_cgxm212rd55ccrgbcy0gtr0000gn/T/ipykernel_51914/514007480.py:1: UserWarning: \n",
      "\n",
      "`distplot` is a deprecated function and will be removed in seaborn v0.14.0.\n",
      "\n",
      "Please adapt your code to use either `displot` (a figure-level function with\n",
      "similar flexibility) or `histplot` (an axes-level function for histograms).\n",
      "\n",
      "For a guide to updating your code to use the new functions, please see\n",
      "https://gist.github.com/mwaskom/de44147ed2974457ad6372750bbe5751\n",
      "\n",
      "  sns.distplot(sample_mean)\n"
     ]
    },
    {
     "data": {
      "text/plain": [
       "<AxesSubplot: ylabel='Density'>"
      ]
     },
     "execution_count": 73,
     "metadata": {},
     "output_type": "execute_result"
    },
    {
     "data": {
      "image/png": "[encoded data removed]",
      "text/plain": [
       "<Figure size 640x480 with 1 Axes>"
      ]
     },
     "metadata": {},
     "output_type": "display_data"
    }
   ],
   "source": [
    "sns.distplot(sample_mean)"
   ]
  },
  {
   "cell_type": "code",
   "execution_count": 74,
   "id": "e249178f",
   "metadata": {},
   "outputs": [],
   "source": [
    "sample_mean = []\n",
    "for i in range(1000):\n",
    "        sample = np.random.choice(population,size=size)\n",
    "        sample_mean.append(np.mean(sample))"
   ]
  },
  {
   "cell_type": "code",
   "execution_count": 75,
   "id": "2e7ba4a4",
   "metadata": {
    "scrolled": true
   },
   "outputs": [
    {
     "name": "stderr",
     "output_type": "stream",
     "text": [
      "/var/folders/5g/6_cgxm212rd55ccrgbcy0gtr0000gn/T/ipykernel_51914/514007480.py:1: UserWarning: \n",
      "\n",
      "`distplot` is a deprecated function and will be removed in seaborn v0.14.0.\n",
      "\n",
      "Please adapt your code to use either `displot` (a figure-level function with\n",
      "similar flexibility) or `histplot` (an axes-level function for histograms).\n",
      "\n",
      "For a guide to updating your code to use the new functions, please see\n",
      "https://gist.github.com/mwaskom/de44147ed2974457ad6372750bbe5751\n",
      "\n",
      "  sns.distplot(sample_mean)\n"
     ]
    },
    {
     "data": {
      "text/plain": [
       "<AxesSubplot: ylabel='Density'>"
      ]
     },
     "execution_count": 75,
     "metadata": {},
     "output_type": "execute_result"
    },
    {
     "data": {
      "image/png": "[encoded data removed]",
      "text/plain": [
       "<Figure size 640x480 with 1 Axes>"
      ]
     },
     "metadata": {},
     "output_type": "display_data"
    }
   ],
   "source": [
    "sns.distplot(sample_mean)"
   ]
  },
  {
   "cell_type": "code",
   "execution_count": 77,
   "id": "3d840628",
   "metadata": {},
   "outputs": [
    {
     "data": {
      "text/plain": [
       "4.970768999999999"
      ]
     },
     "execution_count": 77,
     "metadata": {},
     "output_type": "execute_result"
    }
   ],
   "source": [
    "np.mean(sample_mean)"
   ]
  },
  {
   "cell_type": "code",
   "execution_count": 78,
   "id": "531f0ca9",
   "metadata": {},
   "outputs": [
    {
     "data": {
      "text/plain": [
       "4.9706"
      ]
     },
     "execution_count": 78,
     "metadata": {},
     "output_type": "execute_result"
    }
   ],
   "source": [
    "np.mean(population)"
   ]
  },
  {
   "cell_type": "markdown",
   "id": "b3d281a8",
   "metadata": {},
   "source": [
    "## Confidence Interval and Margin of error"
   ]
  },
  {
   "cell_type": "code",
   "execution_count": 98,
   "id": "9b6eb935",
   "metadata": {},
   "outputs": [],
   "source": [
    "population = np.random.randint(10,20,50)"
   ]
  },
  {
   "cell_type": "code",
   "execution_count": 99,
   "id": "c94d109a",
   "metadata": {},
   "outputs": [],
   "source": [
    "sample1 = np.random.choice(population,20)\n",
    "sample2 = np.random.choice(population,20)\n",
    "sample3 = np.random.choice(population,20)\n",
    "sample4 = np.random.choice(population,20)"
   ]
  },
  {
   "cell_type": "code",
   "execution_count": 100,
   "id": "8669b8cc",
   "metadata": {},
   "outputs": [],
   "source": [
    "mean_of_samples = [np.mean(sample) for sample in all_sample]"
   ]
  },
  {
   "cell_type": "code",
   "execution_count": 101,
   "id": "8ce00202",
   "metadata": {},
   "outputs": [
    {
     "data": {
      "text/plain": [
       "[13.45, 14.05, 13.6, 13.0]"
      ]
     },
     "execution_count": 101,
     "metadata": {},
     "output_type": "execute_result"
    }
   ],
   "source": [
    "mean_of_samples"
   ]
  },
  {
   "cell_type": "code",
   "execution_count": 79,
   "id": "42e87319",
   "metadata": {},
   "outputs": [],
   "source": [
    "import scipy.stats as stats"
   ]
  },
  {
   "cell_type": "code",
   "execution_count": 95,
   "id": "4570c604",
   "metadata": {},
   "outputs": [
    {
     "data": {
      "text/plain": [
       "2.3263478740408408"
      ]
     },
     "execution_count": 95,
     "metadata": {},
     "output_type": "execute_result"
    }
   ],
   "source": [
    "stats.norm.ppf(q=0.95)\n",
    "stats.norm.ppf(q=0.975)\n",
    "stats.norm.ppf(q=0.99)"
   ]
  },
  {
   "cell_type": "code",
   "execution_count": 102,
   "id": "84b0380c",
   "metadata": {},
   "outputs": [],
   "source": [
    "z_critical = stats.norm.ppf(q=0.975)"
   ]
  },
  {
   "cell_type": "code",
   "execution_count": 103,
   "id": "0729384b",
   "metadata": {},
   "outputs": [],
   "source": [
    "t_critical = stats.t.ppf(q=0.975, df=24)"
   ]
  },
  {
   "cell_type": "code",
   "execution_count": 107,
   "id": "800873a2",
   "metadata": {},
   "outputs": [],
   "source": [
    "margin_of_error = z_critical * (np.std(mean_of_samples)/np.sqrt(20)) \n",
    "#sample size is 20 therefore sqrt(20) is used"
   ]
  },
  {
   "cell_type": "code",
   "execution_count": 110,
   "id": "74e5af14",
   "metadata": {},
   "outputs": [
    {
     "data": {
      "text/plain": [
       "13.360652023641892"
      ]
     },
     "execution_count": 110,
     "metadata": {},
     "output_type": "execute_result"
    }
   ],
   "source": [
    "np.mean(mean_of_samples) - margin_of_error"
   ]
  },
  {
   "cell_type": "code",
   "execution_count": 111,
   "id": "34ee98ca",
   "metadata": {},
   "outputs": [
    {
     "data": {
      "text/plain": [
       "13.689347976358109"
      ]
     },
     "execution_count": 111,
     "metadata": {},
     "output_type": "execute_result"
    }
   ],
   "source": [
    "np.mean(mean_of_samples) + margin_of_error"
   ]
  },
  {
   "cell_type": "markdown",
   "id": "f0ac88e2",
   "metadata": {},
   "source": [
    "# Z-test"
   ]
  },
  {
   "cell_type": "code",
   "execution_count": 115,
   "id": "ac120724",
   "metadata": {},
   "outputs": [],
   "source": [
    "from numpy.random import randn\n",
    "population=randn(100)"
   ]
  },
  {
   "cell_type": "code",
   "execution_count": 116,
   "id": "353bd5a9",
   "metadata": {},
   "outputs": [
    {
     "data": {
      "text/plain": [
       "array([-0.29734008, -1.74291309, -1.6236272 ,  0.99309432,  1.47298203,\n",
       "       -0.58559757, -0.4763968 ,  2.78404694,  0.59070247, -0.88530729,\n",
       "        0.68560464, -0.32256612,  1.58077126, -0.2337519 ,  1.00558734,\n",
       "       -2.6240824 ,  0.21624209, -1.36778439,  1.05583661, -0.48500172,\n",
       "        1.51944932,  0.04189791,  1.94062452, -0.87134462,  0.39250762,\n",
       "       -0.21658632,  0.08829181, -0.16721132,  1.1128856 , -0.38173459,\n",
       "       -1.1639865 , -0.08369064,  2.39903859,  1.4044319 ,  0.17619288,\n",
       "        0.71062432, -0.76921156, -0.6288463 ,  0.37805216, -0.06431595,\n",
       "        0.60856371,  0.06856377,  2.25787142, -0.60093849,  1.12228455,\n",
       "       -1.06512279,  0.46767173, -0.18260042,  0.58625703,  1.99741145])"
      ]
     },
     "execution_count": 116,
     "metadata": {},
     "output_type": "execute_result"
    }
   ],
   "source": [
    "data"
   ]
  },
  {
   "cell_type": "code",
   "execution_count": 117,
   "id": "30e08c53",
   "metadata": {},
   "outputs": [
    {
     "name": "stderr",
     "output_type": "stream",
     "text": [
      "/var/folders/5g/6_cgxm212rd55ccrgbcy0gtr0000gn/T/ipykernel_51914/1851847670.py:1: UserWarning: \n",
      "\n",
      "`distplot` is a deprecated function and will be removed in seaborn v0.14.0.\n",
      "\n",
      "Please adapt your code to use either `displot` (a figure-level function with\n",
      "similar flexibility) or `histplot` (an axes-level function for histograms).\n",
      "\n",
      "For a guide to updating your code to use the new functions, please see\n",
      "https://gist.github.com/mwaskom/de44147ed2974457ad6372750bbe5751\n",
      "\n",
      "  sns.distplot(data)\n"
     ]
    },
    {
     "data": {
      "text/plain": [
       "<AxesSubplot: ylabel='Density'>"
      ]
     },
     "execution_count": 117,
     "metadata": {},
     "output_type": "execute_result"
    },
    {
     "data": {
      "image/png": "[encoded data removed]",
      "text/plain": [
       "<Figure size 640x480 with 1 Axes>"
      ]
     },
     "metadata": {},
     "output_type": "display_data"
    }
   ],
   "source": [
    "sns.distplot(data)"
   ]
  },
  {
   "cell_type": "code",
   "execution_count": 120,
   "id": "7794ecdc",
   "metadata": {},
   "outputs": [
    {
     "name": "stdout",
     "output_type": "stream",
     "text": [
      "Mean : -0.015944908582075625, Std Dev : 1.068580748599384\n"
     ]
    }
   ],
   "source": [
    "print(f\"Mean : {np.mean(population)}, Std Dev : {np.std(population)}\")"
   ]
  },
  {
   "cell_type": "markdown",
   "id": "8e1ac5c1",
   "metadata": {},
   "source": [
    "C.I. = 95%\n",
    "ALPHA=0.05(5%)"
   ]
  },
  {
   "cell_type": "markdown",
   "id": "61c41c5f",
   "metadata": {},
   "source": [
    "p <= 0.05 #REJECT THE NULL HYPOTHESIS\n",
    "P> 0.05 #ACCEPT THE NULL HYPOTHESIS"
   ]
  },
  {
   "cell_type": "markdown",
   "id": "87b78720",
   "metadata": {},
   "source": [
    "p <= ALPHA\n",
    "P> ALPHA"
   ]
  },
  {
   "cell_type": "code",
   "execution_count": 125,
   "id": "ddfe2d63",
   "metadata": {},
   "outputs": [],
   "source": [
    "from statsmodels.stats.weightstats import ztest"
   ]
  },
  {
   "cell_type": "code",
   "execution_count": 126,
   "id": "55a7ee6a",
   "metadata": {},
   "outputs": [],
   "source": [
    "null_mean = -0.015944908582075625"
   ]
  },
  {
   "cell_type": "code",
   "execution_count": 127,
   "id": "20cb579d",
   "metadata": {},
   "outputs": [],
   "source": [
    "z_score, p_value = ztest(population,value=null_mean,alternative='larger')"
   ]
  },
  {
   "cell_type": "code",
   "execution_count": 129,
   "id": "ae4002c8",
   "metadata": {},
   "outputs": [
    {
     "data": {
      "text/plain": [
       "0.5"
      ]
     },
     "execution_count": 129,
     "metadata": {},
     "output_type": "execute_result"
    }
   ],
   "source": [
    "p_value"
   ]
  },
  {
   "cell_type": "code",
   "execution_count": 130,
   "id": "80ef0b82",
   "metadata": {},
   "outputs": [],
   "source": [
    "alpha = 0.05"
   ]
  },
  {
   "cell_type": "code",
   "execution_count": 131,
   "id": "4f22c646",
   "metadata": {},
   "outputs": [
    {
     "name": "stdout",
     "output_type": "stream",
     "text": [
      "We are going to accept the null hypothesis\n"
     ]
    }
   ],
   "source": [
    "if(p_value<alpha):\n",
    "    print(\"Rejet the null hypothesis\")\n",
    "else:\n",
    "    print(\"We are going to accept the null hypothesis\")"
   ]
  },
  {
   "cell_type": "code",
   "execution_count": null,
   "id": "a60f26d1",
   "metadata": {},
   "outputs": [],
   "source": []
  }
 ],
 "metadata": {
  "kernelspec": {
   "display_name": "Python 3 (ipykernel)",
   "language": "python",
   "name": "python3"
  },
  "language_info": {
   "codemirror_mode": {
    "name": "ipython",
    "version": 3
   },
   "file_extension": ".py",
   "mimetype": "text/x-python",
   "name": "python",
   "nbconvert_exporter": "python",
   "pygments_lexer": "ipython3",
   "version": "3.10.12"
  }
 },
 "nbformat": 4,
 "nbformat_minor": 5
}
